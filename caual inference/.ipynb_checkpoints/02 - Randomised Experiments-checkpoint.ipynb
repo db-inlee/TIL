{
 "cells": [
  {
   "cell_type": "markdown",
   "id": "1849e97c",
   "metadata": {},
   "source": [
    "# 02. Randomised Experiments\n",
    "\n",
    "이전 1장에서 연관성(association)과 인과성(causation)이 어떻게 다른지 살펴보았다.\n",
    "\n",
    "$E[Y|T=1] - E[Y|T=0] = \\underbrace{E[Y_1 - Y_0|T=1]}_{ATT} + \\underbrace{\\{ E[Y_0|T=1] - E[Y_0|T=0] \\}}_{BIAS}$\n",
    "\n",
    "\n",
    "- 연관성은 편향이 존재하지 않을 때 인과성이 될 수 있다.\n",
    "    - 타겟군과 대조군이 처치를 받은 것을 제외하고, 타겟군과 대조군이 동등하거나 유사하다면 연관성이 인과성이 될 수 있음"
   ]
  },
  {
   "cell_type": "markdown",
   "id": "e58cd70c",
   "metadata": {},
   "source": [
    "## 이번 장에서는 무작위 실험(Randomised Experiments)를 통해 편향을 없애는 법을 알아보고자 함\n",
    "\n",
    "- 랜덤분배는 잠재적 결과(Potential Outcomes)를 처치(Treatment)로부터 독립적으로 만듦으로써 편향을 제거함\n",
    "\n",
    "  $(Y_0, Y_1) \\perp\\!\\!\\!\\perp T$\n",
    "  \n",
    "  \n",
    "- 잠재적 결과란, 결과가 만약 처치($Y_1$)와 대조($Y_0$)의 영향 아래 있었다면 어땠을까를 가정하는 것\n",
    "- 무작위 시도에서는, **처치가 결과의 원인**이 된다고 생각하기 때문에 결과가 처치로부터 **독립적**이길 바라지 않는다\n",
    "\n",
    "\n",
    "\n",
    "\n",
    "\n",
    "\n",
    "\n",
    "\n",
    "\n",
    "- 잠재적 결과가 처치로부터 무관하다는 것은 기대대로라면 처치군(Treatment Group)이나 대조군(Control Group)에서도 같은 결과가 나와야 한다는 의미\n",
    "    - 처치군과 대조군이 비교 가능하다는 의미 -> 처치군이 실험자에게 처치 이전의 결과에 대해 그 어떠한 정보도 주지 않는다는 것을 의미\n",
    "- 결과적으로  $(Y_0, Y_1) \\bot T$ 수식은 처치(Treatment)가 처치군의 결과와 대조군의 결과 사이에서 발생한 유일한 차이라는 것을 의미.\n"
   ]
  },
  {
   "cell_type": "markdown",
   "id": "93de3391",
   "metadata": {},
   "source": [
    "$E[Y_0|T=0] = E[Y_0|T=1] = E[Y0]$  \n",
    "\n",
    "$E[Y|T = 1] - E[Y|T = 0] = E[Y_1 - Y_0] = ATE$\n",
    "\n",
    "수식에 의해 랜덤 분배는 대조군과 처치군 간의 처치효과라는 차이를 만들 수 있다."
   ]
  },
  {
   "cell_type": "markdown",
   "id": "9e33fdb0",
   "metadata": {},
   "source": [
    "## 온라인 수업이 학습에 미치는 영향??"
   ]
  },
  {
   "cell_type": "markdown",
   "id": "cde9f2cb",
   "metadata": {},
   "source": [
    "- 온라인 학습 환경은 부동산, 교통 등의 측면에서 차별화된 장점을 지니고 있다.\n",
    "- 또한 세계적인 수준의 학습 컨텐츠를 이용할 수 있다는 장점 있음.\n",
    "\n",
    "하지만 이러한 장점에도 불구하고 우리는 온라인 수업이 학습 퍼포먼스에 긍정적인 영향을 미치는지 부정적인 영향을 미치는지 궁금해한다.\n",
    "\n",
    "이에 대한 답으로 온라인 수업을 진행하는 수업의 학생들과 오프라인 강의를 듣는 학생들을 비교할 수 있다.\n",
    "    \n",
    "1. 온라인 수업이 실제 오프라인 수업이었어도 평균적인 학생들보다 더 잘하는 학생들만을 끌어들일 수도 있다. 이러한 경우에는 처치를 받은 집단이 처치를 받지 않은 그룹보다 좋은 결과를 보여주는 긍정적인 편향(positive bias) 발견 할 수 있다 : $E[Y_0|T=1] > E[Y_0|T=0]$\n",
    "    \n",
    "2. 반대의 경우, 온라인 수업이 더 저렴해서 공부 외 다른 일을 해야하는 비교적 부유하지 않은 학생들로 구성되어 있을 수도 있다. 이런 경우에는 학생들이 오프라인 수업을 듣는다고 할지라도 실제 오프라인 수업을 듣는 학생들보다 좋은 퍼포먼스를 보여주지 못할 수가 있다. 이런 상황이 발생할 경우, 처치를 받은 그룹이 처치를 받지 않은 그룹보다 학업적 성과가 나쁘다는 부정 편향(negative bias)를 가질 수 있다 :  $E[Y_0|T=1] < E[Y_0|T=0]$\n",
    "    "
   ]
  },
  {
   "cell_type": "markdown",
   "id": "91470421",
   "metadata": {},
   "source": [
    "이러한 문제를 해결하기 위해 우리는 처치군과 처치를 진행하지 않은 군을 비교가능하게 만들어야 한다!\n",
    "\n",
    "$E[Y_0|T=1] = E[Y_0|T=0]$ 학생들을 온라인 수업과 현 방식의 수업(대면 수업)에 무작위로 배정하는 것이 하나의 방법이 될 수 있다. \n",
    "\n",
    "만약 그렇게 한다면, 처치를 받은 그룹과 받지 않은 그룹은 그들이 받은 처치를 제외하고는 평균적으로 같아야 할 것.\n"
   ]
  },
  {
   "cell_type": "markdown",
   "id": "1a5557c4",
   "metadata": {},
   "source": [
    "아래 다음과 같은 데이터가 있다.\n",
    "\n",
    "\n",
    "첫번째 그룹 학생들은 오프라인 강의, 두번째 그룹 학생들은 온라인 강의, 세번째 그룹은 혼합형 수업을 듣도록 랜덤 배정한 데이터이다"
   ]
  },
  {
   "cell_type": "code",
   "execution_count": 1,
   "id": "4901d092",
   "metadata": {
    "ExecuteTime": {
     "end_time": "2023-08-25T15:57:35.006560Z",
     "start_time": "2023-08-25T15:57:34.404524Z"
    }
   },
   "outputs": [],
   "source": [
    "import numpy as np\n",
    "import pandas as pd\n",
    "\n",
    "data = pd.read_csv('./data/online_classroom.csv')"
   ]
  },
  {
   "cell_type": "code",
   "execution_count": 2,
   "id": "c0897e0f",
   "metadata": {
    "ExecuteTime": {
     "end_time": "2023-08-25T15:57:39.229742Z",
     "start_time": "2023-08-25T15:57:39.213162Z"
    }
   },
   "outputs": [
    {
     "data": {
      "text/plain": [
       "(323, 10)"
      ]
     },
     "execution_count": 2,
     "metadata": {},
     "output_type": "execute_result"
    }
   ],
   "source": [
    "data.shape"
   ]
  },
  {
   "cell_type": "code",
   "execution_count": 3,
   "id": "d491814a",
   "metadata": {
    "ExecuteTime": {
     "end_time": "2023-08-25T15:57:41.665398Z",
     "start_time": "2023-08-25T15:57:41.646163Z"
    }
   },
   "outputs": [
    {
     "data": {
      "text/html": [
       "<div>\n",
       "<style scoped>\n",
       "    .dataframe tbody tr th:only-of-type {\n",
       "        vertical-align: middle;\n",
       "    }\n",
       "\n",
       "    .dataframe tbody tr th {\n",
       "        vertical-align: top;\n",
       "    }\n",
       "\n",
       "    .dataframe thead th {\n",
       "        text-align: right;\n",
       "    }\n",
       "</style>\n",
       "<table border=\"1\" class=\"dataframe\">\n",
       "  <thead>\n",
       "    <tr style=\"text-align: right;\">\n",
       "      <th></th>\n",
       "      <th>gender</th>\n",
       "      <th>asian</th>\n",
       "      <th>black</th>\n",
       "      <th>hawaiian</th>\n",
       "      <th>hispanic</th>\n",
       "      <th>unknown</th>\n",
       "      <th>white</th>\n",
       "      <th>format_ol</th>\n",
       "      <th>format_blended</th>\n",
       "      <th>falsexam</th>\n",
       "    </tr>\n",
       "  </thead>\n",
       "  <tbody>\n",
       "    <tr>\n",
       "      <th>0</th>\n",
       "      <td>0</td>\n",
       "      <td>0.0</td>\n",
       "      <td>0.0</td>\n",
       "      <td>0.0</td>\n",
       "      <td>0.0</td>\n",
       "      <td>0.0</td>\n",
       "      <td>1.0</td>\n",
       "      <td>0</td>\n",
       "      <td>0.0</td>\n",
       "      <td>63.29997</td>\n",
       "    </tr>\n",
       "    <tr>\n",
       "      <th>1</th>\n",
       "      <td>1</td>\n",
       "      <td>0.0</td>\n",
       "      <td>0.0</td>\n",
       "      <td>0.0</td>\n",
       "      <td>0.0</td>\n",
       "      <td>0.0</td>\n",
       "      <td>1.0</td>\n",
       "      <td>0</td>\n",
       "      <td>0.0</td>\n",
       "      <td>79.96000</td>\n",
       "    </tr>\n",
       "    <tr>\n",
       "      <th>2</th>\n",
       "      <td>1</td>\n",
       "      <td>0.0</td>\n",
       "      <td>0.0</td>\n",
       "      <td>0.0</td>\n",
       "      <td>0.0</td>\n",
       "      <td>0.0</td>\n",
       "      <td>1.0</td>\n",
       "      <td>0</td>\n",
       "      <td>1.0</td>\n",
       "      <td>83.37000</td>\n",
       "    </tr>\n",
       "    <tr>\n",
       "      <th>3</th>\n",
       "      <td>1</td>\n",
       "      <td>0.0</td>\n",
       "      <td>0.0</td>\n",
       "      <td>0.0</td>\n",
       "      <td>0.0</td>\n",
       "      <td>0.0</td>\n",
       "      <td>1.0</td>\n",
       "      <td>0</td>\n",
       "      <td>1.0</td>\n",
       "      <td>90.01994</td>\n",
       "    </tr>\n",
       "    <tr>\n",
       "      <th>4</th>\n",
       "      <td>1</td>\n",
       "      <td>0.0</td>\n",
       "      <td>0.0</td>\n",
       "      <td>0.0</td>\n",
       "      <td>0.0</td>\n",
       "      <td>0.0</td>\n",
       "      <td>1.0</td>\n",
       "      <td>1</td>\n",
       "      <td>0.0</td>\n",
       "      <td>83.30000</td>\n",
       "    </tr>\n",
       "  </tbody>\n",
       "</table>\n",
       "</div>"
      ],
      "text/plain": [
       "   gender  asian  black  hawaiian  hispanic  unknown  white  format_ol  \\\n",
       "0       0    0.0    0.0       0.0       0.0      0.0    1.0          0   \n",
       "1       1    0.0    0.0       0.0       0.0      0.0    1.0          0   \n",
       "2       1    0.0    0.0       0.0       0.0      0.0    1.0          0   \n",
       "3       1    0.0    0.0       0.0       0.0      0.0    1.0          0   \n",
       "4       1    0.0    0.0       0.0       0.0      0.0    1.0          1   \n",
       "\n",
       "   format_blended  falsexam  \n",
       "0             0.0  63.29997  \n",
       "1             0.0  79.96000  \n",
       "2             1.0  83.37000  \n",
       "3             1.0  90.01994  \n",
       "4             0.0  83.30000  "
      ]
     },
     "execution_count": 3,
     "metadata": {},
     "output_type": "execute_result"
    }
   ],
   "source": [
    "data.head()"
   ]
  },
  {
   "cell_type": "markdown",
   "id": "63e1cba0",
   "metadata": {},
   "source": [
    "인과 효과를 추정해보기 위해 각 처치 그룹의 평균 점수를 내보자"
   ]
  },
  {
   "cell_type": "code",
   "execution_count": 5,
   "id": "4abcc377",
   "metadata": {
    "ExecuteTime": {
     "end_time": "2023-08-25T16:01:19.632575Z",
     "start_time": "2023-08-25T16:01:19.609479Z"
    }
   },
   "outputs": [
    {
     "data": {
      "text/html": [
       "<div>\n",
       "<style scoped>\n",
       "    .dataframe tbody tr th:only-of-type {\n",
       "        vertical-align: middle;\n",
       "    }\n",
       "\n",
       "    .dataframe tbody tr th {\n",
       "        vertical-align: top;\n",
       "    }\n",
       "\n",
       "    .dataframe thead th {\n",
       "        text-align: right;\n",
       "    }\n",
       "</style>\n",
       "<table border=\"1\" class=\"dataframe\">\n",
       "  <thead>\n",
       "    <tr style=\"text-align: right;\">\n",
       "      <th></th>\n",
       "      <th>gender</th>\n",
       "      <th>asian</th>\n",
       "      <th>black</th>\n",
       "      <th>hawaiian</th>\n",
       "      <th>hispanic</th>\n",
       "      <th>unknown</th>\n",
       "      <th>white</th>\n",
       "      <th>format_ol</th>\n",
       "      <th>format_blended</th>\n",
       "      <th>falsexam</th>\n",
       "    </tr>\n",
       "    <tr>\n",
       "      <th>class_format</th>\n",
       "      <th></th>\n",
       "      <th></th>\n",
       "      <th></th>\n",
       "      <th></th>\n",
       "      <th></th>\n",
       "      <th></th>\n",
       "      <th></th>\n",
       "      <th></th>\n",
       "      <th></th>\n",
       "      <th></th>\n",
       "    </tr>\n",
       "  </thead>\n",
       "  <tbody>\n",
       "    <tr>\n",
       "      <th>blended</th>\n",
       "      <td>0.550459</td>\n",
       "      <td>0.217949</td>\n",
       "      <td>0.102564</td>\n",
       "      <td>0.025641</td>\n",
       "      <td>0.012821</td>\n",
       "      <td>0.012821</td>\n",
       "      <td>0.628205</td>\n",
       "      <td>0.0</td>\n",
       "      <td>1.0</td>\n",
       "      <td>77.093731</td>\n",
       "    </tr>\n",
       "    <tr>\n",
       "      <th>face_to_face</th>\n",
       "      <td>0.633333</td>\n",
       "      <td>0.202020</td>\n",
       "      <td>0.070707</td>\n",
       "      <td>0.000000</td>\n",
       "      <td>0.010101</td>\n",
       "      <td>0.000000</td>\n",
       "      <td>0.717172</td>\n",
       "      <td>0.0</td>\n",
       "      <td>0.0</td>\n",
       "      <td>78.547485</td>\n",
       "    </tr>\n",
       "    <tr>\n",
       "      <th>online</th>\n",
       "      <td>0.542553</td>\n",
       "      <td>0.228571</td>\n",
       "      <td>0.028571</td>\n",
       "      <td>0.014286</td>\n",
       "      <td>0.028571</td>\n",
       "      <td>0.000000</td>\n",
       "      <td>0.700000</td>\n",
       "      <td>1.0</td>\n",
       "      <td>0.0</td>\n",
       "      <td>73.635263</td>\n",
       "    </tr>\n",
       "  </tbody>\n",
       "</table>\n",
       "</div>"
      ],
      "text/plain": [
       "                gender     asian     black  hawaiian  hispanic   unknown  \\\n",
       "class_format                                                               \n",
       "blended       0.550459  0.217949  0.102564  0.025641  0.012821  0.012821   \n",
       "face_to_face  0.633333  0.202020  0.070707  0.000000  0.010101  0.000000   \n",
       "online        0.542553  0.228571  0.028571  0.014286  0.028571  0.000000   \n",
       "\n",
       "                 white  format_ol  format_blended   falsexam  \n",
       "class_format                                                  \n",
       "blended       0.628205        0.0             1.0  77.093731  \n",
       "face_to_face  0.717172        0.0             0.0  78.547485  \n",
       "online        0.700000        1.0             0.0  73.635263  "
      ]
     },
     "execution_count": 5,
     "metadata": {},
     "output_type": "execute_result"
    }
   ],
   "source": [
    "data.assign(\n",
    "    class_format = np.select([data['format_ol'].astype(bool), data['format_blended'].astype(bool)],\n",
    "                            ['online', 'blended'],\n",
    "                            default='face_to_face')\n",
    ").groupby(['class_format']).mean()"
   ]
  },
  {
   "cell_type": "markdown",
   "id": "e7d0c729",
   "metadata": {},
   "source": [
    "- 오프라인(face to face)의 평균이 약 78.55점 인데 비해, 온라인수업의 경우 평균 73.63점이다\n",
    "- 따라서 온라인 수업의 ATE는 약 -4.91 \n",
    "- 이는 온라인 수업을 듣는 학생들은 약 5점 낮은 점수를 받는다는 것을 의미한다.\n",
    "\n",
    "우리는 오프라인 수업을 받을 형편이 되지 않는 가난한 학생들이 온라인 수업을 수강할 것이라고 걱정할 필요가 없다. \n",
    "다른 처치를 받은 학생들이 그들이 받은 처치가 그 외 다른 처치들과는 다를 것이라고 걱정할 필요는 없다는 의미.\n",
    "무작위 실험은 바로 이런 차이들을 제거하기 위해 설계되었다.\n",
    "\n",
    "- 이러한 이유들로 인해 랜덤화(randomisation)가 잘 이루어졌는지(또는 올바른 데이터를 살펴보고 있는지) 확인하는 방법은 처치를 받은 것이 전처리 변수에서 처치를 받지 않은 것과 동일한지를 확인하는 것 \n",
    "- 현재 데이터는 성별과 민족에 대한 정보 또한 가지고 있어 그룹 간에 유사한 패턴이 나타나는지 확인 가능\n",
    "- `gender`, `asian`, `hispanic` , `white` 변수에서는 비교적 비슷한 결과가 나옴 \n",
    "- 하지만 `black` 변수에서는 다른 경향을 보임\n",
    "- 이러한 경향은 작은 데이터셋에서 어떤 일이 일어나는지 확인 가능\n",
    "- 무작위 실험을 한다 할지라도, 우연히 한 그룹의 경향성이 다른 그룹과는 다를 수 있다. 하지만 큰 표본에서는 이러한 차이가 사라지는 편"
   ]
  },
  {
   "cell_type": "markdown",
   "id": "a1b132f0",
   "metadata": {},
   "source": [
    "## The Ideal Experiment"
   ]
  },
  {
   "cell_type": "markdown",
   "id": "df620aaf",
   "metadata": {},
   "source": [
    "무작위 실험(Randomised experiments), 무작위 통제 실험(Randomised Controlled Trials)은 인과 효과(causal effect)를 확인할 수 있는 가장 신뢰할 방법들이다.\n",
    "\n",
    "이러한 방법들은 인과 관계를 가장 직접적으로 확인할 수 있는 기술이며, 엄청난 설득력을 지니고 있다.\n",
    "-> 그렇기에 많은 국가들에서 신약의 효과성을 보여주고자 할 때 필수적으로 활용하고 있는 방안이다"
   ]
  },
  {
   "cell_type": "markdown",
   "id": "17385470",
   "metadata": {},
   "source": [
    "하지만 무작위 통제 실험(RCT)의 경우 아래와 같은 단점들이 존재한다.\n",
    "- 비용이 많이 든다\n",
    "- 비윤리적인 문제\n",
    "    - ex1) 임신 중 흡연이 출산 뒤 아이의 체중에 어떤 영향을 미치는지 측정을 한다고 할 때, 몇명의 임산부를 무작위로 선정해 임신 중 흡연을 강요할 수는 없다.\n",
    "    - ex2) 은행에서 일을 한다고 가정, 신용 한도가 고객 이탈에 어떠한 영향을 미치는지 추정하고자 할 때, 고객들에게 무작위로 신용 한도를 주는 것은 큰 비용 발생\n",
    "\n",
    "인과적인 관계를 밝혀낼 때 어떤것이 완벽한 실험이 될 수 있을 것인가에 대해 스스로 질문을 던지는 것이 중요하다. 이는 이상적인 실험 없이도 어떻게 우리가 인과 효과를 발견할 수 있을지에 다가가는 하나의 방법이 될 것."
   ]
  },
  {
   "cell_type": "code",
   "execution_count": null,
   "id": "85a946c0",
   "metadata": {},
   "outputs": [],
   "source": []
  }
 ],
 "metadata": {
  "kernelspec": {
   "display_name": "Python 3 (ipykernel)",
   "language": "python",
   "name": "python3"
  },
  "language_info": {
   "codemirror_mode": {
    "name": "ipython",
    "version": 3
   },
   "file_extension": ".py",
   "mimetype": "text/x-python",
   "name": "python",
   "nbconvert_exporter": "python",
   "pygments_lexer": "ipython3",
   "version": "3.9.12"
  },
  "toc": {
   "base_numbering": 1,
   "nav_menu": {},
   "number_sections": true,
   "sideBar": true,
   "skip_h1_title": false,
   "title_cell": "Table of Contents",
   "title_sidebar": "Contents",
   "toc_cell": false,
   "toc_position": {},
   "toc_section_display": true,
   "toc_window_display": false
  }
 },
 "nbformat": 4,
 "nbformat_minor": 5
}
