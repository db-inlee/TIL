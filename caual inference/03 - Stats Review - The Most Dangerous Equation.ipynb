{
 "cells": [
  {
   "cell_type": "markdown",
   "id": "c8dd50df",
   "metadata": {},
   "source": [
    "# Stats Review : The Most Dangerous Equation"
   ]
  },
  {
   "cell_type": "markdown",
   "id": "8c89294b",
   "metadata": {},
   "source": [
    "## Moivre's Equation\n",
    "\n",
    "공식은 다음과 같다 ->  $SE =  \\frac{\\sigma}{\\sqrt{n}}$\n",
    "\n",
    "여기서 SE는 평균의 표준오차, $\\sigma$는 표준편차, $n$은 표본의 크기를 나타냄.\n",
    "\n",
    "이 공식을 모르는 것이 왜 위험한지에 대해 아래 데이터를 통해 확인해보자!"
   ]
  },
  {
   "cell_type": "code",
   "execution_count": 1,
   "id": "35f6e8fb",
   "metadata": {
    "ExecuteTime": {
     "end_time": "2023-08-28T08:58:01.682563Z",
     "start_time": "2023-08-28T08:58:00.428212Z"
    }
   },
   "outputs": [],
   "source": [
    "import pandas as pd\n",
    "import numpy as np\n",
    "from scipy import stats\n",
    "import matplotlib.pyplot as plt\n",
    "import seaborn as sns\n",
    "import warnings\n",
    "warnings.filterwarnings('ignore')"
   ]
  },
  {
   "cell_type": "markdown",
   "id": "65e92221",
   "metadata": {},
   "source": [
    "이 데이터는 ENUM(미국의 SAT와 유사한 브라질 표준 고등학교 성적 점수)을 3년간 수지반 데이터이다.\n",
    "\n",
    "가장 성적이 좋은 학교를 보면 학생 수가 매우 적은 것을 확인할 수 있다"
   ]
  },
  {
   "cell_type": "code",
   "execution_count": 2,
   "id": "6159e2e4",
   "metadata": {
    "ExecuteTime": {
     "end_time": "2023-08-28T08:58:31.316542Z",
     "start_time": "2023-08-28T08:58:31.276362Z"
    }
   },
   "outputs": [
    {
     "data": {
      "text/html": [
       "<div>\n",
       "<style scoped>\n",
       "    .dataframe tbody tr th:only-of-type {\n",
       "        vertical-align: middle;\n",
       "    }\n",
       "\n",
       "    .dataframe tbody tr th {\n",
       "        vertical-align: top;\n",
       "    }\n",
       "\n",
       "    .dataframe thead th {\n",
       "        text-align: right;\n",
       "    }\n",
       "</style>\n",
       "<table border=\"1\" class=\"dataframe\">\n",
       "  <thead>\n",
       "    <tr style=\"text-align: right;\">\n",
       "      <th></th>\n",
       "      <th>year</th>\n",
       "      <th>school_id</th>\n",
       "      <th>number_of_students</th>\n",
       "      <th>avg_score</th>\n",
       "    </tr>\n",
       "  </thead>\n",
       "  <tbody>\n",
       "    <tr>\n",
       "      <th>16670</th>\n",
       "      <td>2007</td>\n",
       "      <td>33062633</td>\n",
       "      <td>68</td>\n",
       "      <td>82.97</td>\n",
       "    </tr>\n",
       "    <tr>\n",
       "      <th>16796</th>\n",
       "      <td>2007</td>\n",
       "      <td>33065403</td>\n",
       "      <td>172</td>\n",
       "      <td>82.04</td>\n",
       "    </tr>\n",
       "    <tr>\n",
       "      <th>16668</th>\n",
       "      <td>2005</td>\n",
       "      <td>33062633</td>\n",
       "      <td>59</td>\n",
       "      <td>81.89</td>\n",
       "    </tr>\n",
       "    <tr>\n",
       "      <th>16794</th>\n",
       "      <td>2005</td>\n",
       "      <td>33065403</td>\n",
       "      <td>177</td>\n",
       "      <td>81.66</td>\n",
       "    </tr>\n",
       "    <tr>\n",
       "      <th>10043</th>\n",
       "      <td>2007</td>\n",
       "      <td>29342880</td>\n",
       "      <td>43</td>\n",
       "      <td>80.32</td>\n",
       "    </tr>\n",
       "    <tr>\n",
       "      <th>18121</th>\n",
       "      <td>2007</td>\n",
       "      <td>33152314</td>\n",
       "      <td>14</td>\n",
       "      <td>79.82</td>\n",
       "    </tr>\n",
       "    <tr>\n",
       "      <th>16781</th>\n",
       "      <td>2007</td>\n",
       "      <td>33065250</td>\n",
       "      <td>80</td>\n",
       "      <td>79.67</td>\n",
       "    </tr>\n",
       "    <tr>\n",
       "      <th>3026</th>\n",
       "      <td>2007</td>\n",
       "      <td>22025740</td>\n",
       "      <td>144</td>\n",
       "      <td>79.52</td>\n",
       "    </tr>\n",
       "    <tr>\n",
       "      <th>14636</th>\n",
       "      <td>2007</td>\n",
       "      <td>31311723</td>\n",
       "      <td>222</td>\n",
       "      <td>79.41</td>\n",
       "    </tr>\n",
       "    <tr>\n",
       "      <th>17318</th>\n",
       "      <td>2007</td>\n",
       "      <td>33087679</td>\n",
       "      <td>210</td>\n",
       "      <td>79.38</td>\n",
       "    </tr>\n",
       "  </tbody>\n",
       "</table>\n",
       "</div>"
      ],
      "text/plain": [
       "       year  school_id  number_of_students  avg_score\n",
       "16670  2007   33062633                  68      82.97\n",
       "16796  2007   33065403                 172      82.04\n",
       "16668  2005   33062633                  59      81.89\n",
       "16794  2005   33065403                 177      81.66\n",
       "10043  2007   29342880                  43      80.32\n",
       "18121  2007   33152314                  14      79.82\n",
       "16781  2007   33065250                  80      79.67\n",
       "3026   2007   22025740                 144      79.52\n",
       "14636  2007   31311723                 222      79.41\n",
       "17318  2007   33087679                 210      79.38"
      ]
     },
     "execution_count": 2,
     "metadata": {},
     "output_type": "execute_result"
    }
   ],
   "source": [
    "df = pd.read_csv('./data/enem_scores.csv')\n",
    "df.sort_values(by=\"avg_score\", ascending=False).head(10)"
   ]
  },
  {
   "cell_type": "code",
   "execution_count": 4,
   "id": "88843a90",
   "metadata": {
    "ExecuteTime": {
     "end_time": "2023-08-28T09:00:06.557046Z",
     "start_time": "2023-08-28T09:00:06.539532Z"
    }
   },
   "outputs": [
    {
     "data": {
      "text/plain": [
       "139.52402414274795"
      ]
     },
     "execution_count": 4,
     "metadata": {},
     "output_type": "execute_result"
    }
   ],
   "source": [
    "np.mean(df.number_of_students)"
   ]
  },
  {
   "cell_type": "markdown",
   "id": "500750f2",
   "metadata": {},
   "source": [
    "아래 boxplot을 확인해보면, 상위 1%의 학교는 평균적으로 학생 수가 적음을 확인할 수 있다"
   ]
  },
  {
   "cell_type": "code",
   "execution_count": 8,
   "id": "432ef861",
   "metadata": {
    "ExecuteTime": {
     "end_time": "2023-08-28T09:03:48.459856Z",
     "start_time": "2023-08-28T09:03:48.362161Z"
    }
   },
   "outputs": [
    {
     "data": {
      "image/png": "[encoded data removed]",
      "text/plain": [
       "<Figure size 432x432 with 1 Axes>"
      ]
     },
     "metadata": {
      "needs_background": "light"
     },
     "output_type": "display_data"
    }
   ],
   "source": [
    "plot_data = (df\n",
    "             .assign(top_school = df[\"avg_score\"] >= np.quantile(df[\"avg_score\"], .99))\n",
    "             [[\"top_school\", \"number_of_students\"]]\n",
    "             .query(f\"number_of_students<{np.quantile(df['number_of_students'], .98)}\")) # remove outliers\n",
    "\n",
    "plt.figure(figsize=(6,6))\n",
    "sns.boxplot(x=\"top_school\", y=\"number_of_students\", data=plot_data)\n",
    "plt.title(\"Number of Students of 1% Top Schools (Right)\");"
   ]
  },
  {
   "cell_type": "markdown",
   "id": "369eb4e1",
   "metadata": {},
   "source": [
    "학생 수가 적은 학교들이 더 높은 학업 성취를 이끌어냄을 확인할 수 있다.\n",
    "이는 직관적으로 보았을 때, 교사 한 명당 맡은 학생 수가 적을 때 교사가 각 학생에게 주의를 기울일 수 있기 때문이다.\n",
    "\n",
    "하지만 이것이 왜 Moivre Equation과 무슨 연관이 있고 왜 위험한지 알아보자."
   ]
  },
  {
   "cell_type": "markdown",
   "id": "595cc5ea",
   "metadata": {},
   "source": [
    "위에서 학생 수가 적은 학교들이 더 높은 학업 성취를 달성한다 -> 이 정보만을 기반으로 중요하고 비싼 결정을 하게 된다면 위험할 수 있다.\n",
    "\n",
    "우리는 하위 1%의 학교들도 살펴보는 것을 잊고 있었다. 아래 산점도를 통해 확인해보자"
   ]
  },
  {
   "cell_type": "code",
   "execution_count": 9,
   "id": "23c298c5",
   "metadata": {
    "ExecuteTime": {
     "end_time": "2023-08-28T09:13:51.842837Z",
     "start_time": "2023-08-28T09:13:51.599139Z"
    }
   },
   "outputs": [
    {
     "data": {
      "image/png": "[encoded data removed]",
      "text/plain": [
       "<Figure size 720x360 with 1 Axes>"
      ]
     },
     "metadata": {
      "needs_background": "light"
     },
     "output_type": "display_data"
    }
   ],
   "source": [
    "q_99 = np.quantile(df[\"avg_score\"], .99)\n",
    "q_01 = np.quantile(df[\"avg_score\"], .01)\n",
    "\n",
    "plot_data = (df\n",
    "             .sample(10000)\n",
    "             .assign(Group = lambda d: np.select([d[\"avg_score\"] > q_99, d[\"avg_score\"] < q_01],\n",
    "                                                 [\"Top\", \"Bottom\"], \"Middle\")))\n",
    "plt.figure(figsize=(10,5))\n",
    "sns.scatterplot(y=\"avg_score\", x=\"number_of_students\", hue=\"Group\", data=plot_data)\n",
    "plt.title(\"ENEM Score by Number of Students in the School\");"
   ]
  },
  {
   "cell_type": "markdown",
   "id": "c853d91b",
   "metadata": {},
   "source": [
    "위의 산점도 그래프를 통해 확인해보면, 학생 수가 적은 학교들은 매우 높거나 매우 낮은 점수 분포를 보여준다.\n",
    "\n",
    "Moivre 공식은 정보의 실재화와 데이터 기록형태는 항상 정확하지는 않다는 기본적인 사실에 대해서 이야기 한다.\n",
    "\n",
    "불확실성을 계산하는 방법 중 하나는 ***분산의 추정량***을 구하는 것이다.\n",
    "\n",
    "분산은 중심과 가장 가까이 있을 것 같은 값으로부터 얼마나 떨어져 있는지 알려준다.\n",
    "\n",
    "Moivre 공식을 살펴보면, 불확실성은 관측된 데이터가 클수록 줄어든다.\n",
    "\n",
    "만일 많은 학생들이 학교에서 잘한다면, 우리는 좋은 학교라고 확신할 수 있다.\n",
    "하지만 만일 우리가 10명중 8명의 학생만 잘한다고 한다면, 더 의구심을 가져야한다. 우연으로 인해 그 학교는 평균이상의 학생들이 다닐 가능성이 있기 때문이다.\n",
    "\n",
    "위의 그래프에서는 이를 보여준다.\n",
    "\n",
    "표본의 수가 작을 때, 우리의 추정치는 큰 분산을 갖는다. 또한 표본이 커질수록 분산이 줄어드는 것을 확인할 수 있다.\n",
    "\n",
    "이러한 사실은 평균점수 이외에도 우리가 추정하고 싶은 ATE를 비롯한 그 어떤 요약통계에 대해서도 마찬가지이다."
   ]
  },
  {
   "cell_type": "markdown",
   "id": "275523ca",
   "metadata": {},
   "source": [
    "# The Standard Error of Our Estimate"
   ]
  },
  {
   "cell_type": "markdown",
   "id": "3dbf663c",
   "metadata": {
    "ExecuteTime": {
     "end_time": "2023-08-28T09:34:37.416344Z",
     "start_time": "2023-08-28T09:34:37.402038Z"
    }
   },
   "source": [
    "이 전 섹션에서 우리는 평균 처리 효과 $E[Y_{1}-Y_{0}]$를 처리 군과 대조 군 평균 간 차이 $E[Y|T=1] - E[Y|T=0]$으로 다뤘다. \n",
    "\n",
    "우리는 온라인 수업의 ATE를 동기부여 사례로 알아냈다. \n",
    "또한 우리는 온라인 수업은 학생들의 수행 점수가 대면 수업일 때 보다 5점 낮은 부정적인 효과도 봤다. \n",
    "\n",
    "이제 통계적으로 유의한지 확인해보자.\n",
    "이를 위해 우리는 표준오차를 추정해야한다. \n",
    "\n",
    "우리는 이미 표본크기 n에 대해 알고 있다. \n",
    "\n",
    "표준오차의 추정치는 $\\hat{\\sigma} = \\sqrt{\\frac{1}{N-1}\\sum_{i=1}^N (x_{i}-\\bar{x})^2}$ 이고,  $\\bar{x}$는 x의 평균을 의미합니다. "
   ]
  },
  {
   "cell_type": "code",
   "execution_count": 11,
   "id": "7e8cdc0a",
   "metadata": {
    "ExecuteTime": {
     "end_time": "2023-08-28T09:35:30.327973Z",
     "start_time": "2023-08-28T09:35:30.315251Z"
    }
   },
   "outputs": [],
   "source": [
    "data = pd.read_csv('./data/online_classroom.csv')"
   ]
  },
  {
   "cell_type": "code",
   "execution_count": 13,
   "id": "27eb03a3",
   "metadata": {
    "ExecuteTime": {
     "end_time": "2023-08-28T09:35:39.831465Z",
     "start_time": "2023-08-28T09:35:39.812123Z"
    }
   },
   "outputs": [
    {
     "data": {
      "text/html": [
       "<div>\n",
       "<style scoped>\n",
       "    .dataframe tbody tr th:only-of-type {\n",
       "        vertical-align: middle;\n",
       "    }\n",
       "\n",
       "    .dataframe tbody tr th {\n",
       "        vertical-align: top;\n",
       "    }\n",
       "\n",
       "    .dataframe thead th {\n",
       "        text-align: right;\n",
       "    }\n",
       "</style>\n",
       "<table border=\"1\" class=\"dataframe\">\n",
       "  <thead>\n",
       "    <tr style=\"text-align: right;\">\n",
       "      <th></th>\n",
       "      <th>gender</th>\n",
       "      <th>asian</th>\n",
       "      <th>black</th>\n",
       "      <th>hawaiian</th>\n",
       "      <th>hispanic</th>\n",
       "      <th>unknown</th>\n",
       "      <th>white</th>\n",
       "      <th>format_ol</th>\n",
       "      <th>format_blended</th>\n",
       "      <th>falsexam</th>\n",
       "    </tr>\n",
       "  </thead>\n",
       "  <tbody>\n",
       "    <tr>\n",
       "      <th>0</th>\n",
       "      <td>0</td>\n",
       "      <td>0.0</td>\n",
       "      <td>0.0</td>\n",
       "      <td>0.0</td>\n",
       "      <td>0.0</td>\n",
       "      <td>0.0</td>\n",
       "      <td>1.0</td>\n",
       "      <td>0</td>\n",
       "      <td>0.0</td>\n",
       "      <td>63.29997</td>\n",
       "    </tr>\n",
       "    <tr>\n",
       "      <th>1</th>\n",
       "      <td>1</td>\n",
       "      <td>0.0</td>\n",
       "      <td>0.0</td>\n",
       "      <td>0.0</td>\n",
       "      <td>0.0</td>\n",
       "      <td>0.0</td>\n",
       "      <td>1.0</td>\n",
       "      <td>0</td>\n",
       "      <td>0.0</td>\n",
       "      <td>79.96000</td>\n",
       "    </tr>\n",
       "    <tr>\n",
       "      <th>2</th>\n",
       "      <td>1</td>\n",
       "      <td>0.0</td>\n",
       "      <td>0.0</td>\n",
       "      <td>0.0</td>\n",
       "      <td>0.0</td>\n",
       "      <td>0.0</td>\n",
       "      <td>1.0</td>\n",
       "      <td>0</td>\n",
       "      <td>1.0</td>\n",
       "      <td>83.37000</td>\n",
       "    </tr>\n",
       "    <tr>\n",
       "      <th>3</th>\n",
       "      <td>1</td>\n",
       "      <td>0.0</td>\n",
       "      <td>0.0</td>\n",
       "      <td>0.0</td>\n",
       "      <td>0.0</td>\n",
       "      <td>0.0</td>\n",
       "      <td>1.0</td>\n",
       "      <td>0</td>\n",
       "      <td>1.0</td>\n",
       "      <td>90.01994</td>\n",
       "    </tr>\n",
       "    <tr>\n",
       "      <th>4</th>\n",
       "      <td>1</td>\n",
       "      <td>0.0</td>\n",
       "      <td>0.0</td>\n",
       "      <td>0.0</td>\n",
       "      <td>0.0</td>\n",
       "      <td>0.0</td>\n",
       "      <td>1.0</td>\n",
       "      <td>1</td>\n",
       "      <td>0.0</td>\n",
       "      <td>83.30000</td>\n",
       "    </tr>\n",
       "  </tbody>\n",
       "</table>\n",
       "</div>"
      ],
      "text/plain": [
       "   gender  asian  black  hawaiian  hispanic  unknown  white  format_ol  \\\n",
       "0       0    0.0    0.0       0.0       0.0      0.0    1.0          0   \n",
       "1       1    0.0    0.0       0.0       0.0      0.0    1.0          0   \n",
       "2       1    0.0    0.0       0.0       0.0      0.0    1.0          0   \n",
       "3       1    0.0    0.0       0.0       0.0      0.0    1.0          0   \n",
       "4       1    0.0    0.0       0.0       0.0      0.0    1.0          1   \n",
       "\n",
       "   format_blended  falsexam  \n",
       "0             0.0  63.29997  \n",
       "1             0.0  79.96000  \n",
       "2             1.0  83.37000  \n",
       "3             1.0  90.01994  \n",
       "4             0.0  83.30000  "
      ]
     },
     "execution_count": 13,
     "metadata": {},
     "output_type": "execute_result"
    }
   ],
   "source": [
    "data.head()"
   ]
  },
  {
   "cell_type": "code",
   "execution_count": 27,
   "id": "c7654b38",
   "metadata": {
    "ExecuteTime": {
     "end_time": "2023-08-28T09:40:12.293178Z",
     "start_time": "2023-08-28T09:40:12.278220Z"
    }
   },
   "outputs": [
    {
     "name": "stdout",
     "output_type": "stream",
     "text": [
      "SE for Online: 1.5371593973041635\n",
      "SE for Face to Face: 0.8723511456319104\n"
     ]
    }
   ],
   "source": [
    "online = data[data['format_ol']==1]['falsexam']\n",
    "face_to_face = data[(data['format_ol']==0) & (data['format_blended']==0)]['falsexam']\n",
    "\n",
    "def se(y: pd.Series):\n",
    "    return y.std() / np.sqrt(len(y))\n",
    "\n",
    "print(\"SE for Online:\", se(online))\n",
    "print(\"SE for Face to Face:\", se(face_to_face))"
   ]
  },
  {
   "cell_type": "markdown",
   "id": "778a9fba",
   "metadata": {},
   "source": [
    "# Confidence Intervals"
   ]
  },
  {
   "cell_type": "markdown",
   "id": "b56d2f0b",
   "metadata": {
    "ExecuteTime": {
     "end_time": "2023-08-28T09:50:08.695147Z",
     "start_time": "2023-08-28T09:50:08.683943Z"
    }
   },
   "source": [
    "추정치에 대한 표준오차는 확신에 대한 치수이다.\n",
    "\n",
    "학생 점수가 평균 74, 표준편차 2인 정규분포를 따른다고 가정해보자.\n",
    "\n",
    "이 분포로부터 10,000번의 실험을 해보자.\n",
    "한 번의 실험에서 500의 표본을 얻자.\n",
    "\n",
    "이것을 히스토그램으로 그려보면 실험에 대한 평균이 위의 가정에서 말한 평균 근처로 분포됨을 확인할 수 있다.\n",
    "\n",
    "어떠한 실험 표본은 가정된 평균에 비해 작을 수도 있고 클 수도 있다\n",
    "\n"
   ]
  },
  {
   "cell_type": "code",
   "execution_count": 31,
   "id": "f6d63525",
   "metadata": {
    "ExecuteTime": {
     "end_time": "2023-08-28T09:54:25.823976Z",
     "start_time": "2023-08-28T09:54:25.550320Z"
    }
   },
   "outputs": [
    {
     "data": {
      "text/plain": [
       "<matplotlib.legend.Legend at 0x17a2b52b0>"
      ]
     },
     "execution_count": 31,
     "metadata": {},
     "output_type": "execute_result"
    },
    {
     "data": {
      "image/png": "[encoded data removed]",
      "text/plain": [
       "<Figure size 576x360 with 1 Axes>"
      ]
     },
     "metadata": {
      "needs_background": "light"
     },
     "output_type": "display_data"
    }
   ],
   "source": [
    "true_mean = 74\n",
    "true_std = 2\n",
    "\n",
    "n = 500\n",
    "def run_experiment(): \n",
    "    return np.random.normal(true_mean,true_std, 500)\n",
    "\n",
    "np.random.seed(42)\n",
    "\n",
    "plt.figure(figsize=(8,5))\n",
    "freq, bins, img = plt.hist([run_experiment().mean() for _ in range(10000)], bins=40, label=\"Experiment Means\")\n",
    "plt.vlines(true_mean, ymin=0, ymax=freq.max(), linestyles=\"dashed\", label=\"True Mean\", color=\"orange\")\n",
    "plt.legend()"
   ]
  },
  {
   "cell_type": "markdown",
   "id": "8fad63f8",
   "metadata": {},
   "source": [
    "우리는 평균들의 평균에 대해 이야기하고 있는 것을 기억하자!\n",
    "\n",
    "우리는 표준오차를 통해 우리는 평균이 95% 포함되도록 구간을 만들 수 있다.\n",
    "\n",
    "현실 세계에서 우리는 다양한 데이터 셋을 통해 같은 실험에 대해 여러번 실험할 수 없다. \n",
    "\n",
    "하지만 우리는 **신뢰구간**을 만들 수 있다. \n",
    "\n",
    "신뢰구간은 확률이 더해져서 구해지고, 가장 일반적인 구간은 95%이다. \n",
    "\n",
    "신뢰구간을 계산하기 위해서 우리는 **중심극한정리**(central limit theorem)를 이용한다. \n",
    "\n",
    "중심극한정리는 실험들의 **평균들이 정규분포를 따른다는 것**\n",
    "\n",
    "우리는 통계학적 이론에서 정규분포 질량의 95%는 평균 위와 아래의 2 표준편차 사이에 있다는 것을 알고 있다. (정확하게는 1.96이지만 편의상 2)\n",
    "\n",
    "![normal_density](./data/img/stats-review/normal_dist.jpeg)\n",
    "\n",
    "평균의 표준오차는 실험 평균의 분포에 대한 추정치 역할을 한다. \n",
    "\n",
    "따라서 실험평균에서 표준오차에서 2(실제로는1.96)을 곱한 값을 빼고 더하면 신뢰구간을 구할 수 있다\n"
   ]
  },
  {
   "cell_type": "code",
   "execution_count": 32,
   "id": "61a04a0c",
   "metadata": {
    "ExecuteTime": {
     "end_time": "2023-08-28T09:59:30.216761Z",
     "start_time": "2023-08-28T09:59:30.208716Z"
    }
   },
   "outputs": [
    {
     "name": "stdout",
     "output_type": "stream",
     "text": [
      "(73.82718114045632, 74.17341543460314)\n"
     ]
    }
   ],
   "source": [
    "np.random.seed(321)\n",
    "exp_data = run_experiment()\n",
    "exp_se = exp_data.std() / np.sqrt(len(exp_data))\n",
    "exp_mu = exp_data.mean()\n",
    "ci = (exp_mu - 2 * exp_se, exp_mu + 2 * exp_se)\n",
    "print(ci)"
   ]
  },
  {
   "cell_type": "code",
   "execution_count": 33,
   "id": "b9a72cfb",
   "metadata": {
    "ExecuteTime": {
     "end_time": "2023-08-28T10:00:03.715503Z",
     "start_time": "2023-08-28T10:00:03.638060Z"
    }
   },
   "outputs": [
    {
     "data": {
      "image/png": "[encoded data removed]",
      "text/plain": [
       "<Figure size 432x288 with 1 Axes>"
      ]
     },
     "metadata": {
      "needs_background": "light"
     },
     "output_type": "display_data"
    }
   ],
   "source": [
    "x = np.linspace(exp_mu - 4*exp_se, exp_mu + 4*exp_se, 100)\n",
    "y = stats.norm.pdf(x, exp_mu, exp_se)\n",
    "plt.plot(x, y)\n",
    "plt.vlines(ci[1], ymin=0, ymax=1)\n",
    "plt.vlines(ci[0], ymin=0, ymax=1, label=\"95% CI\")\n",
    "plt.legend()\n",
    "plt.show()"
   ]
  },
  {
   "cell_type": "markdown",
   "id": "5824dd68",
   "metadata": {},
   "source": [
    "당연히 우리는 95% 신뢰구간으로 제한할 필요는 없다. \n",
    "\n",
    "우리는 표준편차를 곱하는데 필요한 것을 찾아 정규 분포의 질량의 99% 포함하는 신뢰구간도 만들 수 있다.\n",
    "\n",
    "파이썬의 ppf 함수는 누적 분포 함수의 역함수를 알려준다.\n",
    "\n",
    "95% 신뢰구간을 찾기 위해 표준오차 2를 곱하는 대신에, 99% 신뢰구간을 만들 z를 곱할 것.\n",
    "\n",
    "따라서 ppf(0.5)는 정규분포 질량의 50%가 0 아래 있음을 나타내는 0을 나타낼 것. \n",
    "\n",
    "같은 방법으로 우리가 99.5%를 넣으면 분포 질량의 99.5%가 z값 아래 형성되도록 만드는 z를 구할 것. \n",
    "\n",
    "다시 말해 분포 질량의 0.5%는 z값보다 크다."
   ]
  },
  {
   "cell_type": "code",
   "execution_count": 34,
   "id": "ea5e8879",
   "metadata": {
    "ExecuteTime": {
     "end_time": "2023-08-28T10:06:29.460065Z",
     "start_time": "2023-08-28T10:06:29.448335Z"
    }
   },
   "outputs": [
    {
     "name": "stdout",
     "output_type": "stream",
     "text": [
      "2.5758293035489004\n"
     ]
    },
    {
     "data": {
      "text/plain": [
       "(73.7773381773405, 74.22325839771896)"
      ]
     },
     "execution_count": 34,
     "metadata": {},
     "output_type": "execute_result"
    }
   ],
   "source": [
    "from scipy import stats\n",
    "z = stats.norm.ppf(.995)\n",
    "\n",
    "print(z)\n",
    "ci = (exp_mu - z * exp_se, exp_mu + z * exp_se)\n",
    "ci"
   ]
  },
  {
   "cell_type": "code",
   "execution_count": 36,
   "id": "8be482b4",
   "metadata": {
    "ExecuteTime": {
     "end_time": "2023-08-28T10:06:52.317911Z",
     "start_time": "2023-08-28T10:06:52.242472Z"
    }
   },
   "outputs": [
    {
     "data": {
      "image/png": "[encoded data removed]",
      "text/plain": [
       "<Figure size 432x288 with 1 Axes>"
      ]
     },
     "metadata": {
      "needs_background": "light"
     },
     "output_type": "display_data"
    }
   ],
   "source": [
    "x = np.linspace(exp_mu - 4*exp_se, exp_mu + 4*exp_se, 100)\n",
    "y = stats.norm.pdf(x, exp_mu, exp_se)\n",
    "plt.plot(x, y)\n",
    "plt.vlines(ci[1], ymin=0, ymax=1)\n",
    "plt.vlines(ci[0], ymin=0, ymax=1, label=\"99.5% CI\")\n",
    "plt.legend()\n",
    "plt.show()"
   ]
  },
  {
   "cell_type": "markdown",
   "id": "a0e2841d",
   "metadata": {},
   "source": [
    "다시 데이터로 돌아와보자.\n",
    "\n",
    "온라인수업과 대면수업 각각의 신뢰구간을 만들 수 있다"
   ]
  },
  {
   "cell_type": "code",
   "execution_count": 37,
   "id": "3c89f07c",
   "metadata": {
    "ExecuteTime": {
     "end_time": "2023-08-28T10:07:56.688468Z",
     "start_time": "2023-08-28T10:07:56.676032Z"
    }
   },
   "outputs": [
    {
     "name": "stdout",
     "output_type": "stream",
     "text": [
      "95% CI for Online: (70.56094429049804, 76.7095818797147)\n",
      "95% for Face to Face: (76.80278229206948, 80.29218687459712)\n"
     ]
    }
   ],
   "source": [
    "def ci(y: pd.Series):\n",
    "    return (y.mean() - 2 * se(y), y.mean() + 2 * se(y))\n",
    "\n",
    "print(\"95% CI for Online:\", ci(online))\n",
    "print(\"95% for Face to Face:\", ci(face_to_face))"
   ]
  },
  {
   "cell_type": "markdown",
   "id": "c87cc19b",
   "metadata": {},
   "source": [
    "집단 간의 95%의 신뢰구간이 겹치지 않는다.\n",
    "\n",
    "대면 수업의 신뢰구간의 하한이 온라인 수업의 신뢰구간의 상한보다 높다.\n",
    "\n",
    "이는 대면수업의 실제 평균값이 온라인수업의 실제 평균값보다 높다는 결과가 우연적이지 않음을 보여준다.\n",
    "\n",
    "다시 말해 대면수업에서 온라인 수업으로 전환할 경우, 학업성취에 대한 유의한 인과적 감소를 주장할 수 있다.\n",
    "\n",
    "요약하면, ***신뢰구간은 추정치에 대한 불확실성을 배치하는 방법***이다.\n",
    "\n",
    "\n",
    "표본이 작을수록, 표준오차는 커지고 신뢰구간은 넓어진다. \n",
    "\n",
    "표준오차와 신뢰구간을 계산하는 것은 쉽기 때문에, 신뢰 구간이 부족하다는 것은 나쁜 의도가 있거나 단순히 지식이 부족하다는 의미이다. \n",
    "\n",
    "마지막으로, 불확실성에 대한 지표가 없다면 항상 의심해야 한다.\n",
    "\n",
    "![img](data/img/stats-review/ci_xkcd.png)\n",
    "\n",
    "\n"
   ]
  },
  {
   "cell_type": "markdown",
   "id": "817b0e8d",
   "metadata": {},
   "source": [
    "# Hypothesis Testing"
   ]
  },
  {
   "cell_type": "markdown",
   "id": "fa245383",
   "metadata": {},
   "source": [
    "불확실성을 표현하는 또 다른 방법은 가설검정!\n",
    "\n",
    "평균간의 차이가 통계학적으로 0(혹은 다른 값) 과 다른가?!\n",
    "\n",
    "독립정규분포 2개의 합과 차는 정규분포이다!\n",
    "\n",
    "평균의 결과는 두 분포의 합과 차인 반면, 분산의 결과는 분산의 합이다.\n",
    "\n",
    "$N(\\mu_{1}, \\sigma_{1}^2) - N(\\mu_{2}, \\sigma_{2}^2) = N(\\mu_{1} - \\mu_{2}, \\sigma_{1}^2 + \\sigma_{2}^2)$  \n",
    "\n",
    "$N(\\mu_{1}, \\sigma_{1}^2) + N(\\mu_{2}, \\sigma_{2}^2) = N(\\mu_{1} + \\mu_{2}, \\sigma_{1}^2 + \\sigma_{2}^2)$  \n"
   ]
  },
  {
   "cell_type": "code",
   "execution_count": 38,
   "id": "a91d8d22",
   "metadata": {
    "ExecuteTime": {
     "end_time": "2023-08-28T10:29:26.123147Z",
     "start_time": "2023-08-28T10:29:25.608349Z"
    }
   },
   "outputs": [
    {
     "data": {
      "image/png": "[encoded data removed]",
      "text/plain": [
       "<Figure size 432x288 with 1 Axes>"
      ]
     },
     "metadata": {
      "needs_background": "light"
     },
     "output_type": "display_data"
    }
   ],
   "source": [
    "np.random.seed(123)\n",
    "\n",
    "# 평균 4, 표준편차 3인 정규분포\n",
    "n1 = np.random.normal(4, 3, 30000)\n",
    "# 평균 1, 표준편차 4인 정규분포\n",
    "n2 = np.random.normal(1, 4, 30000)\n",
    "\n",
    "# 분포의 차\n",
    "n_diff = n2 - n1\n",
    "sns.distplot(n1, hist=False, label=\"$N(4,3^2)$\")\n",
    "sns.distplot(n2, hist=False, label=\"$N(1,4^2)$\")\n",
    "sns.distplot(n_diff, hist=False, label=f\"$N(1,4^2) - (4,3^2) = N(-3, 5^2)$\")\n",
    "plt.legend()\n",
    "plt.show()"
   ]
  },
  {
   "cell_type": "markdown",
   "id": "b4b2f5fe",
   "metadata": {},
   "source": [
    "만일 우리가 두 집단들의 분포에서 평균을 뺀다면, 우리는 3번째 분포를 얻을 수 있다. \n",
    "\n",
    "이 최종 분포의 평균은 평균들 간 차이이고, 표준편차는 표준편차들의 합의 제곱근이다. \n",
    "\n",
    "$\\mu_{diff} = \\mu_{1} - \\mu_{2}$  \n",
    "\n",
    "\n",
    "$SE_{diff} = \\sqrt{SE_{1} + SE_{2}} = \\sqrt{\\frac{\\sigma_{1}^2}{n_{1}} + \\frac{\\sigma_{2}^2}{n_{2}}}$  \n",
    "\n",
    "다시 데이터로 돌아가서, 차이에 대한 분포와 95% 신뢰구간을 만들어보자."
   ]
  },
  {
   "cell_type": "code",
   "execution_count": 39,
   "id": "3720e8de",
   "metadata": {
    "ExecuteTime": {
     "end_time": "2023-08-28T10:31:43.808900Z",
     "start_time": "2023-08-28T10:31:43.797101Z"
    }
   },
   "outputs": [
    {
     "name": "stdout",
     "output_type": "stream",
     "text": [
      "(-8.376410208363357, -1.4480327880904964)\n"
     ]
    }
   ],
   "source": [
    "diff_mu = online.mean() - face_to_face.mean()\n",
    "\n",
    "diff_se = np.sqrt(face_to_face.var()/len(face_to_face) + online.var()/len(online))\n",
    "\n",
    "ci = (diff_mu - 1.96*diff_se, diff_mu + 1.96*diff_se)\n",
    "print(ci)"
   ]
  },
  {
   "cell_type": "code",
   "execution_count": 40,
   "id": "c66224a6",
   "metadata": {
    "ExecuteTime": {
     "end_time": "2023-08-28T10:31:56.733243Z",
     "start_time": "2023-08-28T10:31:56.656972Z"
    }
   },
   "outputs": [
    {
     "data": {
      "image/png": "[encoded data removed]",
      "text/plain": [
       "<Figure size 432x288 with 1 Axes>"
      ]
     },
     "metadata": {
      "needs_background": "light"
     },
     "output_type": "display_data"
    }
   ],
   "source": [
    "x = np.linspace(diff_mu - 4*diff_se, diff_mu + 4*diff_se, 100)\n",
    "\n",
    "y = stats.norm.pdf(x, diff_mu, diff_se)\n",
    "\n",
    "plt.plot(x, y)\n",
    "plt.vlines(ci[1], ymin=0, ymax=.05)\n",
    "plt.vlines(ci[0], ymin=0, ymax=.05, label=\"95% CI\")\n",
    "plt.legend()\n",
    "plt.show()"
   ]
  },
  {
   "cell_type": "markdown",
   "id": "023b39b4",
   "metadata": {},
   "source": [
    "위의 결과를 보면, 온라인 집단과 대면 집단의 차이가 -8.37에서 -1.44 사이에 있는 것이 95% 신뢰할 수 있다고 할 수 있다.\n",
    "\n",
    "우리는 평균 간 차이에 대한 표준오차를 나누어서 z통계량을 만들 수 있다.\n",
    "\n",
    "$z = \\frac{\\mu_{diff}-H_{0}}{SE_{diff}} = \\frac{(\\mu_{1}-\\mu_{2})}{\\sqrt{\\frac{\\sigma_{1}^2}{n_{1}} + \\frac{\\sigma_{2}^2}{n_{2}}}}$  \n",
    "\n",
    "$H_{0}$는 우리가 차이를 검정하고 싶은 값.\n",
    "\n",
    "z통계량은 관측된 차이가 얼마나 극단적인지 측정해준다. \n",
    "\n",
    "우리는 평균의 차이가 0과 통계적으로 다르다는 가설을 검정하기 위해 모순을 이용할 것.\n",
    "\n",
    "우리는 반대(차이가 0이다)를 참으로 가정할 것 -> 이를 귀무가설 혹은 $H_{0}$으로 표현. \n",
    "\n",
    "그리고 \"만일 진정한 차이가 0이라면 우리는 이런 차이를 관찰할 가능성이 있을까?\" 질문한다. \n",
    "\n",
    "이 질문을 통계학적 수학 용어로 z통계량이 0에서 얼마나 멀리 있는지 확인하는 것으로 변환할 수 있다. \n",
    "\n",
    "귀무가설 하에, z통계량은 표준 정규 분포를 따른다. \n",
    "\n",
    "따라서 만일 차이가 정말 0이라면, 우리는 z통계량이 평균적으로 95%의 확률로 2 표준편차 내에 확인할 수 있습니다. z가 2 표준편차보다 높거나 낮으면, 95% 신뢰도로 귀무가설을 기각할 수 있다. \n"
   ]
  },
  {
   "cell_type": "code",
   "execution_count": 41,
   "id": "f6902013",
   "metadata": {
    "ExecuteTime": {
     "end_time": "2023-08-28T10:40:53.635839Z",
     "start_time": "2023-08-28T10:40:53.628045Z"
    }
   },
   "outputs": [
    {
     "name": "stdout",
     "output_type": "stream",
     "text": [
      "-2.7792810791031064\n"
     ]
    }
   ],
   "source": [
    "z = diff_mu / diff_se\n",
    "\n",
    "print(z)"
   ]
  },
  {
   "cell_type": "code",
   "execution_count": 42,
   "id": "8a0bdebd",
   "metadata": {
    "ExecuteTime": {
     "end_time": "2023-08-28T10:41:03.217366Z",
     "start_time": "2023-08-28T10:41:03.124271Z"
    }
   },
   "outputs": [
    {
     "data": {
      "image/png": "[encoded data removed]",
      "text/plain": [
       "<Figure size 432x288 with 1 Axes>"
      ]
     },
     "metadata": {
      "needs_background": "light"
     },
     "output_type": "display_data"
    }
   ],
   "source": [
    "x = np.linspace(-4,4,100)\n",
    "y = stats.norm.pdf(x, 0, 1)\n",
    "plt.plot(x, y, label=\"Standard Normal\")\n",
    "plt.vlines(z, ymin=0, ymax=.05, label=\"Z statistic\", color=\"C1\")\n",
    "plt.legend()\n",
    "plt.show()"
   ]
  },
  {
   "cell_type": "markdown",
   "id": "ce4b29d8",
   "metadata": {},
   "source": [
    "꽤 극단적인 값으로 보인다. \n",
    "\n",
    "실제로 2보다 큰데, 이는 집단 간 차이가 없다면 우리가 이런 극단적인 값을 볼 확률이 5% 미만을 의미. \n",
    "\n",
    "이는 또한 대면 수업에서 온라인 수업으로 전환하는 것이 통계적으로 유의미한 학업 성취도를 떨어뜨린다는 결론을 내리게 한다.\n",
    "\n",
    "가설검정의 마지막 흥미로운 점은 처리된 집단과 처리되지 않은 집단의 95% 신뢰구간이 겹치는지 확인하는 것보다 덜 보수적이라는 점이다. \n",
    "\n",
    "다시 말해 만일 두 집단 간 신뢰구간이 겹친다 하더라도 통계적으로 유의할 수 있다. \n",
    "\n",
    "예를 들어 대면 집단이 평균 80점에, 표준오차 4, 온라인 집단이 평균 71점에 표준오차 2를 받았다고 가정해보자."
   ]
  },
  {
   "cell_type": "code",
   "execution_count": 43,
   "id": "cdcea65a",
   "metadata": {
    "ExecuteTime": {
     "end_time": "2023-08-28T10:48:56.001507Z",
     "start_time": "2023-08-28T10:48:55.991911Z"
    }
   },
   "outputs": [
    {
     "name": "stdout",
     "output_type": "stream",
     "text": [
      "Control 95% CI: (67.08, 74.92)\n",
      "Test 95% CI: (72.16, 87.84)\n",
      "Diff 95% CI: (0.23461352820082482, 17.765386471799175)\n"
     ]
    }
   ],
   "source": [
    "cont_mu, cont_se =  (71, 2)\n",
    "test_mu, test_se = (80, 4)\n",
    "\n",
    "diff_mu = test_mu - cont_mu\n",
    "diff_se = np.sqrt(cont_se**2 + test_se**2)\n",
    "\n",
    "print(\"Control 95% CI:\", (cont_mu-1.96*cont_se, cont_mu+1.96*cont_se))\n",
    "print(\"Test 95% CI:\", (test_mu-1.96*test_se, test_mu+1.96*test_se))\n",
    "print(\"Diff 95% CI:\", (diff_mu-1.96*diff_se, diff_mu+1.96*diff_se))"
   ]
  },
  {
   "cell_type": "markdown",
   "id": "4ed600b6",
   "metadata": {},
   "source": [
    "두 집단에 대해 신뢰구간을 만들면 겹친다. \n",
    "\n",
    "온라인 집단의 상한은 74.92이고 대면 집단의 하한은 72.16 이다. \n",
    "\n",
    "그러나 집단 간 차이에 대한 95% 신뢰구간을 계산하면 0이 포함되지 않는다. 개별 신뢰구간이 겹치더라도 여전히 통계학적으로 0과 다를 수 있다.\n"
   ]
  },
  {
   "cell_type": "markdown",
   "id": "8adcfc39",
   "metadata": {},
   "source": [
    "# P-values"
   ]
  },
  {
   "cell_type": "markdown",
   "id": "f7718955",
   "metadata": {},
   "source": [
    "위에서 온라인 집단과 대면 집단의 차이가 실제로 0이라면 우리가 이러한 극단적인 값을 관찰할 확률은 5% 미만이었다. \n",
    "\n",
    "하지만 우리가 그 가능성을 정확히 예측할 수 있을까? 우리가 이러한 극단적인 값을 관찰할 가능성이 얼마나 될까?\n",
    "\n",
    "***p-value는 귀무가설이 올바르다고 가정할 때, 검정 중에 실제 관찰될 수 있는 가장 극단적인 검정결과를 얻을 확률이다***\n",
    "\n",
    "    -> 즉, 귀무가설이 참이라는 가정하에 p값은 그러한 데이터를 볼 확률, 귀무가설이 참일 경우 측정값을 볼 가능성이 얼마나 낮은지를 측정하는 것\n",
    "    \n",
    "\n",
    "이는 귀무가설이 참일 확률과 혼동된다. 여기서 차이점을 주의하자! \n",
    "\n",
    "p값은 $P(H_{0}|data)$가 아니라 $P(data|H_{0})$이다.\n",
    "\n",
    "p값을 구하려면, z통계량 전후에 표준 정규분포 면적을 계산해야한다. \n",
    "\n",
    "누적 표준 정규분포에 z통계량을 넣으면 계산 가능하다. \n",
    "\n",
    "\n"
   ]
  },
  {
   "cell_type": "code",
   "execution_count": 44,
   "id": "2690feb2",
   "metadata": {
    "ExecuteTime": {
     "end_time": "2023-08-28T10:59:43.923947Z",
     "start_time": "2023-08-28T10:59:43.913057Z"
    }
   },
   "outputs": [
    {
     "name": "stdout",
     "output_type": "stream",
     "text": [
      "P-value: 0.0027239680835564706\n"
     ]
    }
   ],
   "source": [
    "print(\"P-value:\", stats.norm.cdf(z))"
   ]
  },
  {
   "cell_type": "markdown",
   "id": "a3a9f17a",
   "metadata": {},
   "source": [
    "p값은 95% 혹은 99%와 같은 신뢰수준을 지정할 필요가 없다. \n",
    "\n",
    "하지만 p값에서 하나를 보고자 하는 경우 어떤 신뢰 수준에서 우리의 검정이 합격 혹은 불합격인지 정확히 알 수 있다. \n",
    "\n",
    "예를 들어 p값이 0.0027이라면, 유의수준이 0.2%임을 알 수 있다. \n",
    "\n",
    "따라서 95% 신뢰구간과 99% 신뢰구간에서는 0이 포함되지 않지만, 99.9% 신뢰구간에서는 포함된다. \n",
    "\n",
    "이는 만일 차이가 0이라면 이 극단적인 z통계량을 관측할 확률이 0.2%임을 의미한다."
   ]
  },
  {
   "cell_type": "code",
   "execution_count": 45,
   "id": "4b7edde5",
   "metadata": {
    "ExecuteTime": {
     "end_time": "2023-08-28T11:01:05.895859Z",
     "start_time": "2023-08-28T11:01:05.881487Z"
    }
   },
   "outputs": [
    {
     "name": "stdout",
     "output_type": "stream",
     "text": [
      "95% CI: (-8.37634655308288, -1.4480964433709733)\n",
      "99% CI: (-9.464853535264012, -0.3595894611898425)\n",
      "99.9% CI: (-10.72804065824553, 0.9035976617916743)\n"
     ]
    }
   ],
   "source": [
    "diff_mu = online.mean() - face_to_face.mean()\n",
    "diff_se = np.sqrt(face_to_face.var()/len(face_to_face) + online.var()/len(online))\n",
    "print(\"95% CI:\", (diff_mu - stats.norm.ppf(.975)*diff_se, diff_mu + stats.norm.ppf(.975)*diff_se))\n",
    "print(\"99% CI:\", (diff_mu - stats.norm.ppf(.995)*diff_se, diff_mu + stats.norm.ppf(.995)*diff_se))\n",
    "print(\"99.9% CI:\", (diff_mu - stats.norm.ppf(.9995)*diff_se, diff_mu + stats.norm.ppf(.9995)*diff_se))"
   ]
  },
  {
   "cell_type": "markdown",
   "id": "8661a246",
   "metadata": {},
   "source": [
    "# key ideas"
   ]
  },
  {
   "cell_type": "markdown",
   "id": "a0e12b9d",
   "metadata": {},
   "source": [
    "이번 챕터에서 Moivre의 공식을 아는 것이 얼마나 중요한지 보았고, 그것이 우리 추정치에 어느정도 확신이 되는지 알기 위해 사용했다. \n",
    "\n",
    "우리는 온라인 수업이 대면 수업에 비해 학업성취도 저하를 유발하는 것을 알아냈다. \n",
    "\n",
    "우리는 또한 통계학적으로 유의한 결과임을 확인했다. \n",
    "\n",
    "우리는 두 집단의 평균 신뢰구간을 비교하고, 차이에 대한 신뢰구간을 살펴보고, 가설검정을 수행했고 p값을 확인했다. \n",
    "\n",
    "단일 A/B 테스트 비교 함수를 만들어보자"
   ]
  },
  {
   "cell_type": "code",
   "execution_count": 46,
   "id": "253bcc78",
   "metadata": {
    "ExecuteTime": {
     "end_time": "2023-08-28T11:03:10.512417Z",
     "start_time": "2023-08-28T11:03:10.493009Z"
    }
   },
   "outputs": [
    {
     "name": "stdout",
     "output_type": "stream",
     "text": [
      "Test 95.0% CI: 73.63526308510637 +- 3.0127770572134565\n",
      "Control 95.0% CI: 78.5474845833333 +- 1.7097768273108\n",
      "Test-Control 95.0% CI: -4.912221498226927 +- 3.4641250548559537\n",
      "Z Statistic -2.7792810791031064\n",
      "P-Value 0.0027239680835564706\n"
     ]
    }
   ],
   "source": [
    "def AB_test(test: pd.Series, control: pd.Series, confidence=0.95, h0=0):\n",
    "    mu1, mu2 = test.mean(), control.mean()\n",
    "    se1, se2 = test.std() / np.sqrt(len(test)), control.std() / np.sqrt(len(control))\n",
    "    \n",
    "    diff = mu1 - mu2\n",
    "    se_diff = np.sqrt(test.var()/len(test) + control.var()/len(control))\n",
    "    \n",
    "    z_stats = (diff-h0)/se_diff\n",
    "    p_value = stats.norm.cdf(z_stats)\n",
    "    \n",
    "    def critial(se): return -se*stats.norm.ppf((1 - confidence)/2)\n",
    "    \n",
    "    print(f\"Test {confidence*100}% CI: {mu1} +- {critial(se1)}\")\n",
    "    print(f\"Control {confidence*100}% CI: {mu2} +- {critial(se2)}\")\n",
    "    print(f\"Test-Control {confidence*100}% CI: {diff} +- {critial(se_diff)}\")\n",
    "    print(f\"Z Statistic {z_stats}\")\n",
    "    print(f\"P-Value {p_value}\")\n",
    "        \n",
    "AB_test(online, face_to_face)"
   ]
  },
  {
   "cell_type": "markdown",
   "id": "3b45c237",
   "metadata": {},
   "source": [
    "위 함수는 충분히 일반적이기 때문에, 다른 귀무가설 검정도 할 수 있다. \n",
    "\n",
    "ex) 온라인과 대면 수업의 효과 차이가 -1인지 기각할 수 있을까?\n",
    "\n",
    "우리가 얻는 결과를 통해 우리는 95% 신뢰도를 통해 차이가 -1보다 유의하다고 할 수 있지만 99% 신뢰도로는 할 수 없다."
   ]
  },
  {
   "cell_type": "code",
   "execution_count": 47,
   "id": "fa9f4091",
   "metadata": {
    "ExecuteTime": {
     "end_time": "2023-08-28T11:04:19.751668Z",
     "start_time": "2023-08-28T11:04:19.739752Z"
    }
   },
   "outputs": [
    {
     "name": "stdout",
     "output_type": "stream",
     "text": [
      "Test 95.0% CI: 73.63526308510637 +- 3.0127770572134565\n",
      "Control 95.0% CI: 78.5474845833333 +- 1.7097768273108\n",
      "Test-Control 95.0% CI: -4.912221498226927 +- 3.4641250548559537\n",
      "Z Statistic -2.2134920404560723\n",
      "P-Value 0.013431870694630667\n"
     ]
    }
   ],
   "source": [
    "AB_test(online, face_to_face, h0=-1)"
   ]
  },
  {
   "cell_type": "code",
   "execution_count": null,
   "id": "00abc5c3",
   "metadata": {},
   "outputs": [],
   "source": []
  }
 ],
 "metadata": {
  "kernelspec": {
   "display_name": "Python 3 (ipykernel)",
   "language": "python",
   "name": "python3"
  },
  "language_info": {
   "codemirror_mode": {
    "name": "ipython",
    "version": 3
   },
   "file_extension": ".py",
   "mimetype": "text/x-python",
   "name": "python",
   "nbconvert_exporter": "python",
   "pygments_lexer": "ipython3",
   "version": "3.9.12"
  },
  "toc": {
   "base_numbering": 1,
   "nav_menu": {},
   "number_sections": true,
   "sideBar": true,
   "skip_h1_title": false,
   "title_cell": "Table of Contents",
   "title_sidebar": "Contents",
   "toc_cell": false,
   "toc_position": {},
   "toc_section_display": true,
   "toc_window_display": false
  }
 },
 "nbformat": 4,
 "nbformat_minor": 5
}
