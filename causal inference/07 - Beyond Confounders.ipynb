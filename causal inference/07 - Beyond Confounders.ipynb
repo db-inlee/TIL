{
 "cells": [
  {
   "cell_type": "markdown",
   "id": "6a187844",
   "metadata": {},
   "source": [
    "# 07 - Beyond Confounders\n",
    "\n",
    "## Good Controls\n",
    "\n",
    "통제변수가 교란 요인(confounder)인 경우, 모형에 추가하는 것이 좋을 뿐 아니라 필수이다.\n",
    "\n",
    "무의식적으로 이것을 생각해보면, 측정할 수 있는 모든 것을 모형에 집어 넣는 것이 자연스럽다.\n",
    "\n",
    "오늘날, 빅데이터 세계에서는 1000개 이상의 변수가 될 수 있다. 하지만 이렇게 많은 변수는 불필요할 뿐만 아니라 인과효과를 식별하는데 도움이 되지 않을 수 있다.\n",
    "\n",
    "교란 요인이 아닌 통제 변수에 주의를 돌려보자.\n",
    "\n",
    "먼저, 통제변수의 좋은 점들을 살펴보고, 인과효과를 식별하는데 해로운 통제변수에 대해 알아보자."
   ]
  },
  {
   "cell_type": "markdown",
   "id": "8b288e12",
   "metadata": {},
   "source": [
    "\n",
    "예시로 핀테크 데이터 수집팀의 DS라고 가정해보자.\n",
    "\n",
    "Task는 사람들에게 빛을 갚을 것을 요청하는 이메일을 보내는 행위의 효과를 파악하는 것이다.\n",
    "\n",
    "반응변수는 연체 고객으로부터의 지불금액(Payments)이다.\n",
    "\n",
    "이 질문에 답하기 위해선, 데이터 수집팀은 연체고객 중 랜덤하게 5,000명을 선택하여 랜덤 테스트를 실시한다.\n",
    "\n",
    "그리고 고객의 수만큼 동전을 던진다. 동전이 앞면일 경우, 고객이 이메일을 수신하고, 뒷면이 나올 경우 이메을을 수신하지 않은 통제 그룹으로 남는다.\n",
    "\n",
    "이 테스트를 통해 이메일이 얼마나 많은 추가 비용을 발생시키는지 알 수 있다.\n"
   ]
  },
  {
   "cell_type": "code",
   "execution_count": 1,
   "id": "44797aa3",
   "metadata": {
    "ExecuteTime": {
     "end_time": "2023-10-05T15:38:53.192660Z",
     "start_time": "2023-10-05T15:38:52.055536Z"
    }
   },
   "outputs": [],
   "source": [
    "import warnings\n",
    "warnings.filterwarnings('ignore')\n",
    "\n",
    "import pandas as pd\n",
    "import numpy as np\n",
    "from scipy import stats\n",
    "from matplotlib import style\n",
    "import seaborn as sns\n",
    "from matplotlib import pyplot as plt\n",
    "import statsmodels.formula.api as smf\n",
    "import graphviz as gr\n",
    "\n",
    "style.use(\"fivethirtyeight\")"
   ]
  },
  {
   "cell_type": "code",
   "execution_count": 2,
   "id": "a8bb004c",
   "metadata": {
    "ExecuteTime": {
     "end_time": "2023-10-05T15:38:53.204143Z",
     "start_time": "2023-10-05T15:38:53.193595Z"
    }
   },
   "outputs": [
    {
     "data": {
      "text/html": [
       "<div>\n",
       "<style scoped>\n",
       "    .dataframe tbody tr th:only-of-type {\n",
       "        vertical-align: middle;\n",
       "    }\n",
       "\n",
       "    .dataframe tbody tr th {\n",
       "        vertical-align: top;\n",
       "    }\n",
       "\n",
       "    .dataframe thead th {\n",
       "        text-align: right;\n",
       "    }\n",
       "</style>\n",
       "<table border=\"1\" class=\"dataframe\">\n",
       "  <thead>\n",
       "    <tr style=\"text-align: right;\">\n",
       "      <th></th>\n",
       "      <th>payments</th>\n",
       "      <th>email</th>\n",
       "      <th>opened</th>\n",
       "      <th>agreement</th>\n",
       "      <th>credit_limit</th>\n",
       "      <th>risk_score</th>\n",
       "    </tr>\n",
       "  </thead>\n",
       "  <tbody>\n",
       "    <tr>\n",
       "      <th>0</th>\n",
       "      <td>740</td>\n",
       "      <td>1</td>\n",
       "      <td>1.0</td>\n",
       "      <td>0.0</td>\n",
       "      <td>2348.495260</td>\n",
       "      <td>0.666752</td>\n",
       "    </tr>\n",
       "    <tr>\n",
       "      <th>1</th>\n",
       "      <td>580</td>\n",
       "      <td>1</td>\n",
       "      <td>1.0</td>\n",
       "      <td>1.0</td>\n",
       "      <td>334.111969</td>\n",
       "      <td>0.207395</td>\n",
       "    </tr>\n",
       "    <tr>\n",
       "      <th>2</th>\n",
       "      <td>600</td>\n",
       "      <td>1</td>\n",
       "      <td>1.0</td>\n",
       "      <td>1.0</td>\n",
       "      <td>1360.660722</td>\n",
       "      <td>0.550479</td>\n",
       "    </tr>\n",
       "    <tr>\n",
       "      <th>3</th>\n",
       "      <td>770</td>\n",
       "      <td>0</td>\n",
       "      <td>0.0</td>\n",
       "      <td>0.0</td>\n",
       "      <td>1531.828576</td>\n",
       "      <td>0.560488</td>\n",
       "    </tr>\n",
       "    <tr>\n",
       "      <th>4</th>\n",
       "      <td>660</td>\n",
       "      <td>0</td>\n",
       "      <td>0.0</td>\n",
       "      <td>0.0</td>\n",
       "      <td>979.855647</td>\n",
       "      <td>0.455140</td>\n",
       "    </tr>\n",
       "  </tbody>\n",
       "</table>\n",
       "</div>"
      ],
      "text/plain": [
       "   payments  email  opened  agreement  credit_limit  risk_score\n",
       "0       740      1     1.0        0.0   2348.495260    0.666752\n",
       "1       580      1     1.0        1.0    334.111969    0.207395\n",
       "2       600      1     1.0        1.0   1360.660722    0.550479\n",
       "3       770      0     0.0        0.0   1531.828576    0.560488\n",
       "4       660      0     0.0        0.0    979.855647    0.455140"
      ]
     },
     "execution_count": 2,
     "metadata": {},
     "output_type": "execute_result"
    }
   ],
   "source": [
    "data = pd.read_csv(\"./data/collections_email.csv\")\n",
    "data.head()"
   ]
  },
  {
   "cell_type": "markdown",
   "id": "c0e0de96",
   "metadata": {},
   "source": [
    "데이터가 랜덤이기 때문에 단순한 평균 차이가 ATE(Average Treatment Effect)를 추정한다.\n",
    "\n",
    "즉, 무작위화 외에는 어떤 것도 treatment의 원인이 될 수 없으므로 잠재적 결과는 treatment와 독립이다. $(Y_0, Y_1) \\perp T$\n",
    "\n",
    "$ATE = E[Y|T = 1] - E[Y|T=0]$\n",
    "\n",
    "추정량에 대한 신뢰 구간을 계산하기 위해 선형회귀모형을 이용할 수 있다."
   ]
  },
  {
   "cell_type": "code",
   "execution_count": 3,
   "id": "068aa2a0",
   "metadata": {
    "ExecuteTime": {
     "end_time": "2023-10-05T15:38:53.915698Z",
     "start_time": "2023-10-05T15:38:53.870500Z"
    }
   },
   "outputs": [
    {
     "name": "stdout",
     "output_type": "stream",
     "text": [
      "Difference in means: -0.6202804021329484\n"
     ]
    },
    {
     "data": {
      "text/html": [
       "<table class=\"simpletable\">\n",
       "<tr>\n",
       "      <td></td>         <th>coef</th>     <th>std err</th>      <th>t</th>      <th>P>|t|</th>  <th>[0.025</th>    <th>0.975]</th>  \n",
       "</tr>\n",
       "<tr>\n",
       "  <th>Intercept</th> <td>  669.9764</td> <td>    2.061</td> <td>  325.116</td> <td> 0.000</td> <td>  665.937</td> <td>  674.016</td>\n",
       "</tr>\n",
       "<tr>\n",
       "  <th>email</th>     <td>   -0.6203</td> <td>    2.941</td> <td>   -0.211</td> <td> 0.833</td> <td>   -6.387</td> <td>    5.146</td>\n",
       "</tr>\n",
       "</table>"
      ],
      "text/plain": [
       "<class 'statsmodels.iolib.table.SimpleTable'>"
      ]
     },
     "execution_count": 3,
     "metadata": {},
     "output_type": "execute_result"
    }
   ],
   "source": [
    "print(\"Difference in means:\",\n",
    "      data.query(\"email==1\")[\"payments\"].mean() - data.query(\"email==0\")[\"payments\"].mean())\n",
    "\n",
    "model = smf.ols('payments ~ email', data=data).fit()\n",
    "model.summary().tables[1]"
   ]
  },
  {
   "cell_type": "markdown",
   "id": "068f6a5b",
   "metadata": {},
   "source": [
    "ATE의 추정치는 -0.62로 조금 이상하다.\n",
    "\n",
    "이메일을 보내는 것이 연체 고객의 평균 지불 금액을 감소시키는 방법인가?\n",
    "\n",
    "P-value가 너무 높기 때문에 아무런 의미가 없을 수도 있다. \n",
    "\n",
    "다른 데이터를 살펴보자. 흥미로운 변수들이 있다.\n",
    "\n",
    "예를 들어, credit_limit은 연체 전 고객의 신용한도를 나타내고, risk_score는 이메일 보내지 건 고객의 예상 리스크이다.\n",
    "\n",
    "신용한도와 리스크는 연체고객의 지불금액을 예측하는데 매우 좋은 변수로 보인다. 하지만 이 변수들이 유용할까?\n",
    "\n",
    "첫째, treatment에 대한 통계적 유의성이 없는 이유를 이해해보자. 이 경우처럼 treatment가 outcome에 거의 영향을 미치지 않을 수 있다.\n",
    "\n",
    "생각해보면 사람들이 빚을 갚게 하는 것은 대체로 통제변수 이외의 요인일 것이다. 새로운 직장을 구하고, 재정, 수입등을 관리하며 빚을 갚기 때문.\n",
    "\n",
    "통계적인 관점에서 **지불금액의 변동성은, 메일을 수신하는 것 이외의 다른 요인** 에 의해서도 설명되고 있다고 말할 수 있다.\n",
    "\n",
    "이를 시각적으로 이해하기 위해 treatment인 이메일에 대한 연체 고객의 지불 금액(payments)를 표시할 수 있다.\n",
    "\n",
    "회귀모형의 적합값은 빨간색으로 표시했다.(이메일 변수에 약간의 노이즈를 추가하여 0 또는 1에서 값이 겹치지 않도록 시각화함)"
   ]
  },
  {
   "cell_type": "code",
   "execution_count": 4,
   "id": "2759ff3f",
   "metadata": {
    "ExecuteTime": {
     "end_time": "2023-10-05T15:38:55.066926Z",
     "start_time": "2023-10-05T15:38:54.985377Z"
    }
   },
   "outputs": [
    {
     "data": {
      "image/png": "[encoded data removed]",
      "text/plain": [
       "<Figure size 432x288 with 1 Axes>"
      ]
     },
     "metadata": {},
     "output_type": "display_data"
    }
   ],
   "source": [
    "sns.scatterplot(\"email\", \"payments\", \n",
    "                alpha=0.8,\n",
    "                data=data.assign(email=data[\"email\"] + np.random.normal(0, 0.01, size=len(data[\"email\"]))))\n",
    "plt.plot(np.linspace(-0.2, 1.2), model.params[0] + np.linspace(-1, 2) * model.params[1], c=\"C1\")\n",
    "plt.xlabel(\"Email\")\n",
    "plt.ylabel(\"Payments\");\n"
   ]
  },
  {
   "cell_type": "markdown",
   "id": "94349776",
   "metadata": {},
   "source": [
    "이제 단일 treatment 그룹에서 지불금액이 얼마나 큰 차이를 보이는지 알 수 있다.\n",
    "\n",
    "시각적으로 보면 두 그룹 모두 400 ~ 1000 정도이며, 0 대비 1에서 약간 낮아진 경향이 있다.\n",
    "\n",
    "이메일의 효과가 5.00R 또는 10.00R 정도일 경우, 모든 변동성 안에서 메일의 효과를 찾는 것은 어렵지 않다.\n",
    "\n",
    "다행히 회귀는 이러한 변동성을 낮추는데 도움을 준다.\n",
    "\n",
    "트릭은 통제변수를 추가하는 것이다. \n",
    "\n",
    "***변수가 outcome의 좋은 예측 변수인 경우, outcome의 분산의 많은 부분을 설명해 준다.***\n",
    "\n",
    "리스크와 신용한도가 지불금액의 좋은 예측 변수라면 이메일이 지불금액에 미치는 영향을 쉽게 찾을 수 있도록 통제할 수 있다.\n",
    "\n",
    "회귀가 어떻게 작용하는지 기억한다면, 이것은 직관적인 설명이다.\n",
    "\n",
    "회귀모형에 변수를 추가하는 것은 treatment를 검토하는 동안 변수를 일정하게 유지하는 것을 의미한다.\n",
    "\n",
    "따라서, 비슷한 신용한도와 리스크 점수가 나온다면, 반응변수 **payment**의 분산은 더 작아야 한다.\n",
    "\n",
    "즉, 리스크 점수와 신용한도가 지불금액을 매우 잘 예측한다면, 유사한 리스크 점수와 신용한도를 가진 고객들도 비슷한 지불금액 수준을 가져야하므로 변동이 적은 것이다.\n",
    "\n",
    "이를 입증하기 위해 두 단계로 회귀를 분해하는 분할 방법을 사용해보자.\n",
    "\n",
    "우선 treatment(이메일)과 outcome(지불금액)에 대해 추가 통제변수인 신용한도 및 리스크로 회귀한다.\n",
    "\n",
    "둘째, 1단계에서 얻은 outcome(지불금액)에 대한 잔차에 treatment(이메일)의 잔차를 회귀한다."
   ]
  },
  {
   "cell_type": "code",
   "execution_count": 5,
   "id": "0919fcfa",
   "metadata": {
    "ExecuteTime": {
     "end_time": "2023-10-05T15:38:56.220844Z",
     "start_time": "2023-10-05T15:38:56.160250Z"
    }
   },
   "outputs": [],
   "source": [
    "model_email = smf.ols('email ~ credit_limit + risk_score', data=data).fit()\n",
    "model_payments = smf.ols('payments ~ credit_limit + risk_score', data=data).fit()\n",
    "\n",
    "residuals = pd.DataFrame(dict(res_payments=model_payments.resid, res_email=model_email.resid))\n",
    "\n",
    "model_treatment = smf.ols('res_payments ~ res_email', data=residuals).fit()"
   ]
  },
  {
   "cell_type": "code",
   "execution_count": 6,
   "id": "df40bcbc",
   "metadata": {
    "ExecuteTime": {
     "end_time": "2023-10-05T15:38:57.053566Z",
     "start_time": "2023-10-05T15:38:56.770245Z"
    }
   },
   "outputs": [
    {
     "name": "stdout",
     "output_type": "stream",
     "text": [
      "Payments Variance 10807.61241599994\n",
      "Payments Residual Variance 5652.453558466198\n",
      "Email Variance 0.24991536000001294\n",
      "Email Residual Variance 0.24918421069820043\n"
     ]
    },
    {
     "data": {
      "text/html": [
       "<table class=\"simpletable\">\n",
       "<tr>\n",
       "      <td></td>         <th>coef</th>     <th>std err</th>      <th>t</th>      <th>P>|t|</th>  <th>[0.025</th>    <th>0.975]</th>  \n",
       "</tr>\n",
       "<tr>\n",
       "  <th>Intercept</th> <td> 7.427e-14</td> <td>    1.063</td> <td> 6.99e-14</td> <td> 1.000</td> <td>   -2.084</td> <td>    2.084</td>\n",
       "</tr>\n",
       "<tr>\n",
       "  <th>res_email</th> <td>    4.4304</td> <td>    2.129</td> <td>    2.080</td> <td> 0.038</td> <td>    0.256</td> <td>    8.605</td>\n",
       "</tr>\n",
       "</table>"
      ],
      "text/plain": [
       "<class 'statsmodels.iolib.table.SimpleTable'>"
      ]
     },
     "execution_count": 6,
     "metadata": {},
     "output_type": "execute_result"
    }
   ],
   "source": [
    "print(\"Payments Variance\", np.var(data[\"payments\"]))\n",
    "print(\"Payments Residual Variance\", np.var(residuals[\"res_payments\"]))\n",
    "\n",
    "print(\"Email Variance\", np.var(data[\"email\"]))\n",
    "print(\"Email Residual Variance\", np.var(residuals[\"res_email\"]))\n",
    "\n",
    "model_treatment.summary().tables[1]"
   ]
  },
  {
   "cell_type": "markdown",
   "id": "606df29d",
   "metadata": {},
   "source": [
    "다음으로 지불금액의 분산이 어떻게 10807(Payments Variance)에서 5652(Payments Residual Variance)로 변했는지 살펴보자.\n",
    "\n",
    "리스크와 신용한도를 통제할 경우, 거의 절반으로 분산이 줄었지만, treatment(이메일)의 분산을 줄이지는 못했다.\n",
    "\n",
    "리스크와 신용한도는 이메일을 전혀 예측하지 못하기 때문에 이 결과는 타당하다(random의 정의상 어떤것도 예측하지 않는다)\n",
    "\n",
    "이 새로운 추정치에 따르면, 이메일을 수신한 고객이 수신하지 않은 고객보다 평균 4.4 더 지불할 것으로 예상된다.\n",
    "\n",
    "또한, 각 통제 그룹내에서 분산이 어떻게 더 낮은지 시각화할 수 있다."
   ]
  },
  {
   "cell_type": "code",
   "execution_count": 7,
   "id": "b1593b4e",
   "metadata": {
    "ExecuteTime": {
     "end_time": "2023-10-05T15:38:58.385245Z",
     "start_time": "2023-10-05T15:38:58.311501Z"
    }
   },
   "outputs": [
    {
     "data": {
      "image/png": "[encoded data removed]",
      "text/plain": [
       "<Figure size 432x288 with 1 Axes>"
      ]
     },
     "metadata": {},
     "output_type": "display_data"
    }
   ],
   "source": [
    "sns.scatterplot(\"res_email\", \"res_payments\", data=residuals)\n",
    "plt.plot(np.linspace(-0.7, 1), model_treatment.params[0] + np.linspace(-1, 2) * model_treatment.params[1], c=\"C1\")\n",
    "plt.xlabel(\"Email Residuals\")\n",
    "plt.ylabel(\"Payments Residuals\");"
   ]
  },
  {
   "cell_type": "markdown",
   "id": "7f8d3849",
   "metadata": {},
   "source": [
    "실제로 회귀 모형에 treatment와 control 변수를 추가하면 추정치는 정확히 동일하다."
   ]
  },
  {
   "cell_type": "code",
   "execution_count": 8,
   "id": "19689163",
   "metadata": {
    "ExecuteTime": {
     "end_time": "2023-10-05T15:38:59.390277Z",
     "start_time": "2023-10-05T15:38:59.353533Z"
    }
   },
   "outputs": [
    {
     "data": {
      "text/html": [
       "<table class=\"simpletable\">\n",
       "<tr>\n",
       "        <td></td>          <th>coef</th>     <th>std err</th>      <th>t</th>      <th>P>|t|</th>  <th>[0.025</th>    <th>0.975]</th>  \n",
       "</tr>\n",
       "<tr>\n",
       "  <th>Intercept</th>    <td>  490.8653</td> <td>    9.715</td> <td>   50.527</td> <td> 0.000</td> <td>  471.820</td> <td>  509.911</td>\n",
       "</tr>\n",
       "<tr>\n",
       "  <th>email</th>        <td>    4.4304</td> <td>    2.130</td> <td>    2.080</td> <td> 0.038</td> <td>    0.255</td> <td>    8.606</td>\n",
       "</tr>\n",
       "<tr>\n",
       "  <th>credit_limit</th> <td>    0.1511</td> <td>    0.008</td> <td>   18.833</td> <td> 0.000</td> <td>    0.135</td> <td>    0.167</td>\n",
       "</tr>\n",
       "<tr>\n",
       "  <th>risk_score</th>   <td>   -8.0516</td> <td>   38.424</td> <td>   -0.210</td> <td> 0.834</td> <td>  -83.379</td> <td>   67.276</td>\n",
       "</tr>\n",
       "</table>"
      ],
      "text/plain": [
       "<class 'statsmodels.iolib.table.SimpleTable'>"
      ]
     },
     "execution_count": 8,
     "metadata": {},
     "output_type": "execute_result"
    }
   ],
   "source": [
    "model_2 = smf.ols('payments ~ email + credit_limit + risk_score', data=data).fit()\n",
    "model_2.summary().tables[1]"
   ]
  },
  {
   "cell_type": "markdown",
   "id": "d409e37f",
   "metadata": {},
   "source": [
    "결론적으로, outcome을 예측하기 위한 좋은 통제변수가 있을 경우, 굳이 교란요인이 아니더라도 모델에 추가하는 것은 좋은 생각일 수 있다.\n",
    "\n",
    "treatment 효과 추정치의 분산을 낮추는데 도움이 된다.\n",
    "\n",
    "이 상황을 인과 그래프로 나타내보자."
   ]
  },
  {
   "cell_type": "code",
   "execution_count": 9,
   "id": "d83e63f3",
   "metadata": {
    "ExecuteTime": {
     "end_time": "2023-10-05T15:39:00.847280Z",
     "start_time": "2023-10-05T15:39:00.397995Z"
    }
   },
   "outputs": [
    {
     "data": {
      "image/svg+xml": [
       "<?xml version=\"1.0\" encoding=\"UTF-8\" standalone=\"no\"?>\n",
       "<!DOCTYPE svg PUBLIC \"-//W3C//DTD SVG 1.1//EN\"\n",
       " \"http://www.w3.org/Graphics/SVG/1.1/DTD/svg11.dtd\">\n",
       "<!-- Generated by graphviz version 8.0.4 (20230421.1958)\n",
       " -->\n",
       "<!-- Pages: 1 -->\n",
       "<svg width=\"458pt\" height=\"116pt\"\n",
       " viewBox=\"0.00 0.00 457.79 116.00\" xmlns=\"http://www.w3.org/2000/svg\" xmlns:xlink=\"http://www.w3.org/1999/xlink\">\n",
       "<g id=\"graph0\" class=\"graph\" transform=\"scale(1 1) rotate(0) translate(4 112)\">\n",
       "<polygon fill=\"white\" stroke=\"none\" points=\"-4,4 -4,-112 453.79,-112 453.79,4 -4,4\"/>\n",
       "<!-- X -->\n",
       "<g id=\"node1\" class=\"node\">\n",
       "<title>X</title>\n",
       "<ellipse fill=\"none\" stroke=\"black\" cx=\"27\" cy=\"-90\" rx=\"27\" ry=\"18\"/>\n",
       "<text text-anchor=\"middle\" x=\"27\" y=\"-84.95\" font-family=\"Times,serif\" font-size=\"14.00\">X</text>\n",
       "</g>\n",
       "<!-- Y -->\n",
       "<g id=\"node2\" class=\"node\">\n",
       "<title>Y</title>\n",
       "<ellipse fill=\"none\" stroke=\"black\" cx=\"63\" cy=\"-18\" rx=\"27\" ry=\"18\"/>\n",
       "<text text-anchor=\"middle\" x=\"63\" y=\"-12.95\" font-family=\"Times,serif\" font-size=\"14.00\">Y</text>\n",
       "</g>\n",
       "<!-- X&#45;&gt;Y -->\n",
       "<g id=\"edge1\" class=\"edge\">\n",
       "<title>X&#45;&gt;Y</title>\n",
       "<path fill=\"none\" stroke=\"black\" d=\"M35.35,-72.76C39.62,-64.46 44.92,-54.15 49.73,-44.79\"/>\n",
       "<polygon fill=\"black\" stroke=\"black\" points=\"53.23,-46.64 54.7,-36.15 47.01,-43.44 53.23,-46.64\"/>\n",
       "</g>\n",
       "<!-- T -->\n",
       "<g id=\"node3\" class=\"node\">\n",
       "<title>T</title>\n",
       "<ellipse fill=\"none\" stroke=\"gold\" cx=\"99\" cy=\"-90\" rx=\"27\" ry=\"18\"/>\n",
       "<text text-anchor=\"middle\" x=\"99\" y=\"-84.95\" font-family=\"Times,serif\" font-size=\"14.00\">T</text>\n",
       "</g>\n",
       "<!-- T&#45;&gt;Y -->\n",
       "<g id=\"edge2\" class=\"edge\">\n",
       "<title>T&#45;&gt;Y</title>\n",
       "<path fill=\"none\" stroke=\"black\" d=\"M90.65,-72.76C86.38,-64.46 81.08,-54.15 76.27,-44.79\"/>\n",
       "<polygon fill=\"black\" stroke=\"black\" points=\"78.99,-43.44 71.3,-36.15 72.77,-46.64 78.99,-43.44\"/>\n",
       "</g>\n",
       "<!-- email -->\n",
       "<g id=\"node4\" class=\"node\">\n",
       "<title>email</title>\n",
       "<ellipse fill=\"none\" stroke=\"gold\" cx=\"176\" cy=\"-90\" rx=\"31.9\" ry=\"18\"/>\n",
       "<text text-anchor=\"middle\" x=\"176\" y=\"-84.95\" font-family=\"Times,serif\" font-size=\"14.00\">email</text>\n",
       "</g>\n",
       "<!-- payments -->\n",
       "<g id=\"node6\" class=\"node\">\n",
       "<title>payments</title>\n",
       "<ellipse fill=\"none\" stroke=\"black\" cx=\"280\" cy=\"-18\" rx=\"46.75\" ry=\"18\"/>\n",
       "<text text-anchor=\"middle\" x=\"280\" y=\"-12.95\" font-family=\"Times,serif\" font-size=\"14.00\">payments</text>\n",
       "</g>\n",
       "<!-- email&#45;&gt;payments -->\n",
       "<g id=\"edge5\" class=\"edge\">\n",
       "<title>email&#45;&gt;payments</title>\n",
       "<path fill=\"none\" stroke=\"black\" d=\"M196.05,-75.5C210.89,-65.51 231.4,-51.71 248.44,-40.25\"/>\n",
       "<polygon fill=\"black\" stroke=\"black\" points=\"250.14,-42.64 256.48,-34.16 246.23,-36.84 250.14,-42.64\"/>\n",
       "</g>\n",
       "<!-- credit_limit -->\n",
       "<g id=\"node5\" class=\"node\">\n",
       "<title>credit_limit</title>\n",
       "<ellipse fill=\"none\" stroke=\"black\" cx=\"280\" cy=\"-90\" rx=\"54.42\" ry=\"18\"/>\n",
       "<text text-anchor=\"middle\" x=\"280\" y=\"-84.95\" font-family=\"Times,serif\" font-size=\"14.00\">credit_limit</text>\n",
       "</g>\n",
       "<!-- credit_limit&#45;&gt;payments -->\n",
       "<g id=\"edge3\" class=\"edge\">\n",
       "<title>credit_limit&#45;&gt;payments</title>\n",
       "<path fill=\"none\" stroke=\"black\" d=\"M280,-71.7C280,-64.24 280,-55.32 280,-46.97\"/>\n",
       "<polygon fill=\"black\" stroke=\"black\" points=\"283.5,-47.1 280,-37.1 276.5,-47.1 283.5,-47.1\"/>\n",
       "</g>\n",
       "<!-- risk_score -->\n",
       "<g id=\"node7\" class=\"node\">\n",
       "<title>risk_score</title>\n",
       "<ellipse fill=\"none\" stroke=\"black\" cx=\"401\" cy=\"-90\" rx=\"48.79\" ry=\"18\"/>\n",
       "<text text-anchor=\"middle\" x=\"401\" y=\"-84.95\" font-family=\"Times,serif\" font-size=\"14.00\">risk_score</text>\n",
       "</g>\n",
       "<!-- risk_score&#45;&gt;payments -->\n",
       "<g id=\"edge4\" class=\"edge\">\n",
       "<title>risk_score&#45;&gt;payments</title>\n",
       "<path fill=\"none\" stroke=\"black\" d=\"M375.63,-74.33C357.85,-64.04 333.87,-50.16 314.37,-38.88\"/>\n",
       "<polygon fill=\"black\" stroke=\"black\" points=\"316.33,-35.39 305.92,-33.42 312.82,-41.45 316.33,-35.39\"/>\n",
       "</g>\n",
       "</g>\n",
       "</svg>\n"
      ],
      "text/plain": [
       "<graphviz.graphs.Digraph at 0x161b075e0>"
      ]
     },
     "execution_count": 9,
     "metadata": {},
     "output_type": "execute_result"
    }
   ],
   "source": [
    "g = gr.Digraph()\n",
    "g.edge(\"X\", \"Y\"), g.edge(\"T\", \"Y\")\n",
    "g.node(\"T\", color=\"gold\")\n",
    "\n",
    "g.node(\"email\", color=\"gold\")\n",
    "g.edge(\"credit_limit\", \"payments\")\n",
    "g.edge(\"risk_score\", \"payments\")\n",
    "g.edge(\"email\", \"payments\")\n",
    "\n",
    "g"
   ]
  },
  {
   "cell_type": "markdown",
   "id": "c5b3db70",
   "metadata": {},
   "source": [
    "## Mostly Harmful Controls"
   ]
  },
  {
   "cell_type": "markdown",
   "id": "4fc3b2b0",
   "metadata": {},
   "source": [
    "두 병원의 약물 검사 시나리오를 예시로 들어보자.\n",
    "\n",
    "두 병원 모두 특정 질병을 치료하기 위해 신약에 대한 무작위 실험을 진행하고 있으며, 반응변수는 입원 일수이다.\n",
    "\n",
    "치료가 효과적이면 환자의 입원일수가 줄어들 것이다.\n",
    "\n",
    "한 병원의 경우, 임의로 환자의 90%에게 약을 투여하고 10%에는 위약을 투여한다.\n",
    "\n",
    "다른 병원의 경우, 임의로 환자의 10%에게 약을 투여하고, 90%에는 위약을 투여한다.\n",
    "\n",
    "환자에게 90%의 진짜 약물과 10%의 위약을 투여하는 병원이 보통 치료하는데 더 심각한 질병인 경우가 많다."
   ]
  },
  {
   "cell_type": "code",
   "execution_count": 10,
   "id": "eaa1cc7f",
   "metadata": {
    "ExecuteTime": {
     "end_time": "2023-10-05T15:39:02.528982Z",
     "start_time": "2023-10-05T15:39:02.509431Z"
    }
   },
   "outputs": [
    {
     "data": {
      "text/html": [
       "<div>\n",
       "<style scoped>\n",
       "    .dataframe tbody tr th:only-of-type {\n",
       "        vertical-align: middle;\n",
       "    }\n",
       "\n",
       "    .dataframe tbody tr th {\n",
       "        vertical-align: top;\n",
       "    }\n",
       "\n",
       "    .dataframe thead th {\n",
       "        text-align: right;\n",
       "    }\n",
       "</style>\n",
       "<table border=\"1\" class=\"dataframe\">\n",
       "  <thead>\n",
       "    <tr style=\"text-align: right;\">\n",
       "      <th></th>\n",
       "      <th>hospital</th>\n",
       "      <th>treatment</th>\n",
       "      <th>severity</th>\n",
       "      <th>days</th>\n",
       "    </tr>\n",
       "  </thead>\n",
       "  <tbody>\n",
       "    <tr>\n",
       "      <th>0</th>\n",
       "      <td>1</td>\n",
       "      <td>1</td>\n",
       "      <td>29.686618</td>\n",
       "      <td>82</td>\n",
       "    </tr>\n",
       "    <tr>\n",
       "      <th>1</th>\n",
       "      <td>1</td>\n",
       "      <td>1</td>\n",
       "      <td>20.050340</td>\n",
       "      <td>57</td>\n",
       "    </tr>\n",
       "    <tr>\n",
       "      <th>2</th>\n",
       "      <td>1</td>\n",
       "      <td>1</td>\n",
       "      <td>20.302399</td>\n",
       "      <td>49</td>\n",
       "    </tr>\n",
       "    <tr>\n",
       "      <th>3</th>\n",
       "      <td>0</td>\n",
       "      <td>0</td>\n",
       "      <td>10.603118</td>\n",
       "      <td>44</td>\n",
       "    </tr>\n",
       "    <tr>\n",
       "      <th>4</th>\n",
       "      <td>0</td>\n",
       "      <td>0</td>\n",
       "      <td>8.332793</td>\n",
       "      <td>15</td>\n",
       "    </tr>\n",
       "  </tbody>\n",
       "</table>\n",
       "</div>"
      ],
      "text/plain": [
       "   hospital  treatment   severity  days\n",
       "0         1          1  29.686618    82\n",
       "1         1          1  20.050340    57\n",
       "2         1          1  20.302399    49\n",
       "3         0          0  10.603118    44\n",
       "4         0          0   8.332793    15"
      ]
     },
     "execution_count": 10,
     "metadata": {},
     "output_type": "execute_result"
    }
   ],
   "source": [
    "hospital = pd.read_csv(\"./data/hospital_treatment.csv\")\n",
    "hospital.head()"
   ]
  },
  {
   "cell_type": "code",
   "execution_count": 15,
   "id": "734ed8c9",
   "metadata": {
    "ExecuteTime": {
     "end_time": "2023-10-05T16:03:27.877430Z",
     "start_time": "2023-10-05T16:03:27.863354Z"
    }
   },
   "outputs": [
    {
     "data": {
      "text/plain": [
       "0    27\n",
       "1     2\n",
       "Name: treatment, dtype: int64"
      ]
     },
     "execution_count": 15,
     "metadata": {},
     "output_type": "execute_result"
    }
   ],
   "source": [
    "hospital[hospital['hospital']==0].treatment.value_counts()"
   ]
  },
  {
   "cell_type": "code",
   "execution_count": 16,
   "id": "dd618ee4",
   "metadata": {
    "ExecuteTime": {
     "end_time": "2023-10-05T16:03:34.197816Z",
     "start_time": "2023-10-05T16:03:34.186231Z"
    }
   },
   "outputs": [
    {
     "data": {
      "text/plain": [
       "1    48\n",
       "0     3\n",
       "Name: treatment, dtype: int64"
      ]
     },
     "execution_count": 16,
     "metadata": {},
     "output_type": "execute_result"
    }
   ],
   "source": [
    "hospital[hospital['hospital']==1].treatment.value_counts()"
   ]
  },
  {
   "cell_type": "markdown",
   "id": "658b0847",
   "metadata": {},
   "source": [
    "랜덤화된 데이터를 다루고 있기 떄문에, 첫번째 직관은 단순히 treatment를 outcome에 대해 회귀하는 것이다."
   ]
  },
  {
   "cell_type": "code",
   "execution_count": 11,
   "id": "251c3d37",
   "metadata": {
    "ExecuteTime": {
     "end_time": "2023-10-05T15:39:04.133991Z",
     "start_time": "2023-10-05T15:39:04.115474Z"
    }
   },
   "outputs": [
    {
     "data": {
      "text/html": [
       "<table class=\"simpletable\">\n",
       "<tr>\n",
       "      <td></td>         <th>coef</th>     <th>std err</th>      <th>t</th>      <th>P>|t|</th>  <th>[0.025</th>    <th>0.975]</th>  \n",
       "</tr>\n",
       "<tr>\n",
       "  <th>Intercept</th> <td>   33.2667</td> <td>    2.662</td> <td>   12.498</td> <td> 0.000</td> <td>   27.968</td> <td>   38.566</td>\n",
       "</tr>\n",
       "<tr>\n",
       "  <th>treatment</th> <td>   14.1533</td> <td>    3.367</td> <td>    4.204</td> <td> 0.000</td> <td>    7.451</td> <td>   20.856</td>\n",
       "</tr>\n",
       "</table>"
      ],
      "text/plain": [
       "<class 'statsmodels.iolib.table.SimpleTable'>"
      ]
     },
     "execution_count": 11,
     "metadata": {},
     "output_type": "execute_result"
    }
   ],
   "source": [
    "hosp_1 = smf.ols('days ~ treatment', data=hospital).fit()\n",
    "hosp_1.summary().tables[1]"
   ]
  },
  {
   "cell_type": "markdown",
   "id": "6aa10c3e",
   "metadata": {},
   "source": [
    "위의 결과는 직관에 반하는 결과를 얻었다. 어떻게 treatment가 입원 일수를 증가시킬 수 있을까?\n",
    "\n",
    "중증도는 입원일수 증가와 긍정적으로 연관되며, 중증환자가 많은 병원에서 약물을 더 많이 투여하기 때문에, 약물은 입원일수 증가와 확실히 상관관계가 있다.\n",
    "\n",
    "두 병원을 함께 살펴보면, $E[Y_0|T=0]<E[Y_0|T=1]$가 있다. \n",
    "\n",
    "즉, 중증이 아닌 환자가 있는 병원에 치료를 받지 않은 환자가 더 많기 때문에 치료를 받지 않은 환자의 잠재적 결과는 평균적으로 치료를 받은 그룹의 잠재적 결과보다 낮다.\n",
    "\n",
    "즉, 중증도는 환자가 가는 병원과 약을 받을 확률을 결정하는 교란 요인으로 작용.\n",
    "\n",
    "이러한 결과를 수정하는 방법은 두 가지가 있다.\n",
    "첫째는 두 병원 모두 데이터를 사용하는 목적에 어긋나는 것으로 각 병원별로 ATE를 살펴보는 것이다."
   ]
  },
  {
   "cell_type": "code",
   "execution_count": 17,
   "id": "fc270852",
   "metadata": {
    "ExecuteTime": {
     "end_time": "2023-10-05T16:04:42.896217Z",
     "start_time": "2023-10-05T16:04:42.874283Z"
    }
   },
   "outputs": [
    {
     "data": {
      "text/html": [
       "<table class=\"simpletable\">\n",
       "<tr>\n",
       "      <td></td>         <th>coef</th>     <th>std err</th>      <th>t</th>      <th>P>|t|</th>  <th>[0.025</th>    <th>0.975]</th>  \n",
       "</tr>\n",
       "<tr>\n",
       "  <th>Intercept</th> <td>   30.4074</td> <td>    2.868</td> <td>   10.602</td> <td> 0.000</td> <td>   24.523</td> <td>   36.292</td>\n",
       "</tr>\n",
       "<tr>\n",
       "  <th>treatment</th> <td>  -11.4074</td> <td>   10.921</td> <td>   -1.045</td> <td> 0.306</td> <td>  -33.816</td> <td>   11.001</td>\n",
       "</tr>\n",
       "</table>"
      ],
      "text/plain": [
       "<class 'statsmodels.iolib.table.SimpleTable'>"
      ]
     },
     "execution_count": 17,
     "metadata": {},
     "output_type": "execute_result"
    }
   ],
   "source": [
    "hosp_2 = smf.ols('days ~ treatment', data=hospital.query(\"hospital==0\")).fit()\n",
    "hosp_2.summary().tables[1]"
   ]
  },
  {
   "cell_type": "code",
   "execution_count": 18,
   "id": "ed4f4e51",
   "metadata": {
    "ExecuteTime": {
     "end_time": "2023-10-05T16:04:57.762544Z",
     "start_time": "2023-10-05T16:04:57.741113Z"
    }
   },
   "outputs": [
    {
     "data": {
      "text/html": [
       "<table class=\"simpletable\">\n",
       "<tr>\n",
       "      <td></td>         <th>coef</th>     <th>std err</th>      <th>t</th>      <th>P>|t|</th>  <th>[0.025</th>    <th>0.975]</th>  \n",
       "</tr>\n",
       "<tr>\n",
       "  <th>Intercept</th> <td>   59.0000</td> <td>    6.747</td> <td>    8.745</td> <td> 0.000</td> <td>   45.442</td> <td>   72.558</td>\n",
       "</tr>\n",
       "<tr>\n",
       "  <th>treatment</th> <td>  -10.3958</td> <td>    6.955</td> <td>   -1.495</td> <td> 0.141</td> <td>  -24.371</td> <td>    3.580</td>\n",
       "</tr>\n",
       "</table>"
      ],
      "text/plain": [
       "<class 'statsmodels.iolib.table.SimpleTable'>"
      ]
     },
     "execution_count": 18,
     "metadata": {},
     "output_type": "execute_result"
    }
   ],
   "source": [
    "hosp_2 = smf.ols('days ~ treatment', data=hospital.query(\"hospital==1\")).fit()\n",
    "hosp_2.summary().tables[1]"
   ]
  },
  {
   "cell_type": "markdown",
   "id": "cd0a098a",
   "metadata": {},
   "source": [
    "각 병원별로 나눠 살펴본 결과, 직관적인 ATE를 얻었다.\n",
    "\n",
    "약은 사실상 병원 입원일수를 줄여주는 것으로 보인다. 다만, 각 병원을 개별적으로 보고 있기 때문에 데이터가 충분치 않다.\n",
    "\n",
    "따라서 통계적으로 유의한 결과를 찾을 수 없다.\n",
    "\n",
    "회귀의 힘을 활용하는 다른 접근 방법은 모델에 중증도 변수를 포함하여 통제하는 것이다.(두번째 방법)"
   ]
  },
  {
   "cell_type": "code",
   "execution_count": 19,
   "id": "f81a556f",
   "metadata": {
    "ExecuteTime": {
     "end_time": "2023-10-05T16:07:17.208799Z",
     "start_time": "2023-10-05T16:07:17.184390Z"
    }
   },
   "outputs": [
    {
     "data": {
      "text/html": [
       "<table class=\"simpletable\">\n",
       "<tr>\n",
       "      <td></td>         <th>coef</th>     <th>std err</th>      <th>t</th>      <th>P>|t|</th>  <th>[0.025</th>    <th>0.975]</th>  \n",
       "</tr>\n",
       "<tr>\n",
       "  <th>Intercept</th> <td>   11.6641</td> <td>    2.000</td> <td>    5.832</td> <td> 0.000</td> <td>    7.681</td> <td>   15.647</td>\n",
       "</tr>\n",
       "<tr>\n",
       "  <th>treatment</th> <td>   -7.5912</td> <td>    2.269</td> <td>   -3.345</td> <td> 0.001</td> <td>  -12.110</td> <td>   -3.073</td>\n",
       "</tr>\n",
       "<tr>\n",
       "  <th>severity</th>  <td>    2.2741</td> <td>    0.154</td> <td>   14.793</td> <td> 0.000</td> <td>    1.968</td> <td>    2.580</td>\n",
       "</tr>\n",
       "</table>"
      ],
      "text/plain": [
       "<class 'statsmodels.iolib.table.SimpleTable'>"
      ]
     },
     "execution_count": 19,
     "metadata": {},
     "output_type": "execute_result"
    }
   ],
   "source": [
    "hosp_4 = smf.ols('days ~ treatment + severity', data=hospital).fit()\n",
    "hosp_4.summary().tables[1]"
   ]
  },
  {
   "cell_type": "markdown",
   "id": "20f0a2de",
   "metadata": {},
   "source": [
    "이제 다음 질문은 병원 변수도 모형에 포함시켜야 하는가이다.\n",
    "\n",
    "중증도를 통제하고나면 병원 변수는 더 이상 입원일수와 상관관계가 없다.\n",
    "\n",
    "교란요인이 되기 위해서는 treatment와 outcome에 모두 원인이 되어야한다.\n",
    "\n",
    "병원 변수를 포함하여 확인해보자."
   ]
  },
  {
   "cell_type": "code",
   "execution_count": 20,
   "id": "864b8f3d",
   "metadata": {
    "ExecuteTime": {
     "end_time": "2023-10-05T16:11:06.873534Z",
     "start_time": "2023-10-05T16:11:06.850746Z"
    }
   },
   "outputs": [
    {
     "data": {
      "text/html": [
       "<table class=\"simpletable\">\n",
       "<tr>\n",
       "      <td></td>         <th>coef</th>     <th>std err</th>      <th>t</th>      <th>P>|t|</th>  <th>[0.025</th>    <th>0.975]</th>  \n",
       "</tr>\n",
       "<tr>\n",
       "  <th>Intercept</th> <td>   11.0111</td> <td>    2.118</td> <td>    5.198</td> <td> 0.000</td> <td>    6.792</td> <td>   15.230</td>\n",
       "</tr>\n",
       "<tr>\n",
       "  <th>treatment</th> <td>   -5.0945</td> <td>    3.492</td> <td>   -1.459</td> <td> 0.149</td> <td>  -12.049</td> <td>    1.861</td>\n",
       "</tr>\n",
       "<tr>\n",
       "  <th>severity</th>  <td>    2.3865</td> <td>    0.195</td> <td>   12.251</td> <td> 0.000</td> <td>    1.999</td> <td>    2.774</td>\n",
       "</tr>\n",
       "<tr>\n",
       "  <th>hospital</th>  <td>   -4.1535</td> <td>    4.413</td> <td>   -0.941</td> <td> 0.350</td> <td>  -12.943</td> <td>    4.636</td>\n",
       "</tr>\n",
       "</table>"
      ],
      "text/plain": [
       "<class 'statsmodels.iolib.table.SimpleTable'>"
      ]
     },
     "execution_count": 20,
     "metadata": {},
     "output_type": "execute_result"
    }
   ],
   "source": [
    "hosp_5 = smf.ols('days ~ treatment + severity + hospital', data=hospital).fit()\n",
    "hosp_5.summary().tables[1]"
   ]
  },
  {
   "cell_type": "markdown",
   "id": "5f5e31ec",
   "metadata": {},
   "source": [
    "중증도 외에 병원을 통제변수로 추가하자 ATE 추정치에 더 많은 편차가 발생하였다. '\n",
    "\n",
    "어떻게 이런 결과가 나왔을까? 답은 회귀 계수의 표준오차 공식에 있다.\n",
    "\n",
    "$\n",
    "\\hat{\\sigma}^2 = \\dfrac{1}{n-2} \\sum( y_i - \\hat{y}_i )^2\n",
    "$\n",
    "\n",
    "$\n",
    "\\text{Var}(\\hat{\\beta}_2) = \\dfrac{\\sigma^2}{\\sum(x_i - \\bar{x})^2}\n",
    "$\n",
    "\n",
    "이 공식에서 표준오차는 X의 분산에 반비례한다는 것을 알 수 있다. \n",
    "\n",
    "즉, X가 크게 변하지 않는다면, outcome에 미치는 효과를 추정하기 어렵다. \n",
    "\n",
    "극단적으로 약물의 효과를 추정하는 척하고 만 명을 대상으로 검사를 실시하지만, 그 중 한 명만 치료를 받는다고 가정해보자.\n",
    "\n",
    "이것은 ATE를 찾는 것을 매우 어렵게 만들 것임. \n",
    "\n",
    "우리는 한 명의 개인과 다른 모든 사람을 비교하는 것에 의존해야 한다. \n",
    "\n",
    "이를 다르게 표현하면 치료의 효과를 쉽게 찾을 수 있도록 치료에 대한 더 많은 다양성이 필요하다는 것이다.\n",
    "\n",
    "즉, 모형에 병원 변수를 추가하면 추정량의 오차가 증가하는 이유는 treatment에는 좋은 예측변수이지만 outcome에는 좋은 예측변수가 아니기 때문(중증도를 통제할 경우). \n",
    "\n",
    "따라서 treatment를 예측함으로써 분산을 낮추는 효과를 가질 수 있다! \n",
    "\n",
    "위의 회귀모형을 두 단계로 분해하여 확인해보자.\n"
   ]
  },
  {
   "cell_type": "code",
   "execution_count": 21,
   "id": "34842700",
   "metadata": {
    "ExecuteTime": {
     "end_time": "2023-10-05T16:15:13.566882Z",
     "start_time": "2023-10-05T16:15:13.535539Z"
    }
   },
   "outputs": [
    {
     "data": {
      "text/html": [
       "<table class=\"simpletable\">\n",
       "<tr>\n",
       "        <td></td>           <th>coef</th>     <th>std err</th>      <th>t</th>      <th>P>|t|</th>  <th>[0.025</th>    <th>0.975]</th>  \n",
       "</tr>\n",
       "<tr>\n",
       "  <th>Intercept</th>     <td> 1.673e-14</td> <td>    0.827</td> <td> 2.02e-14</td> <td> 1.000</td> <td>   -1.646</td> <td>    1.646</td>\n",
       "</tr>\n",
       "<tr>\n",
       "  <th>res_treatment</th> <td>   -5.0945</td> <td>    3.447</td> <td>   -1.478</td> <td> 0.143</td> <td>  -11.957</td> <td>    1.768</td>\n",
       "</tr>\n",
       "</table>"
      ],
      "text/plain": [
       "<class 'statsmodels.iolib.table.SimpleTable'>"
      ]
     },
     "execution_count": 21,
     "metadata": {},
     "output_type": "execute_result"
    }
   ],
   "source": [
    "model_treatment = smf.ols('treatment ~ severity + hospital', data=hospital).fit()\n",
    "model_days = smf.ols('days ~ severity + hospital', data=hospital).fit()\n",
    "\n",
    "residuals = pd.DataFrame(dict(res_days=model_days.resid, res_treatment=model_treatment.resid))\n",
    "\n",
    "model_treatment = smf.ols('res_days ~ res_treatment', data=residuals).fit()\n",
    "\n",
    "model_treatment.summary().tables[1]"
   ]
  },
  {
   "cell_type": "code",
   "execution_count": 22,
   "id": "90607cfd",
   "metadata": {
    "ExecuteTime": {
     "end_time": "2023-10-05T16:15:20.974208Z",
     "start_time": "2023-10-05T16:15:20.963816Z"
    }
   },
   "outputs": [
    {
     "name": "stdout",
     "output_type": "stream",
     "text": [
      "Treatment Variance 0.234375\n",
      "Treatment Residual Variance 0.05752909187211909\n"
     ]
    }
   ],
   "source": [
    "print(\"Treatment Variance\", np.var(hospital[\"treatment\"]))\n",
    "print(\"Treatment Residual Variance\", np.var(residuals[\"res_treatment\"]))"
   ]
  },
  {
   "cell_type": "code",
   "execution_count": 23,
   "id": "9aa3f93b",
   "metadata": {
    "ExecuteTime": {
     "end_time": "2023-10-06T02:41:51.699280Z",
     "start_time": "2023-10-06T02:41:51.678344Z"
    }
   },
   "outputs": [
    {
     "name": "stdout",
     "output_type": "stream",
     "text": [
      "SE of the Coeficient: 3.446973767486902\n"
     ]
    }
   ],
   "source": [
    "sigma_hat = sum(model_treatment.resid**2)/(len(model_treatment.resid)-2)\n",
    "var = sigma_hat/sum((residuals[\"res_treatment\"] - residuals[\"res_treatment\"].mean())**2)\n",
    "print(\"SE of the Coeficient:\", np.sqrt(var))"
   ]
  },
  {
   "cell_type": "markdown",
   "id": "8c6227fa",
   "metadata": {},
   "source": [
    "위의 SE(Standard Error) 수식이 참임을 확인할 수 있다.\n",
    "\n",
    "\n",
    "따라서, 결론은 위의 모델의 중증도 변수와 같이 treatment 및 outcome(혼란 요인)과 관련된 통제변수를 추가해야한다는 것이다.\n",
    "\n",
    "또한, 교란요인이 아니더라도 outcome에 좋은 예측변수가 되는 통제변수를 추가해야한다.\n",
    "그 이유는 이러ㅏㄴ 통제변수는 추정치의 분산을 낮추기 때문이다.\n",
    "\n",
    "그러나, treatment에 좋은 예측변수인 통제변수는 추정량의 분산을 증가시키므로 추가해서는 안된다.\n",
    "\n",
    "이 상황을 인과관계 그래프로 표현해보자."
   ]
  },
  {
   "cell_type": "code",
   "execution_count": 24,
   "id": "a954bf64",
   "metadata": {
    "ExecuteTime": {
     "end_time": "2023-10-06T02:44:35.515029Z",
     "start_time": "2023-10-06T02:44:35.378035Z"
    }
   },
   "outputs": [
    {
     "data": {
      "image/svg+xml": [
       "<?xml version=\"1.0\" encoding=\"UTF-8\" standalone=\"no\"?>\n",
       "<!DOCTYPE svg PUBLIC \"-//W3C//DTD SVG 1.1//EN\"\n",
       " \"http://www.w3.org/Graphics/SVG/1.1/DTD/svg11.dtd\">\n",
       "<!-- Generated by graphviz version 8.0.4 (20230421.1958)\n",
       " -->\n",
       "<!-- Pages: 1 -->\n",
       "<svg width=\"204pt\" height=\"260pt\"\n",
       " viewBox=\"0.00 0.00 204.09 260.00\" xmlns=\"http://www.w3.org/2000/svg\" xmlns:xlink=\"http://www.w3.org/1999/xlink\">\n",
       "<g id=\"graph0\" class=\"graph\" transform=\"scale(1 1) rotate(0) translate(4 256)\">\n",
       "<polygon fill=\"white\" stroke=\"none\" points=\"-4,4 -4,-256 200.09,-256 200.09,4 -4,4\"/>\n",
       "<!-- X -->\n",
       "<g id=\"node1\" class=\"node\">\n",
       "<title>X</title>\n",
       "<ellipse fill=\"none\" stroke=\"black\" cx=\"27\" cy=\"-234\" rx=\"27\" ry=\"18\"/>\n",
       "<text text-anchor=\"middle\" x=\"27\" y=\"-228.95\" font-family=\"Times,serif\" font-size=\"14.00\">X</text>\n",
       "</g>\n",
       "<!-- T -->\n",
       "<g id=\"node2\" class=\"node\">\n",
       "<title>T</title>\n",
       "<ellipse fill=\"none\" stroke=\"gold\" cx=\"27\" cy=\"-162\" rx=\"27\" ry=\"18\"/>\n",
       "<text text-anchor=\"middle\" x=\"27\" y=\"-156.95\" font-family=\"Times,serif\" font-size=\"14.00\">T</text>\n",
       "</g>\n",
       "<!-- X&#45;&gt;T -->\n",
       "<g id=\"edge1\" class=\"edge\">\n",
       "<title>X&#45;&gt;T</title>\n",
       "<path fill=\"none\" stroke=\"black\" d=\"M27,-215.7C27,-208.24 27,-199.32 27,-190.97\"/>\n",
       "<polygon fill=\"black\" stroke=\"black\" points=\"30.5,-191.1 27,-181.1 23.5,-191.1 30.5,-191.1\"/>\n",
       "</g>\n",
       "<!-- Y -->\n",
       "<g id=\"node3\" class=\"node\">\n",
       "<title>Y</title>\n",
       "<ellipse fill=\"none\" stroke=\"black\" cx=\"27\" cy=\"-90\" rx=\"27\" ry=\"18\"/>\n",
       "<text text-anchor=\"middle\" x=\"27\" y=\"-84.95\" font-family=\"Times,serif\" font-size=\"14.00\">Y</text>\n",
       "</g>\n",
       "<!-- T&#45;&gt;Y -->\n",
       "<g id=\"edge2\" class=\"edge\">\n",
       "<title>T&#45;&gt;Y</title>\n",
       "<path fill=\"none\" stroke=\"black\" d=\"M27,-143.7C27,-136.24 27,-127.32 27,-118.97\"/>\n",
       "<polygon fill=\"black\" stroke=\"black\" points=\"30.5,-119.1 27,-109.1 23.5,-119.1 30.5,-119.1\"/>\n",
       "</g>\n",
       "<!-- treatment -->\n",
       "<g id=\"node4\" class=\"node\">\n",
       "<title>treatment</title>\n",
       "<ellipse fill=\"none\" stroke=\"gold\" cx=\"118\" cy=\"-90\" rx=\"46.23\" ry=\"18\"/>\n",
       "<text text-anchor=\"middle\" x=\"118\" y=\"-84.95\" font-family=\"Times,serif\" font-size=\"14.00\">treatment</text>\n",
       "</g>\n",
       "<!-- days -->\n",
       "<g id=\"node7\" class=\"node\">\n",
       "<title>days</title>\n",
       "<ellipse fill=\"none\" stroke=\"black\" cx=\"155\" cy=\"-18\" rx=\"27.81\" ry=\"18\"/>\n",
       "<text text-anchor=\"middle\" x=\"155\" y=\"-12.95\" font-family=\"Times,serif\" font-size=\"14.00\">days</text>\n",
       "</g>\n",
       "<!-- treatment&#45;&gt;days -->\n",
       "<g id=\"edge6\" class=\"edge\">\n",
       "<title>treatment&#45;&gt;days</title>\n",
       "<path fill=\"none\" stroke=\"black\" d=\"M126.96,-72.05C131.25,-63.94 136.48,-54.04 141.25,-45.01\"/>\n",
       "<polygon fill=\"black\" stroke=\"black\" points=\"144.8,-46.78 146.38,-36.31 138.61,-43.51 144.8,-46.78\"/>\n",
       "</g>\n",
       "<!-- severity -->\n",
       "<g id=\"node5\" class=\"node\">\n",
       "<title>severity</title>\n",
       "<ellipse fill=\"none\" stroke=\"black\" cx=\"156\" cy=\"-234\" rx=\"40.09\" ry=\"18\"/>\n",
       "<text text-anchor=\"middle\" x=\"156\" y=\"-228.95\" font-family=\"Times,serif\" font-size=\"14.00\">severity</text>\n",
       "</g>\n",
       "<!-- hospital -->\n",
       "<g id=\"node6\" class=\"node\">\n",
       "<title>hospital</title>\n",
       "<ellipse fill=\"none\" stroke=\"black\" cx=\"121\" cy=\"-162\" rx=\"40.09\" ry=\"18\"/>\n",
       "<text text-anchor=\"middle\" x=\"121\" y=\"-156.95\" font-family=\"Times,serif\" font-size=\"14.00\">hospital</text>\n",
       "</g>\n",
       "<!-- severity&#45;&gt;hospital -->\n",
       "<g id=\"edge3\" class=\"edge\">\n",
       "<title>severity&#45;&gt;hospital</title>\n",
       "<path fill=\"none\" stroke=\"black\" d=\"M147.53,-216.05C143.53,-208.06 138.67,-198.33 134.2,-189.4\"/>\n",
       "<polygon fill=\"black\" stroke=\"black\" points=\"137,-188.17 129.39,-180.79 130.74,-191.3 137,-188.17\"/>\n",
       "</g>\n",
       "<!-- severity&#45;&gt;days -->\n",
       "<g id=\"edge4\" class=\"edge\">\n",
       "<title>severity&#45;&gt;days</title>\n",
       "<path fill=\"none\" stroke=\"black\" d=\"M161.49,-216.01C164.57,-205.71 168.15,-192.23 170,-180 177.17,-132.52 180.83,-119.38 173,-72 171.57,-63.33 168.9,-54.18 166.06,-45.96\"/>\n",
       "<polygon fill=\"black\" stroke=\"black\" points=\"169.05,-44.98 162.29,-36.82 162.49,-47.41 169.05,-44.98\"/>\n",
       "</g>\n",
       "<!-- hospital&#45;&gt;treatment -->\n",
       "<g id=\"edge5\" class=\"edge\">\n",
       "<title>hospital&#45;&gt;treatment</title>\n",
       "<path fill=\"none\" stroke=\"black\" d=\"M120.26,-143.7C119.94,-136.24 119.56,-127.32 119.2,-118.97\"/>\n",
       "<polygon fill=\"black\" stroke=\"black\" points=\"122.66,-118.95 118.73,-109.1 115.66,-119.25 122.66,-118.95\"/>\n",
       "</g>\n",
       "</g>\n",
       "</svg>\n"
      ],
      "text/plain": [
       "<graphviz.graphs.Digraph at 0x161dc55e0>"
      ]
     },
     "execution_count": 24,
     "metadata": {},
     "output_type": "execute_result"
    }
   ],
   "source": [
    "g = gr.Digraph()\n",
    "\n",
    "g.edge(\"X\", \"T\"), g.edge(\"T\", \"Y\")\n",
    "g.node(\"T\", color=\"gold\")\n",
    "\n",
    "g.node(\"treatment\", color=\"gold\")\n",
    "g.edge(\"severity\", \"hospital\")\n",
    "g.edge(\"severity\", \"days\")\n",
    "g.edge(\"hospital\", \"treatment\")\n",
    "g.edge(\"treatment\", \"days\")\n",
    "\n",
    "g"
   ]
  },
  {
   "cell_type": "markdown",
   "id": "9a2dbf0e",
   "metadata": {},
   "source": [
    "# Bad Contorols - Selection Bias"
   ]
  },
  {
   "cell_type": "markdown",
   "id": "1282016d",
   "metadata": {},
   "source": [
    "이메일 예시를 다시 봐보자. 이메일은 무작위로 고객에게 할당되었었다.\n",
    "\n",
    "앞서 ***credit_limit, risk_score***가 무엇인지 알아보았다.\n",
    "\n",
    "이제 남은 변수를 살펴보자.\n",
    "\n",
    "***opened***는 이메일을 열었는지를 나타내는 더미 변수이다.\n",
    "***agreement***는 이메일을 수신한 후에 관련 부서에 연락하여 채무협상을 한 경우를 나타내는 더미변수이다.\n",
    "\n",
    "1. treatment(email) + credit_limit + risk_score\n",
    "2. treatment(email) + credit_limit + risk_score + opened + agreement\n",
    "\n",
    "위 2가지 모델 중 어떤 모델이 더 적절한지 살펴보자"
   ]
  },
  {
   "cell_type": "code",
   "execution_count": 25,
   "id": "f3b4f20c",
   "metadata": {
    "ExecuteTime": {
     "end_time": "2023-10-06T02:53:25.830605Z",
     "start_time": "2023-10-06T02:53:25.776846Z"
    }
   },
   "outputs": [
    {
     "data": {
      "text/html": [
       "<table class=\"simpletable\">\n",
       "<tr>\n",
       "        <td></td>          <th>coef</th>     <th>std err</th>      <th>t</th>      <th>P>|t|</th>  <th>[0.025</th>    <th>0.975]</th>  \n",
       "</tr>\n",
       "<tr>\n",
       "  <th>Intercept</th>    <td>  490.8653</td> <td>    9.715</td> <td>   50.527</td> <td> 0.000</td> <td>  471.820</td> <td>  509.911</td>\n",
       "</tr>\n",
       "<tr>\n",
       "  <th>email</th>        <td>    4.4304</td> <td>    2.130</td> <td>    2.080</td> <td> 0.038</td> <td>    0.255</td> <td>    8.606</td>\n",
       "</tr>\n",
       "<tr>\n",
       "  <th>credit_limit</th> <td>    0.1511</td> <td>    0.008</td> <td>   18.833</td> <td> 0.000</td> <td>    0.135</td> <td>    0.167</td>\n",
       "</tr>\n",
       "<tr>\n",
       "  <th>risk_score</th>   <td>   -8.0516</td> <td>   38.424</td> <td>   -0.210</td> <td> 0.834</td> <td>  -83.379</td> <td>   67.276</td>\n",
       "</tr>\n",
       "</table>"
      ],
      "text/plain": [
       "<class 'statsmodels.iolib.table.SimpleTable'>"
      ]
     },
     "execution_count": 25,
     "metadata": {},
     "output_type": "execute_result"
    }
   ],
   "source": [
    "email_1 = smf.ols('payments ~ email + credit_limit + risk_score', data=data).fit()\n",
    "email_1.summary().tables[1]"
   ]
  },
  {
   "cell_type": "code",
   "execution_count": 26,
   "id": "66137dc2",
   "metadata": {
    "ExecuteTime": {
     "end_time": "2023-10-06T02:53:32.122570Z",
     "start_time": "2023-10-06T02:53:32.085077Z"
    }
   },
   "outputs": [
    {
     "data": {
      "text/html": [
       "<table class=\"simpletable\">\n",
       "<tr>\n",
       "        <td></td>          <th>coef</th>     <th>std err</th>      <th>t</th>      <th>P>|t|</th>  <th>[0.025</th>    <th>0.975]</th>  \n",
       "</tr>\n",
       "<tr>\n",
       "  <th>Intercept</th>    <td>  488.4416</td> <td>    9.716</td> <td>   50.272</td> <td> 0.000</td> <td>  469.394</td> <td>  507.489</td>\n",
       "</tr>\n",
       "<tr>\n",
       "  <th>email</th>        <td>   -1.6095</td> <td>    2.724</td> <td>   -0.591</td> <td> 0.555</td> <td>   -6.949</td> <td>    3.730</td>\n",
       "</tr>\n",
       "<tr>\n",
       "  <th>credit_limit</th> <td>    0.1507</td> <td>    0.008</td> <td>   18.809</td> <td> 0.000</td> <td>    0.135</td> <td>    0.166</td>\n",
       "</tr>\n",
       "<tr>\n",
       "  <th>risk_score</th>   <td>   -2.0929</td> <td>   38.375</td> <td>   -0.055</td> <td> 0.957</td> <td>  -77.325</td> <td>   73.139</td>\n",
       "</tr>\n",
       "<tr>\n",
       "  <th>opened</th>       <td>    3.9808</td> <td>    3.914</td> <td>    1.017</td> <td> 0.309</td> <td>   -3.692</td> <td>   11.654</td>\n",
       "</tr>\n",
       "<tr>\n",
       "  <th>agreement</th>    <td>   11.7093</td> <td>    4.166</td> <td>    2.811</td> <td> 0.005</td> <td>    3.542</td> <td>   19.876</td>\n",
       "</tr>\n",
       "</table>"
      ],
      "text/plain": [
       "<class 'statsmodels.iolib.table.SimpleTable'>"
      ]
     },
     "execution_count": 26,
     "metadata": {},
     "output_type": "execute_result"
    }
   ],
   "source": [
    "email_2 = smf.ols('payments ~ email + credit_limit + risk_score + opened + agreement', data=data).fit()\n",
    "email_2.summary().tables[1]"
   ]
  },
  {
   "cell_type": "markdown",
   "id": "352ce672",
   "metadata": {},
   "source": [
    "1번 모델에서 이메일 변수는 통계적으로 유의해보이고, 2번 모델에서는 그렇지 않다.\n",
    "\n",
    "하지만, 실제로는 2번 모델이 옳은 모델일 수도 있고, treatment(이메일)은 outcome(지불금액)에 효과가 없을 수도 있다.\n",
    "\n",
    "앞서, treatment와 outcome에 모두 원인이 되는 교란 요인을 변수로 추가해야한다는 것을 알아보았다.\n",
    "또한, outcome을 매우 잘 예측하는 통제변수를 추가하는 것도 좋은 아이디어라는 것을 알고 있다.\n",
    "또한, treatment만을 예측하는 통제변수를 추가하는 것은 좋지 않은 생각이라는 것을 알고 있다.(이것은 치명적인 것은 아니지만 피하는 것이 좋다)\n",
    "\n",
    "그럼 ***opened, agreement***는 어떤 종류의 통제변수일까? 이 변수는 위에서 설명한 것들에 해당하지 않는다.\n",
    "\n",
    "직관적으로 생각해보면 ***opened, agreement***는 이메일과 확실히 관계가 있다.\n",
    "하지만, 이메일을 받지 못한 경우에는 이메일을 열 수가 없다. 또한, ***agreement***도 이메일을 수신한 후에 연락한 경우만 고려한다고 했다. \n",
    "그렇기 때문에 이 변수들은 이메일 변수의 원인은 아니다. 대신 이메일 변수가 이 변수들의 원인이 된다.\n",
    "\n",
    "인과그래프를 통해 변수들을 이해해보자."
   ]
  },
  {
   "cell_type": "code",
   "execution_count": 27,
   "id": "f84ffdef",
   "metadata": {
    "ExecuteTime": {
     "end_time": "2023-10-06T03:04:00.894993Z",
     "start_time": "2023-10-06T03:04:00.790003Z"
    }
   },
   "outputs": [
    {
     "data": {
      "image/svg+xml": [
       "<?xml version=\"1.0\" encoding=\"UTF-8\" standalone=\"no\"?>\n",
       "<!DOCTYPE svg PUBLIC \"-//W3C//DTD SVG 1.1//EN\"\n",
       " \"http://www.w3.org/Graphics/SVG/1.1/DTD/svg11.dtd\">\n",
       "<!-- Generated by graphviz version 8.0.4 (20230421.1958)\n",
       " -->\n",
       "<!-- Pages: 1 -->\n",
       "<svg width=\"314pt\" height=\"260pt\"\n",
       " viewBox=\"0.00 0.00 313.70 260.00\" xmlns=\"http://www.w3.org/2000/svg\" xmlns:xlink=\"http://www.w3.org/1999/xlink\">\n",
       "<g id=\"graph0\" class=\"graph\" transform=\"scale(1 1) rotate(0) translate(4 256)\">\n",
       "<polygon fill=\"white\" stroke=\"none\" points=\"-4,4 -4,-256 309.7,-256 309.7,4 -4,4\"/>\n",
       "<!-- email -->\n",
       "<g id=\"node1\" class=\"node\">\n",
       "<title>email</title>\n",
       "<ellipse fill=\"none\" stroke=\"black\" cx=\"31.9\" cy=\"-234\" rx=\"31.9\" ry=\"18\"/>\n",
       "<text text-anchor=\"middle\" x=\"31.9\" y=\"-228.95\" font-family=\"Times,serif\" font-size=\"14.00\">email</text>\n",
       "</g>\n",
       "<!-- payments -->\n",
       "<g id=\"node2\" class=\"node\">\n",
       "<title>payments</title>\n",
       "<ellipse fill=\"none\" stroke=\"black\" cx=\"175.9\" cy=\"-18\" rx=\"46.75\" ry=\"18\"/>\n",
       "<text text-anchor=\"middle\" x=\"175.9\" y=\"-12.95\" font-family=\"Times,serif\" font-size=\"14.00\">payments</text>\n",
       "</g>\n",
       "<!-- email&#45;&gt;payments -->\n",
       "<g id=\"edge1\" class=\"edge\">\n",
       "<title>email&#45;&gt;payments</title>\n",
       "<path fill=\"none\" stroke=\"black\" d=\"M27.06,-215.78C19.24,-184.02 7.66,-115.53 38.9,-72 57.71,-45.8 91.37,-32.55 120.62,-25.85\"/>\n",
       "<polygon fill=\"black\" stroke=\"black\" points=\"121.08,-29.12 130.16,-23.67 119.66,-22.27 121.08,-29.12\"/>\n",
       "</g>\n",
       "<!-- opened -->\n",
       "<g id=\"node3\" class=\"node\">\n",
       "<title>opened</title>\n",
       "<ellipse fill=\"none\" stroke=\"black\" cx=\"135.9\" cy=\"-162\" rx=\"37.53\" ry=\"18\"/>\n",
       "<text text-anchor=\"middle\" x=\"135.9\" y=\"-156.95\" font-family=\"Times,serif\" font-size=\"14.00\">opened</text>\n",
       "</g>\n",
       "<!-- email&#45;&gt;opened -->\n",
       "<g id=\"edge2\" class=\"edge\">\n",
       "<title>email&#45;&gt;opened</title>\n",
       "<path fill=\"none\" stroke=\"black\" d=\"M51.95,-219.5C67.34,-209.15 88.8,-194.7 106.18,-183\"/>\n",
       "<polygon fill=\"black\" stroke=\"black\" points=\"107.5,-185.66 113.84,-177.18 103.59,-179.86 107.5,-185.66\"/>\n",
       "</g>\n",
       "<!-- agreement -->\n",
       "<g id=\"node4\" class=\"node\">\n",
       "<title>agreement</title>\n",
       "<ellipse fill=\"none\" stroke=\"black\" cx=\"97.9\" cy=\"-90\" rx=\"49.82\" ry=\"18\"/>\n",
       "<text text-anchor=\"middle\" x=\"97.9\" y=\"-84.95\" font-family=\"Times,serif\" font-size=\"14.00\">agreement</text>\n",
       "</g>\n",
       "<!-- email&#45;&gt;agreement -->\n",
       "<g id=\"edge3\" class=\"edge\">\n",
       "<title>email&#45;&gt;agreement</title>\n",
       "<path fill=\"none\" stroke=\"black\" d=\"M39.73,-216.15C51.05,-191.81 72.08,-146.57 85.51,-117.67\"/>\n",
       "<polygon fill=\"black\" stroke=\"black\" points=\"89.04,-119.37 90.08,-108.82 82.69,-116.42 89.04,-119.37\"/>\n",
       "</g>\n",
       "<!-- opened&#45;&gt;payments -->\n",
       "<g id=\"edge4\" class=\"edge\">\n",
       "<title>opened&#45;&gt;payments</title>\n",
       "<path fill=\"none\" stroke=\"black\" d=\"M143.45,-144.07C147.82,-133.79 153.18,-120.32 156.9,-108 162.98,-87.9 167.87,-64.69 171.17,-47.01\"/>\n",
       "<polygon fill=\"black\" stroke=\"black\" points=\"174.77,-47.74 173.1,-37.28 167.88,-46.5 174.77,-47.74\"/>\n",
       "</g>\n",
       "<!-- opened&#45;&gt;agreement -->\n",
       "<g id=\"edge5\" class=\"edge\">\n",
       "<title>opened&#45;&gt;agreement</title>\n",
       "<path fill=\"none\" stroke=\"black\" d=\"M126.7,-144.05C122.36,-136.06 117.08,-126.33 112.23,-117.4\"/>\n",
       "<polygon fill=\"black\" stroke=\"black\" points=\"114.86,-115.91 107.02,-108.79 108.71,-119.25 114.86,-115.91\"/>\n",
       "</g>\n",
       "<!-- agreement&#45;&gt;payments -->\n",
       "<g id=\"edge6\" class=\"edge\">\n",
       "<title>agreement&#45;&gt;payments</title>\n",
       "<path fill=\"none\" stroke=\"black\" d=\"M115.99,-72.76C126.11,-63.69 138.88,-52.22 150.04,-42.21\"/>\n",
       "<polygon fill=\"black\" stroke=\"black\" points=\"152.07,-45.19 157.18,-35.91 147.4,-39.98 152.07,-45.19\"/>\n",
       "</g>\n",
       "<!-- credit_limit -->\n",
       "<g id=\"node5\" class=\"node\">\n",
       "<title>credit_limit</title>\n",
       "<ellipse fill=\"none\" stroke=\"black\" cx=\"135.9\" cy=\"-234\" rx=\"54.42\" ry=\"18\"/>\n",
       "<text text-anchor=\"middle\" x=\"135.9\" y=\"-228.95\" font-family=\"Times,serif\" font-size=\"14.00\">credit_limit</text>\n",
       "</g>\n",
       "<!-- credit_limit&#45;&gt;payments -->\n",
       "<g id=\"edge7\" class=\"edge\">\n",
       "<title>credit_limit&#45;&gt;payments</title>\n",
       "<path fill=\"none\" stroke=\"black\" d=\"M155.7,-217.09C165.93,-207.55 177.4,-194.49 182.9,-180 199.69,-135.78 191.25,-79.75 183.58,-46.79\"/>\n",
       "<polygon fill=\"black\" stroke=\"black\" points=\"186.75,-46.02 180.95,-37.15 179.95,-47.7 186.75,-46.02\"/>\n",
       "</g>\n",
       "<!-- credit_limit&#45;&gt;opened -->\n",
       "<g id=\"edge8\" class=\"edge\">\n",
       "<title>credit_limit&#45;&gt;opened</title>\n",
       "<path fill=\"none\" stroke=\"black\" d=\"M135.9,-215.7C135.9,-208.24 135.9,-199.32 135.9,-190.97\"/>\n",
       "<polygon fill=\"black\" stroke=\"black\" points=\"139.4,-191.1 135.9,-181.1 132.4,-191.1 139.4,-191.1\"/>\n",
       "</g>\n",
       "<!-- credit_limit&#45;&gt;agreement -->\n",
       "<g id=\"edge9\" class=\"edge\">\n",
       "<title>credit_limit&#45;&gt;agreement</title>\n",
       "<path fill=\"none\" stroke=\"black\" d=\"M116.11,-217.09C105.87,-207.55 94.4,-194.49 88.9,-180 81.46,-160.4 84.37,-136.73 88.78,-118.72\"/>\n",
       "<polygon fill=\"black\" stroke=\"black\" points=\"92.36,-119.9 91.65,-109.33 85.62,-118.04 92.36,-119.9\"/>\n",
       "</g>\n",
       "<!-- risk_score -->\n",
       "<g id=\"node6\" class=\"node\">\n",
       "<title>risk_score</title>\n",
       "<ellipse fill=\"none\" stroke=\"black\" cx=\"256.9\" cy=\"-234\" rx=\"48.79\" ry=\"18\"/>\n",
       "<text text-anchor=\"middle\" x=\"256.9\" y=\"-228.95\" font-family=\"Times,serif\" font-size=\"14.00\">risk_score</text>\n",
       "</g>\n",
       "<!-- risk_score&#45;&gt;payments -->\n",
       "<g id=\"edge10\" class=\"edge\">\n",
       "<title>risk_score&#45;&gt;payments</title>\n",
       "<path fill=\"none\" stroke=\"black\" d=\"M252.47,-215.69C244.55,-185.77 226.74,-122.72 204.9,-72 201.03,-63 196.12,-53.51 191.44,-45.08\"/>\n",
       "<polygon fill=\"black\" stroke=\"black\" points=\"194.13,-43.73 186.14,-36.78 188.05,-47.2 194.13,-43.73\"/>\n",
       "</g>\n",
       "<!-- risk_score&#45;&gt;opened -->\n",
       "<g id=\"edge11\" class=\"edge\">\n",
       "<title>risk_score&#45;&gt;opened</title>\n",
       "<path fill=\"none\" stroke=\"black\" d=\"M231.54,-218.33C213.19,-207.71 188.26,-193.29 168.45,-181.83\"/>\n",
       "<polygon fill=\"black\" stroke=\"black\" points=\"170.59,-178.45 160.19,-176.47 167.09,-184.51 170.59,-178.45\"/>\n",
       "</g>\n",
       "<!-- risk_score&#45;&gt;agreement -->\n",
       "<g id=\"edge12\" class=\"edge\">\n",
       "<title>risk_score&#45;&gt;agreement</title>\n",
       "<path fill=\"none\" stroke=\"black\" d=\"M245.46,-216.21C231.98,-197.21 208.19,-166.06 182.9,-144 168.36,-131.31 150.45,-119.67 134.83,-110.54\"/>\n",
       "<polygon fill=\"black\" stroke=\"black\" points=\"136.87,-107.11 126.45,-105.2 133.41,-113.19 136.87,-107.11\"/>\n",
       "</g>\n",
       "</g>\n",
       "</svg>\n"
      ],
      "text/plain": [
       "<graphviz.graphs.Digraph at 0x161de7130>"
      ]
     },
     "execution_count": 27,
     "metadata": {},
     "output_type": "execute_result"
    }
   ],
   "source": [
    "g = gr.Digraph()\n",
    "\n",
    "g.edge(\"email\", \"payments\")\n",
    "g.edge(\"email\", \"opened\")\n",
    "g.edge(\"email\", \"agreement\")\n",
    "g.edge(\"opened\", \"payments\")\n",
    "g.edge(\"opened\", \"agreement\")\n",
    "g.edge(\"agreement\", \"payments\")\n",
    "\n",
    "g.edge(\"credit_limit\", \"payments\")\n",
    "g.edge(\"credit_limit\", \"opened\")\n",
    "g.edge(\"credit_limit\", \"agreement\")\n",
    "g.edge(\"risk_score\", \"payments\")\n",
    "g.edge(\"risk_score\", \"opened\")\n",
    "g.edge(\"risk_score\", \"agreement\")\n",
    "\n",
    "g"
   ]
  },
  {
   "cell_type": "markdown",
   "id": "cbebc5d5",
   "metadata": {},
   "source": [
    "이메일은 랜덤으로 설계되어 있기 때문에 원인이 되는 것은 아무것도 없다.\n",
    "\n",
    "payments에 대해 생각해보면, 다음과 같은 퍼널의 결과를 생각할 수 있다.\n",
    "\n",
    "email -> opened -> agreement -> payment\n",
    "\n",
    "또한, 다른 수준의 리스크를 가진 경우 agreement를 수행하는 성향이 다를 것으로 생각되기 때문에 리스크를 agreement의 원인으로 표시했다.\n",
    "\n",
    "이메일과 agreement에 관해서, 어떤 사람들은 이메일의 제목을 읽기만 하면 agreement할 가능성이 높아진다고 주장할 수 있다. 요점은 이메일을 열지 않고, agreement를 유발할 수도 있다는 것이다.\n",
    "\n",
    "이 그래프에 알 수 있는 것은 이메일에서 지불금액까지의 인과경로에 opened와 agreement가 모두 있다는 것이다.\n",
    "\n",
    "따라서 회귀모형으로 이것들을 통제한다면 ***opened*** 및 ***agreement***가 고정되었을 때의 이메일의 효과라고 말할 것이다. 그러나 둘 다 이메일의 인과 효과의 일부분이기 때문에 고정하고 싶지 않다. ㄷ신, 이메일은 agreement의 비율을 높이기 때문에 정확하게 지불금액을 증가시킨다고 주장할 수 있다.\n",
    "\n",
    "이러한 변수를 고정하면 이메일의 실제 효과 중 일부가 제거될 수 있다.\n",
    "\n",
    "잠재적 결과 표기법에서는 무작위화로 인해 $E[Y_0|T=0] = E[Y_0|T=1]$라고 표기할 수 있다.\n",
    "\n"
   ]
  },
  {
   "cell_type": "markdown",
   "id": "bc3521c3",
   "metadata": {},
   "source": [
    "그러나, 무작위화를 사용하더라도 agreement를 통제할 경우, treatment와 control을 더 이상 비교할 수 없다.\n",
    "\n",
    "하지만 직관적인 사고를 통해 이것들이 어떻게 다른지 추측할 수 있다.\n",
    "\n",
    "1. $E[Y_0|T=0, Agreement=0] > E[Y_0|T=1, Agreement=0]$\n",
    "\n",
    "2. $E[Y_0|T=0, Agreement=1] > E[Y_0|T=1, Agreement=1]$\n",
    "\n"
   ]
  },
  {
   "cell_type": "markdown",
   "id": "2750ab6c",
   "metadata": {},
   "source": [
    "1번 식은 이메일(빚을 갚을 것을 요청하는 이메일을 수신했는지 유무)와 agreement(이메일을 수신한 후, 관련 부서에 연락하여 채무협상을 한 경우)가 없는 사람이 이메일이 있고 agreement가 없는 사람보다 payment가 크다라는 것을 나타낸 식이다. \n",
    "\n",
    "treatment가 긍정적인 효과가 있다면, 이메일을 받고도 agreement가 없는 사람은 agreement가 없고 이메일도 받지 못한 사람에 비해 지불 측면에서 더 나쁠 것이다.\n",
    "\n",
    "2번 식은 이메일이 없고, agreement가 있는 사람이 이메일이 있고 agreement도 있는 사람에 비해 더 나을 수도 있다는 식이다.\n",
    "\n",
    "교란요인은 공통 원인에 대한 통제 실패에서 오는 편향이지만, 선택 편향은 원인에서 효과까지의 경로 사이에 있는 공통 효과 또는 변수에 대해 통제할 때 발생한다.\n",
    "\n",
    "저자의 경험적으로, 항상 모형에 Y를 잘 예측할 수 있는 변수 혹은 교란 요인을 항상 포함시켜야 한다.\n",
    "\n",
    "Treatment만을 잘 예측하는 변수 혹은 treatment와 outcome 사이의 매개변수 또는 treatment와 outcom의 공통 효과인 변수는 항상 제외할 것.\n",
    "\n",
    "\n"
   ]
  },
  {
   "cell_type": "markdown",
   "id": "e2071b7f",
   "metadata": {},
   "source": [
    "![img](./data/img/beyond-conf/selection.png)\n",
    "\n",
    "선택 편향은 너무 만연해서 랜덤화조차 해결할 수 없다.\n",
    "\n",
    "선택 편향을 발견하고 피하려면 많은 연습이 필요하다.\n",
    "\n",
    "아래는 선택 편향의 몇 가지 예시이다.\n",
    "\n",
    "\n",
    "    1. Adding a dummy for paying the entire debt when trying to estimate the effect of a collections strategy on payments.\n",
    "    2. Controlling for white vs blue collar jobs when trying to estimate the effect of schooling on earnings\n",
    "    3. Controlling for conversion when estimating the impact of interest rates on loan duration\n",
    "    4. Controlling for marital happiness when estimating the impact of children on extramarital affairs\n",
    "    5. Breaking up payments modeling E[Payments] into one binary model that predict if payment will happen and another model that predict how much payment will happen given that some will: E[Payments|Payments>0]*P(Payments>0)\n",
    "\n"
   ]
  },
  {
   "cell_type": "markdown",
   "id": "6c6a6a30",
   "metadata": {},
   "source": [
    "# Bad COP"
   ]
  },
  {
   "cell_type": "markdown",
   "id": "addf505c",
   "metadata": {},
   "source": [
    "예측하려는 연속형 변수가 있지만 분포가 0이 많은 상황이라고 생각해보자.\n",
    "\n",
    "예를 들어, 고객의 지출 분포를 모형화하려면 감마 분포와 비슷하지만 0이 많다."
   ]
  },
  {
   "cell_type": "code",
   "execution_count": 28,
   "id": "f422992d",
   "metadata": {
    "ExecuteTime": {
     "end_time": "2023-10-06T04:08:21.000873Z",
     "start_time": "2023-10-06T04:08:20.909455Z"
    }
   },
   "outputs": [
    {
     "data": {
      "image/png": "[encoded data removed]",
      "text/plain": [
       "<Figure size 432x288 with 1 Axes>"
      ]
     },
     "metadata": {},
     "output_type": "display_data"
    }
   ],
   "source": [
    "plt.hist(np.concatenate([\n",
    "    np.random.gamma(5, 50, 1000), \n",
    "    np.zeros(700)\n",
    "]), bins=20)\n",
    "plt.xlabel(\"Customer Spend\")\n",
    "plt.title(\"Distribution Customer Spend\");"
   ]
  },
  {
   "cell_type": "markdown",
   "id": "5557d5fb",
   "metadata": {},
   "source": [
    "데이터과학자 입장에서 이것을 처음보았을 때 떠오르는 첫번째 생각은 모델링을 두 단계로 나누는 것이다.\n",
    "\n",
    "첫째는 참여, 즉 $Y > 0$ 일 확률이다. 위 데이터의 예시에서 이것은 고객의 지출 여부를 결정하는 모델이다.\n",
    "\n",
    "두번째는 참여하기로 결정한 사람들을 위해 $Y$를 모델링한다. 이것은 Conditional-on-Positives 효과이다. 이 경우에 고객이 지출하기로 결정한 후의 지출 금액이다. 지출에 대한 T의 효과를 추정하고자 한다면 다음과 같이 정리할 수 있다.\n",
    "\n",
    "$E[Y|T] = E[Y|Y>0, T]P(Y>0|T)$\n",
    "\n",
    "참여모델 $P(Y_i > 0|T_i)$ 에는 아무 문제가 없다. T가 랜덤하게 할당되면 treatment로 인한 지출 확률 증가를 포착할 수 있다.\n",
    "\n",
    "문제는 COP part를 추정하는 것에 있다. 무작위로 할당되더라도 편향될 수 있다.\n",
    "\n",
    "직관적인 수준에서 일부 단위는 treatment를 받지 않았기 때문에 0이라고 생각하는 것은 이상한 것이 아니다. treatment로 인해 0이 되지 않는다. 반면에 일부 유닛은 절대로 0이 아니다.\n",
    "treatment는 outcome을 높일 수 있지만, treatment가 없더라도 그것들은 0이 되지 않는다.\n",
    "\n",
    "여기서 중요한 것은 이 2가지 유형의 유닛은 비교할 수 없다는 것을 이해하는 것이다.\n",
    "\n",
    "0이 아닌 사람들은 treatment를 받지 않으면 0인 사람들에 비해 $Y_0$이 높다.\n",
    "\n",
    "사실, 후자의 경우 $Y_0=0$이다.\n",
    "\n",
    "이 점에 유의하여 0을 제거하면 treatment 그룹과 통제그룹 양쪽에 0이 유지된다. 하지만, 여기서 treatment를 통해 0에서 0이 아닌 것으로 바뀌는 것들을 통제그룹에서 제거할 것이다.\n",
    "\n",
    "이것은 treatment와 대조군을 더 이상 비교할 수 없게 만들 것이다. 그 이유는 통제그룹에는 0이 없고, $Y_0$에 높은 값만 포함되는 반면 treatment를 받은 값에는 두 가지 유형의 단위가 모두 포함되기 때문이다.\n",
    "\n",
    "\n",
    "\n",
    "\n",
    "\n"
   ]
  },
  {
   "cell_type": "markdown",
   "id": "7687eaa7",
   "metadata": {},
   "source": [
    "문제를 직관적으로 이해했으니, 수학적으로 확인해보자. \n",
    "이를 위해 treatment 효과를 나눠보자. 랜덤 할당에서는 평균의 차이와 같다.\n",
    "\n",
    "$$\n",
    "\\begin{align*} \n",
    "&E[Y|T=1] - E[Y|T=0]\\\\\n",
    "&=E[Y|Y>0, T=1]P(Y>0|T=1) - E[Y|Y>0, T=0]P(Y>0|T=0)\\\\\n",
    "&=\\underbrace{\\{P(Y>0|T=1) - P(Y>0|T=0)\\}}_{Participation \\ Effect} * E[Y|Y>0, T=1]\\\\\n",
    "&+\\underbrace{\\{E[Y|Y>0, T=1] - E[Y|Y>0, T=0]\\}}_{COP \\ Effect} * P(Y>0|T=0)\n",
    "\\end{align*} \n",
    "$$\n"
   ]
  },
  {
   "cell_type": "markdown",
   "id": "645f5521",
   "metadata": {},
   "source": [
    "마지막 식은 $E[Y_i|Y_i>0, T_i=1]P(Y_i>0|T_i=0)$ 를 더하고 빼서 재배열 하는 것이다. \n",
    "\n",
    "이것은 평균의 차이가 두 부분으로 구성된다는 것을 의미한다. \n",
    "\n",
    "첫 째, 결과 $y$가 양수일 확률의 차이다. 이것은 고객이 지출에 참여할 확률의 증가를 측정하기 때문에 참여 효과라고 불리운다. \n",
    "\n",
    "둘째, 참여에 따라 결정되는 outcome의 차이인 COP 효과이다. \n",
    "\n",
    "여기까지 별다른 문제는 없으나, 문제는 우리가 각 부분을 개별적으로 추정하려고 할 때 발생합니다. \n",
    "\n",
    "이것은 COP 효과를 분석하면 더욱 분명해진다.\n"
   ]
  },
  {
   "cell_type": "markdown",
   "id": "4a84c4e4",
   "metadata": {
    "ExecuteTime": {
     "end_time": "2023-10-06T04:37:50.465378Z",
     "start_time": "2023-10-06T04:37:50.454865Z"
    }
   },
   "source": [
    "$$\n",
    "\\begin{align*} \n",
    "E[Y|Y>0, T=1] - E[Y|Y>0, T=0]&=E[Y_{1}|Y_{1}>0]-E[Y_{0}|Y_{0}>0] \\\\\n",
    "&=\\underbrace{E[Y_{1} - Y_{0}|Y_{1}>0]}_{Causal \\ Effect} + \\underbrace{\\{ E[Y_{0}|Y_{1}>0] - E[Y_{0}|Y_{0}>0] \\}}_{Selection \\ Bias}\n",
    "\\end{align*} \n",
    "$$\n"
   ]
  },
  {
   "cell_type": "markdown",
   "id": "c9df3df7",
   "metadata": {},
   "source": [
    "$E[Y_{i0}|Y_{i1}>0]$를 더하고 뺀 후에 두 번째 식이 나온다. \n",
    "\n",
    "COP 효과를 분해할 때 먼저 참가자 하위 모집단에 대한 인과효과를 얻는다. \n",
    "\n",
    "위 예시에서, 이것은 무언가를 소비하기로 결정한 사람들의 인과효과가 될 것이다. \n",
    "\n",
    "둘 째, treatment에 할당되었을 때 참여하기로 결정한 사람들($E[Y_{i0}|Y_{i1}>0]$)과 treatment 없이도 참여한 사람들($E[Y_{i0}|Y_{i0}>0]$)에 대한 $Y_0$의 차이인 편향 항을 얻는다. \n",
    "\n",
    "우리의 경우,이 편향은 아마도 부정적일 것입니다. 왜냐하면 treatment에 할당되었을 때 treatment를 받지 않은 사람들은 treatment $E[Y_{i0}|Y_{i1}>0] < E[Y_{i0}|Y_{i0}>0]$ 가 없어도 지출하는 사람들보다 적을 것이기 때문이다.\n"
   ]
  },
  {
   "cell_type": "markdown",
   "id": "250c2ec6",
   "metadata": {},
   "source": []
  },
  {
   "cell_type": "markdown",
   "id": "52c061d0",
   "metadata": {},
   "source": [
    "COP 편향이 처음에는 매우 직관적이지 않다는 것을 알고 있기 때문에, 시각적인 예를 통해 살펴보자.\n",
    "\n",
    "마케팅 캠페인을 통해 사람들이 우리 제품에 얼마나 많은 비용을 지출하는지 추정하고자 한다.\n",
    "\n",
    "이번 마케팅 캠페인은 무작위로 선정되었으므로 교란요인을 걱정할 필요가 없다.\n",
    "\n",
    "이 예시에서는, 고객을 2개의 segment로 나눌 수 있다. \n",
    "\n",
    "1. 마케팅 캠페인을 봐야만 제품을 살 수 있는 사람들이 있다.(여기서 알뜰고객 이라고 부르자)\n",
    "2. 마케팅 캠페인이 없어도 제품을 소비하는 고객.(여기서 부자고객 이라고 부르자)\n",
    "\n"
   ]
  },
  {
   "cell_type": "markdown",
   "id": "c4f12b81",
   "metadata": {},
   "source": [
    "![img](./data/img/beyond-conf/cop-ex1.png)\n",
    " "
   ]
  },
  {
   "cell_type": "markdown",
   "id": "9b1576c4",
   "metadata": {},
   "source": [
    "앞서 캠페인에 대한 ATE를 추정하기 위해 무작위화를 진행했다.그렇기 때문에 treatment를 받은 것과 받지 않은 것에 대해 비교하기만 하면 된다. \n",
    "\n",
    "그러나 추정을 두 가지 모델 $P(Y_i > 0 | T_i)$를 추정하는 참여 모델과 $E[Y_i|Y_i>0]$을 추정하는 COP로 나누는 COP 공식을 사용한다고 가정하면 지출하지 않은 모든 사람이 분석에서 제거된다."
   ]
  },
  {
   "cell_type": "markdown",
   "id": "53c24044",
   "metadata": {},
   "source": [
    "![img](./data/img/beyond-conf/cop-ex2.png)\n",
    " "
   ]
  },
  {
   "cell_type": "markdown",
   "id": "d3061e9e",
   "metadata": {},
   "source": [
    "이 경우, treatment그룹과 통제 그룹은 더 이상 비교할 수 없다.\n",
    "\n",
    "treatment를 받지 않은 사람들은 이제 캠페인 없이도 소비할 고객 일부만 구성되어 있다.\n",
    "\n",
    "또한, 여기서 편향의 방향을 알 수 있다.\n",
    "\n",
    "$E[Y_{i0}|Y_{i1}>0] - E[Y_{i0}|Y_{i0}>0]$ 혹은 $E[Y_{i0}|\\text{Frugal and Rich}] - E[Y_{i0}|Rich]$ 일 것이다."
   ]
  },
  {
   "cell_type": "markdown",
   "id": "b7bb4d4e",
   "metadata": {},
   "source": [
    "부자고객이 알뜰고객보다 더 많은 돈을 쓰기 때문에 이는 분명히 부정적이다.\n",
    "\n",
    "결과적으로 참가자 모집단만 필터링하면 무작위화로 인해 처음에는 편향이 없더라도, ATE에 대한 추정치가 편향되게 된다."
   ]
  },
  {
   "cell_type": "markdown",
   "id": "6b24fb31",
   "metadata": {},
   "source": [
    "선택 편향을 마무리하기 위해, 항상 treatment와 outcome 사이에 있거나, outcome과 treatment의 공통적인 효과인 변수를 통제하지 말아야한다는 것을 상기시킬 필요가 있다.\n",
    "\n",
    "그래프를 통해 잘못된 통제 예시를 살펴보자."
   ]
  },
  {
   "cell_type": "code",
   "execution_count": 30,
   "id": "f2d5e0b6",
   "metadata": {
    "ExecuteTime": {
     "end_time": "2023-10-06T05:05:39.567556Z",
     "start_time": "2023-10-06T05:05:39.425610Z"
    }
   },
   "outputs": [
    {
     "data": {
      "image/svg+xml": [
       "<?xml version=\"1.0\" encoding=\"UTF-8\" standalone=\"no\"?>\n",
       "<!DOCTYPE svg PUBLIC \"-//W3C//DTD SVG 1.1//EN\"\n",
       " \"http://www.w3.org/Graphics/SVG/1.1/DTD/svg11.dtd\">\n",
       "<!-- Generated by graphviz version 8.0.4 (20230421.1958)\n",
       " -->\n",
       "<!-- Pages: 1 -->\n",
       "<svg width=\"89pt\" height=\"260pt\"\n",
       " viewBox=\"0.00 0.00 89.00 260.00\" xmlns=\"http://www.w3.org/2000/svg\" xmlns:xlink=\"http://www.w3.org/1999/xlink\">\n",
       "<g id=\"graph0\" class=\"graph\" transform=\"scale(1 1) rotate(0) translate(4 256)\">\n",
       "<polygon fill=\"white\" stroke=\"none\" points=\"-4,4 -4,-256 85,-256 85,4 -4,4\"/>\n",
       "<!-- T -->\n",
       "<g id=\"node1\" class=\"node\">\n",
       "<title>T</title>\n",
       "<ellipse fill=\"none\" stroke=\"gold\" cx=\"54\" cy=\"-234\" rx=\"27\" ry=\"18\"/>\n",
       "<text text-anchor=\"middle\" x=\"54\" y=\"-228.95\" font-family=\"Times,serif\" font-size=\"14.00\">T</text>\n",
       "</g>\n",
       "<!-- X_1 -->\n",
       "<g id=\"node2\" class=\"node\">\n",
       "<title>X_1</title>\n",
       "<ellipse fill=\"none\" stroke=\"red\" cx=\"27\" cy=\"-162\" rx=\"27\" ry=\"18\"/>\n",
       "<text text-anchor=\"middle\" x=\"27\" y=\"-156.95\" font-family=\"Times,serif\" font-size=\"14.00\">X_1</text>\n",
       "</g>\n",
       "<!-- T&#45;&gt;X_1 -->\n",
       "<g id=\"edge1\" class=\"edge\">\n",
       "<title>T&#45;&gt;X_1</title>\n",
       "<path fill=\"none\" stroke=\"black\" d=\"M47.46,-216.05C44.45,-208.23 40.79,-198.75 37.41,-189.98\"/>\n",
       "<polygon fill=\"black\" stroke=\"black\" points=\"40.34,-188.86 33.48,-180.79 33.81,-191.38 40.34,-188.86\"/>\n",
       "</g>\n",
       "<!-- X_2 -->\n",
       "<g id=\"node4\" class=\"node\">\n",
       "<title>X_2</title>\n",
       "<ellipse fill=\"none\" stroke=\"red\" cx=\"54\" cy=\"-18\" rx=\"27\" ry=\"18\"/>\n",
       "<text text-anchor=\"middle\" x=\"54\" y=\"-12.95\" font-family=\"Times,serif\" font-size=\"14.00\">X_2</text>\n",
       "</g>\n",
       "<!-- T&#45;&gt;X_2 -->\n",
       "<g id=\"edge3\" class=\"edge\">\n",
       "<title>T&#45;&gt;X_2</title>\n",
       "<path fill=\"none\" stroke=\"black\" d=\"M57.65,-215.91C59.68,-205.57 61.98,-192.09 63,-180 67.03,-132.17 67.03,-119.83 63,-72 62.31,-63.78 61.02,-54.92 59.63,-46.85\"/>\n",
       "<polygon fill=\"black\" stroke=\"black\" points=\"62.91,-46.29 57.65,-37.09 56.02,-47.56 62.91,-46.29\"/>\n",
       "</g>\n",
       "<!-- Y -->\n",
       "<g id=\"node3\" class=\"node\">\n",
       "<title>Y</title>\n",
       "<ellipse fill=\"none\" stroke=\"black\" cx=\"27\" cy=\"-90\" rx=\"27\" ry=\"18\"/>\n",
       "<text text-anchor=\"middle\" x=\"27\" y=\"-84.95\" font-family=\"Times,serif\" font-size=\"14.00\">Y</text>\n",
       "</g>\n",
       "<!-- X_1&#45;&gt;Y -->\n",
       "<g id=\"edge2\" class=\"edge\">\n",
       "<title>X_1&#45;&gt;Y</title>\n",
       "<path fill=\"none\" stroke=\"black\" d=\"M27,-143.7C27,-136.24 27,-127.32 27,-118.97\"/>\n",
       "<polygon fill=\"black\" stroke=\"black\" points=\"30.5,-119.1 27,-109.1 23.5,-119.1 30.5,-119.1\"/>\n",
       "</g>\n",
       "<!-- Y&#45;&gt;X_2 -->\n",
       "<g id=\"edge4\" class=\"edge\">\n",
       "<title>Y&#45;&gt;X_2</title>\n",
       "<path fill=\"none\" stroke=\"black\" d=\"M33.54,-72.05C36.55,-64.23 40.21,-54.75 43.59,-45.98\"/>\n",
       "<polygon fill=\"black\" stroke=\"black\" points=\"47.19,-47.38 47.52,-36.79 40.66,-44.86 47.19,-47.38\"/>\n",
       "</g>\n",
       "</g>\n",
       "</svg>\n"
      ],
      "text/plain": [
       "<graphviz.graphs.Digraph at 0x161e3d850>"
      ]
     },
     "execution_count": 30,
     "metadata": {},
     "output_type": "execute_result"
    }
   ],
   "source": [
    "g = gr.Digraph()\n",
    "\n",
    "g.edge(\"T\", \"X_1\"), g.node(\"T\", color=\"gold\"), g.edge(\"X_1\", \"Y\"), g.node(\"X_1\", color=\"red\")\n",
    "g.edge(\"T\", \"X_2\"), g.edge(\"Y\", \"X_2\"), g.node(\"X_2\", color=\"red\")\n",
    "\n",
    "g"
   ]
  },
  {
   "cell_type": "code",
   "execution_count": null,
   "id": "4a680e28",
   "metadata": {},
   "outputs": [],
   "source": []
  }
 ],
 "metadata": {
  "kernelspec": {
   "display_name": "Python 3 (ipykernel)",
   "language": "python",
   "name": "python3"
  },
  "language_info": {
   "codemirror_mode": {
    "name": "ipython",
    "version": 3
   },
   "file_extension": ".py",
   "mimetype": "text/x-python",
   "name": "python",
   "nbconvert_exporter": "python",
   "pygments_lexer": "ipython3",
   "version": "3.9.12"
  },
  "toc": {
   "base_numbering": 1,
   "nav_menu": {},
   "number_sections": true,
   "sideBar": true,
   "skip_h1_title": false,
   "title_cell": "Table of Contents",
   "title_sidebar": "Contents",
   "toc_cell": false,
   "toc_position": {},
   "toc_section_display": true,
   "toc_window_display": false
  }
 },
 "nbformat": 4,
 "nbformat_minor": 5
}
