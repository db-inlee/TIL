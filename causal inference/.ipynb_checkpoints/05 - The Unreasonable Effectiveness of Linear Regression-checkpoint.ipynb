{
 "cells": [
  {
   "cell_type": "markdown",
   "id": "a2d85ce6",
   "metadata": {},
   "source": [
    "# 05 - The Unreasonable Effectiveness of Linear Regression\n",
    "\n",
    "\n"
   ]
  },
  {
   "cell_type": "markdown",
   "id": "72e73620",
   "metadata": {},
   "source": [
    "## All You Need is Regression\n",
    "\n",
    "앞 장에서 인과추론으로 각 개인에게 얻을 수 있는 결과값은 2가지가 있다는 것을 배웠다.\n",
    "\n",
    "- 처치(Treatment)를 받지 않았을 때의 결과 : $Y_0$\n",
    "- 처치(Treatment)를 받았을 떄의 결과 : $Y_1$\n",
    "\n",
    "처치 T의 값이 0 또는 1로 정해지면, 그에 따라 잠재적 결과 중 하나를 확인할 수 있다. 대신 다른 하나는 영영 알 수가 없다.\n",
    "\n",
    "그렇기 때문에, 개인에 대한 처치효과(Individual Treatment Effect) :  $\\delta_i = Y_{1i} - Y_{0i}$는 알 수 없다."
   ]
  },
  {
   "cell_type": "markdown",
   "id": "2c94f528",
   "metadata": {},
   "source": [
    "$Y_i = Y_{0i} + T_i(Y_{1i} - Y_{0i}) = Y_{0i}(1-T_i) + T_iY_{1i}$"
   ]
  },
  {
   "cell_type": "markdown",
   "id": "2ece3894",
   "metadata": {},
   "source": [
    "\n",
    "\n",
    "개인에 대한 처치효과를 알 수 없으니, 평균적인 인과효과(Average treatment effect)를 추정해보자.\n",
    "\n",
    "처치를 받았을 때, 어떤 사람들은 다른 사람들보다 더 잘 반응한다. 하지만 그런 더 잘 반응하는 사람들이 누군지 알 수는 없다.\n",
    "\n",
    "그렇기에, 처치를 받았을 때 평균적으로 어떤 효과가 나타나는지 확인을 해보자.\n",
    "\n",
    "\n",
    "$ATE = E[Y_1 - Y_0]$\n",
    "\n",
    "위 식으로 간단한 모형을 얻을 수 있다.\n",
    "\n",
    "여기서 일정한 처치 효과 $\\kappa$ 는 식 $Y_{1i} = Y_{0i} + \\kappa$ 를 만족한다.\n",
    "\n",
    "$\\kappa$ 가 양수라면, 평균적으로 처치가 양의 효과를 가지고 있다고 말한다.\n",
    "\n",
    "어떤 개인들은 처치를 받고 더 낮은 결과를 낼 수도 있지만, 평균적으로는 양의 효과를 가진다."
   ]
  },
  {
   "cell_type": "markdown",
   "id": "8a984125",
   "metadata": {},
   "source": [
    "편향(bias) 때문에 평균의 차이 $E[Y|T = 1] - E[Y|T = 0]$ 와 $E[Y_1 - Y_0]$은 다름을 앞장에서 확인했다.\n",
    "\n",
    "이러한 편향은 처치 집단과 비처치 집단이 처치 여부 외에 다른 측면에서도 갈라질 때 발생한다.\n",
    "\n",
    "편향을 확인하는 한가지 방법은, 두 집단에서 잠재적 결과 $Y_0 의 차이가 있는지를 확인하는 것이다.\n",
    "\n"
   ]
  },
  {
   "cell_type": "markdown",
   "id": "c5592565",
   "metadata": {},
   "source": [
    "$E[Y|T=1] - E[Y|T=0] = \\underbrace{E[Y_1 - Y_0|T=1]}_{ATT} + \\underbrace{\\{ E[Y_0|T=1] - E[Y_0|T=0] \\}}_{BIAS}$\n"
   ]
  },
  {
   "cell_type": "markdown",
   "id": "53601a17",
   "metadata": {},
   "source": [
    "앞서, 무작위 실험 혹은 ***무작위 대조(Randomized Controlled Trial, RCT)*** 을 이용하여 편향을 제거할 수 있다고 배웠다.\n",
    "\n",
    "RCT는 처치집단과 비처치 집단을 동일하게 만드므로, 편향을 없앨 수 있었다.\n",
    "\n",
    "또한, 처치 효과에 대한 추청치 주변에 불확실성 수준(uncertainty level)을 두는 방법도 배웠다.\n",
    "\n",
    "예를 들어, 대면 강의는 $T = 0$, 온라인 강의는 $T = 1$ 로 표현하고, 이 두 가지 유형에 대해 학생들을 무작위로 배정한 후 시험 성적을 평가했다.\n",
    "\n",
    "두 그룹을 비교하여 평균 처치 효과를 계산하고, 그 주위의 신뢰 구간까지 얻어낼 수 있는 A/B 검사 도구도 만들어보았다.\n",
    "\n",
    "그런데 인과추론에는 이 모든 것을 한번에 할 수 있는 방법이 있다.\n",
    "\n",
    "그것은 바로 ***선형 회귀(linear regression)*** 이다!\n",
    "\n",
    "이러한 선형회귀가 어떻게 작용하는지 아래 코드를 통해 파악해보자."
   ]
  },
  {
   "cell_type": "code",
   "execution_count": 1,
   "id": "8107d4b1",
   "metadata": {
    "ExecuteTime": {
     "end_time": "2023-09-04T17:46:11.205701Z",
     "start_time": "2023-09-04T17:46:09.753800Z"
    }
   },
   "outputs": [],
   "source": [
    "import warnings\n",
    "warnings.filterwarnings('ignore')\n",
    "\n",
    "import pandas as pd\n",
    "import numpy as np\n",
    "import statsmodels.formula.api as smf\n",
    "import graphviz as gr"
   ]
  },
  {
   "cell_type": "markdown",
   "id": "f999c107",
   "metadata": {},
   "source": [
    "아래 코드는 신뢰 구간을 계산할 필요 없이 단순히 회귀 분석을 통해 온라인과 대면 강의를 비교하는 분석을 실행한다.\n",
    "\n",
    "$exam_i = \\beta_0 + \\kappa Online_i + u_i$\n",
    "\n",
    "온라인 수업의 경우, 시험 성적 추청치는 베이스라인 $\\beta_0$ 에다가 $\\kappa$를 더한 값이다. \n",
    "\n",
    "물론 시험 성적은 추가적인 변수(시험당일 학생의 기분, 학습 시간 등)에 의해서도 결정되지만, 우리는 그런 연관 관계에는 관심이 없다.\n",
    "\n",
    "대신, 우리가 신경쓰지 않는 모든 것들을 $u_i$ 항에 포함시킨다.\n",
    "\n",
    "이를 ***모형 오차(model error)*** 라고 한다.\n",
    "\n",
    "$Online$은 처치를 받는지를 나타내는 더미 변수이다. \n",
    "\n",
    "대면 수업을 들었을 때는 0이고, 온라인 수업을 들었을 때는 1이다.\n",
    "\n",
    "따라서 $E[Y|T = 0] = \\delta_0$ 이고, $E[Y|T = 1] = \\delta_0 + \\kappa$ 임을 알 수 있다.\n",
    "\n",
    "즉, $\\kappa$는 ATE(평균처치효과)와 같다."
   ]
  },
  {
   "cell_type": "code",
   "execution_count": 3,
   "id": "1daf26e9",
   "metadata": {
    "ExecuteTime": {
     "end_time": "2023-09-04T17:56:41.214038Z",
     "start_time": "2023-09-04T17:56:41.189998Z"
    }
   },
   "outputs": [
    {
     "data": {
      "text/html": [
       "<table class=\"simpletable\">\n",
       "<tr>\n",
       "      <td></td>         <th>coef</th>     <th>std err</th>      <th>t</th>      <th>P>|t|</th>  <th>[0.025</th>    <th>0.975]</th>  \n",
       "</tr>\n",
       "<tr>\n",
       "  <th>Intercept</th> <td>   78.5475</td> <td>    1.113</td> <td>   70.563</td> <td> 0.000</td> <td>   76.353</td> <td>   80.742</td>\n",
       "</tr>\n",
       "<tr>\n",
       "  <th>format_ol</th> <td>   -4.9122</td> <td>    1.680</td> <td>   -2.925</td> <td> 0.004</td> <td>   -8.223</td> <td>   -1.601</td>\n",
       "</tr>\n",
       "</table>"
      ],
      "text/plain": [
       "<class 'statsmodels.iolib.table.SimpleTable'>"
      ]
     },
     "execution_count": 3,
     "metadata": {},
     "output_type": "execute_result"
    }
   ],
   "source": [
    "data = pd.read_csv(\"data/online_classroom.csv\").query(\"format_blended==0\")\n",
    "result = smf.ols('falsexam ~ format_ol', data=data).fit()\n",
    "result.summary().tables[1]"
   ]
  },
  {
   "cell_type": "markdown",
   "id": "4dcc0282",
   "metadata": {},
   "source": [
    "위의 결과를 살펴보면, ATE를 추정할 뿐만 아니라, 동시에 신뢰구간과 p-value까지 구할 수가 있다.\n",
    "\n",
    "게다가, 회귀는 우리가 원하는 $E[Y|T = 0]$ 와 $E[Y|T = 1]$ 의 비교값을 보여준다.\n",
    "\n",
    "y절편은 T = 0일 때의 샘플 평균, $E[Y|T = 0]$ 이다. 그리고 $Online$ 의 계수는 $E[Y|T = 1] - E[Y|T = 0]$ 의 평균이다.\n"
   ]
  },
  {
   "cell_type": "code",
   "execution_count": 4,
   "id": "1ae8f41a",
   "metadata": {
    "ExecuteTime": {
     "end_time": "2023-09-04T18:06:42.175540Z",
     "start_time": "2023-09-04T18:06:42.158695Z"
    }
   },
   "outputs": [
    {
     "data": {
      "text/plain": [
       "format_ol\n",
       "0    78.547485\n",
       "1    73.635263\n",
       "Name: falsexam, dtype: float64"
      ]
     },
     "execution_count": 4,
     "metadata": {},
     "output_type": "execute_result"
    }
   ],
   "source": [
    "(data\n",
    " .groupby(\"format_ol\")\n",
    " [\"falsexam\"]\n",
    " .mean())"
   ]
  },
  {
   "cell_type": "markdown",
   "id": "e9a276a4",
   "metadata": {},
   "source": [
    "ATE, 즉 $Online$의 모수 추정치에 절편을 더하면 처치 집단의 표본 평균 $78.5475 +(-4.9122) = 73.635263$을 얻을 수 있다."
   ]
  },
  {
   "cell_type": "markdown",
   "id": "39f80e07",
   "metadata": {},
   "source": [
    "## Regression Theory \n",
    "\n",
    "회귀 분석은 이론적으로 최상의 선형 예측(linear prediction)을 계산할 수 있도록 해준다.\n",
    "\n",
    "$\\beta^*$ 를 파라미터의 벡터라고 하면,\n",
    "\n",
    "$\\beta^* =\\underset{\\beta}{argmin} \\ E[(Y_i - X_i'\\beta)^2]$\n",
    "\n",
    "선형회귀는 평균제곱오차(Mean Squared Error, MSE)를 최소화하는 파라미터를 찾아준다.\n",
    "\n",
    "그 미분값이 0이 되도록 하는 선형방정식의 해는 다음과 같다.\n",
    "\n",
    "$\\beta^* = E[{X_i}^{'}X_i]^{-1}E[{X_i}^{'}Y_i]$\n",
    "\n",
    "표본에 대해 비슷한 계산을 해서 추정치를 얻을 수 있다.\n",
    "\n",
    "$\n",
    "\\hat{\\beta} = (X'X)^{-1}X' Y\n",
    "$"
   ]
  },
  {
   "cell_type": "code",
   "execution_count": 5,
   "id": "aaaa29a8",
   "metadata": {
    "ExecuteTime": {
     "end_time": "2023-09-04T18:19:58.342445Z",
     "start_time": "2023-09-04T18:19:58.323073Z"
    }
   },
   "outputs": [
    {
     "data": {
      "text/plain": [
       "array([-4.9122215 , 78.54748458])"
      ]
     },
     "execution_count": 5,
     "metadata": {},
     "output_type": "execute_result"
    }
   ],
   "source": [
    "X = data[[\"format_ol\"]].assign(intercep=1)\n",
    "y = data[\"falsexam\"]\n",
    "\n",
    "def regress(y, X): \n",
    "    return np.linalg.inv(X.T.dot(X)).dot(X.T.dot(y))\n",
    "\n",
    "beta = regress(y, X)\n",
    "beta"
   ]
  },
  {
   "cell_type": "markdown",
   "id": "cb0e031b",
   "metadata": {},
   "source": [
    "위의 공식은 꽤 일반적이다. \n",
    "\n",
    "하지만 회귀 변수(regressor)가 하나 밖에 없는 경우를 연구하는 것도 의미가 있다.\n",
    "\n",
    "인과추론에서 우리의 목적은 변수 T가 결과 y에 미치는 인과적 영향을 추정하는 것이다.\n",
    "\n",
    "이 효과를 추정하기 위해서는 그 단일 변수 T와 함께 회귀분석을 사용하면 된다.\n",
    "\n",
    "모형에 다른 변수를 포함하더라도 대체로는 보조 변수일 뿐이다.\n",
    "\n",
    "다른 변수를 추가하면, 처치의 인과 효과를 추정하는데 도움이 될 수 있지만, 우리는 그 보조 변수의 파라미터를 추정하는데 관심이 없다.\n",
    "\n",
    "하나의 회귀 변수 T가 있을 때, 그에 대한 파라미터는 아래와 같다.\n",
    "\n",
    "$\n",
    "\\beta_1 = \\dfrac{Cov(Y_i, T_i)}{Var(T_i)} \n",
    "$\n",
    "\n",
    "$T$가 무작위로 배정된다면, $\\beta_1$은 ATE 이다."
   ]
  },
  {
   "cell_type": "code",
   "execution_count": 6,
   "id": "3215a283",
   "metadata": {
    "ExecuteTime": {
     "end_time": "2023-09-04T18:25:11.627866Z",
     "start_time": "2023-09-04T18:25:11.619591Z"
    }
   },
   "outputs": [
    {
     "data": {
      "text/plain": [
       "-4.912221498226951"
      ]
     },
     "execution_count": 6,
     "metadata": {},
     "output_type": "execute_result"
    }
   ],
   "source": [
    "kapa = data[\"falsexam\"].cov(data[\"format_ol\"]) / data[\"format_ol\"].var()\n",
    "kapa"
   ]
  },
  {
   "cell_type": "markdown",
   "id": "e4c91e31",
   "metadata": {},
   "source": [
    "회귀변수가 두 개 이상인 경우, 이를 수용하기 위해서는 아래의 공식을 확장하면 된다.\n",
    "\n",
    "다른 변수들은 단지 보조적이고 우리는 T와 관련된 파라미터 $\\kappa$를 추정하는 데만 관심이 있다고 하자.\n",
    "\n",
    "$y_i = \\beta_0 + \\kappa T_i + \\beta_1 X_{1i} + ... + \\beta_k X_{ki} + u_i$\n",
    "\n",
    "$\\kappa$는 다음 공식을 통해 구할 수 있다.\n",
    "\n",
    "$\\kappa = \\dfrac{Cov(Y_i, \\tilde{T_i})}{Var(\\tilde{T_i})}$\n",
    "\n",
    "여기서 $\\tilde{T_i}$가 $T_i$에 대하여 다른 공변인을 포함한 회귀식 $X_{1i} + ... + X_{ki}$의 잔차(residual)이다.\n",
    "\n",
    "다변량 회귀 분석의 계수는 모형의 다른 변수를 효과를 고려한 후, 동일한 회귀 분석기의 이변량 계수와 같다.\n",
    "\n",
    "인과추론 용어를 사용하면, $\\kappa$는 다른 모든 변수를 사용하여 예측한 후 $T$의 이변량 계수이다."
   ]
  },
  {
   "cell_type": "markdown",
   "id": "323e6267",
   "metadata": {},
   "source": [
    "직관적으로 이해해보자면, 다른 변수들로부터 T를 예측할 수 있다면, T는 램덤이 아니라는 뜻이다.\n",
    "\n",
    "하지만 다른 가능한 변수들을 통제하면 T를 랜덤에 가깝게 만들 수 있다. \n",
    "\n",
    "선형 회귀를 이용해 다른 변수들로부터 T를 랜덤에 가깝게 만들 수 있다. 선형회귀를 이용해 다른 변수들로부터 T를 예측하고, 그 잔차 $\\tilde{T}$를 취한다.\n",
    "\n",
    "정의에 따라, $\\tilde{T}$는 다른 변수 X로부터 예측할 수 없다.(이미 T를 예측하는데 사용했기 때문)\n",
    "\n",
    "$\\tilde{T}$는 X의 다른 변수들과 연관되지 않은 처치이다.\n",
    "\n",
    "참고로 이것도 선형 회귀의 특징이다.\n",
    "\n",
    "잔차는 항상 직교(orthogonal)하거나 잔차를 생성한 모형의 다른 변수와 상관 관계가 없다."
   ]
  },
  {
   "cell_type": "code",
   "execution_count": 7,
   "id": "8b596f17",
   "metadata": {
    "ExecuteTime": {
     "end_time": "2023-09-04T18:42:01.552214Z",
     "start_time": "2023-09-04T18:42:01.529051Z"
    }
   },
   "outputs": [
    {
     "name": "stdout",
     "output_type": "stream",
     "text": [
      "Orthogonality imply that the dot product is zero: [-5.18696197e-13 -7.10542736e-14]\n"
     ]
    },
    {
     "data": {
      "text/html": [
       "<div>\n",
       "<style scoped>\n",
       "    .dataframe tbody tr th:only-of-type {\n",
       "        vertical-align: middle;\n",
       "    }\n",
       "\n",
       "    .dataframe tbody tr th {\n",
       "        vertical-align: top;\n",
       "    }\n",
       "\n",
       "    .dataframe thead th {\n",
       "        text-align: right;\n",
       "    }\n",
       "</style>\n",
       "<table border=\"1\" class=\"dataframe\">\n",
       "  <thead>\n",
       "    <tr style=\"text-align: right;\">\n",
       "      <th></th>\n",
       "      <th>format_ol</th>\n",
       "      <th>e</th>\n",
       "    </tr>\n",
       "  </thead>\n",
       "  <tbody>\n",
       "    <tr>\n",
       "      <th>format_ol</th>\n",
       "      <td>1.000000e+00</td>\n",
       "      <td>-3.624295e-16</td>\n",
       "    </tr>\n",
       "    <tr>\n",
       "      <th>e</th>\n",
       "      <td>-3.624295e-16</td>\n",
       "      <td>1.000000e+00</td>\n",
       "    </tr>\n",
       "  </tbody>\n",
       "</table>\n",
       "</div>"
      ],
      "text/plain": [
       "              format_ol             e\n",
       "format_ol  1.000000e+00 -3.624295e-16\n",
       "e         -3.624295e-16  1.000000e+00"
      ]
     },
     "execution_count": 7,
     "metadata": {},
     "output_type": "execute_result"
    }
   ],
   "source": [
    "e = y - X.dot(beta)\n",
    "print(\"Orthogonality imply that the dot product is zero:\", np.dot(e, X))\n",
    "X[[\"format_ol\"]].assign(e=e).corr()"
   ]
  },
  {
   "cell_type": "markdown",
   "id": "0f2d12f9",
   "metadata": {},
   "source": [
    "## Regression for Non-Random Data\n",
    "\n",
    "지금까지 무작위 실험 데이터를 다뤘다.\n",
    "\n",
    "하지만, 알다시피 그런 데이터는 구하기가 어렵다. 실험을 수행하는 것이 비싸거나 아예 불가능할 수도 있다.(Ex.기업 컨설팅 효과를 규명하기 위해 랜덤한 회사에 무료 컨설팅을 할 수는 없을 것)\n",
    "\n",
    "그런 이유로 우리는 랜덤하지 않은 데이터, 혹은 관측 데이터(observational data)를 다뤄볼 것이다.\n",
    "\n",
    "아래 예제는 추가 교육 기간이 시간당 임금에 미치는 영향을 추정하고자 한다.\n",
    "\n",
    "먼저 간단한 모형을 추정해보자. \n",
    "\n",
    "교육 받은 기간을 조작변인, 시간당 임금의 로그값을 결과로 하여 회귀 모형을 실행해보자.\n",
    "\n",
    "로그를 사용하면 파라미터 추정치를 백분율로 해석할 수 있다.(교육기간이 1년 늘어날 때 임금이 x%늘어난다고 말할 수 있다)\n",
    "\n",
    "$log(hwage)_i = \\beta_0 + \\beta_1educ_i + u_i$"
   ]
  },
  {
   "cell_type": "code",
   "execution_count": 10,
   "id": "d74734a8",
   "metadata": {
    "ExecuteTime": {
     "end_time": "2023-09-04T18:47:51.045875Z",
     "start_time": "2023-09-04T18:47:51.020089Z"
    }
   },
   "outputs": [
    {
     "data": {
      "text/html": [
       "<div>\n",
       "<style scoped>\n",
       "    .dataframe tbody tr th:only-of-type {\n",
       "        vertical-align: middle;\n",
       "    }\n",
       "\n",
       "    .dataframe tbody tr th {\n",
       "        vertical-align: top;\n",
       "    }\n",
       "\n",
       "    .dataframe thead th {\n",
       "        text-align: right;\n",
       "    }\n",
       "</style>\n",
       "<table border=\"1\" class=\"dataframe\">\n",
       "  <thead>\n",
       "    <tr style=\"text-align: right;\">\n",
       "      <th></th>\n",
       "      <th>wage</th>\n",
       "      <th>hours</th>\n",
       "      <th>lhwage</th>\n",
       "      <th>IQ</th>\n",
       "      <th>educ</th>\n",
       "      <th>exper</th>\n",
       "      <th>tenure</th>\n",
       "      <th>age</th>\n",
       "      <th>married</th>\n",
       "      <th>black</th>\n",
       "      <th>south</th>\n",
       "      <th>urban</th>\n",
       "      <th>sibs</th>\n",
       "      <th>brthord</th>\n",
       "      <th>meduc</th>\n",
       "      <th>feduc</th>\n",
       "    </tr>\n",
       "  </thead>\n",
       "  <tbody>\n",
       "    <tr>\n",
       "      <th>0</th>\n",
       "      <td>769</td>\n",
       "      <td>40</td>\n",
       "      <td>2.956212</td>\n",
       "      <td>93</td>\n",
       "      <td>12</td>\n",
       "      <td>11</td>\n",
       "      <td>2</td>\n",
       "      <td>31</td>\n",
       "      <td>1</td>\n",
       "      <td>0</td>\n",
       "      <td>0</td>\n",
       "      <td>1</td>\n",
       "      <td>1</td>\n",
       "      <td>2.0</td>\n",
       "      <td>8.0</td>\n",
       "      <td>8.0</td>\n",
       "    </tr>\n",
       "    <tr>\n",
       "      <th>2</th>\n",
       "      <td>825</td>\n",
       "      <td>40</td>\n",
       "      <td>3.026504</td>\n",
       "      <td>108</td>\n",
       "      <td>14</td>\n",
       "      <td>11</td>\n",
       "      <td>9</td>\n",
       "      <td>33</td>\n",
       "      <td>1</td>\n",
       "      <td>0</td>\n",
       "      <td>0</td>\n",
       "      <td>1</td>\n",
       "      <td>1</td>\n",
       "      <td>2.0</td>\n",
       "      <td>14.0</td>\n",
       "      <td>14.0</td>\n",
       "    </tr>\n",
       "    <tr>\n",
       "      <th>3</th>\n",
       "      <td>650</td>\n",
       "      <td>40</td>\n",
       "      <td>2.788093</td>\n",
       "      <td>96</td>\n",
       "      <td>12</td>\n",
       "      <td>13</td>\n",
       "      <td>7</td>\n",
       "      <td>32</td>\n",
       "      <td>1</td>\n",
       "      <td>0</td>\n",
       "      <td>0</td>\n",
       "      <td>1</td>\n",
       "      <td>4</td>\n",
       "      <td>3.0</td>\n",
       "      <td>12.0</td>\n",
       "      <td>12.0</td>\n",
       "    </tr>\n",
       "    <tr>\n",
       "      <th>4</th>\n",
       "      <td>562</td>\n",
       "      <td>40</td>\n",
       "      <td>2.642622</td>\n",
       "      <td>74</td>\n",
       "      <td>11</td>\n",
       "      <td>14</td>\n",
       "      <td>5</td>\n",
       "      <td>34</td>\n",
       "      <td>1</td>\n",
       "      <td>0</td>\n",
       "      <td>0</td>\n",
       "      <td>1</td>\n",
       "      <td>10</td>\n",
       "      <td>6.0</td>\n",
       "      <td>6.0</td>\n",
       "      <td>11.0</td>\n",
       "    </tr>\n",
       "    <tr>\n",
       "      <th>6</th>\n",
       "      <td>600</td>\n",
       "      <td>40</td>\n",
       "      <td>2.708050</td>\n",
       "      <td>91</td>\n",
       "      <td>10</td>\n",
       "      <td>13</td>\n",
       "      <td>0</td>\n",
       "      <td>30</td>\n",
       "      <td>0</td>\n",
       "      <td>0</td>\n",
       "      <td>0</td>\n",
       "      <td>1</td>\n",
       "      <td>1</td>\n",
       "      <td>2.0</td>\n",
       "      <td>8.0</td>\n",
       "      <td>8.0</td>\n",
       "    </tr>\n",
       "  </tbody>\n",
       "</table>\n",
       "</div>"
      ],
      "text/plain": [
       "   wage  hours    lhwage   IQ  educ  exper  tenure  age  married  black  \\\n",
       "0   769     40  2.956212   93    12     11       2   31        1      0   \n",
       "2   825     40  3.026504  108    14     11       9   33        1      0   \n",
       "3   650     40  2.788093   96    12     13       7   32        1      0   \n",
       "4   562     40  2.642622   74    11     14       5   34        1      0   \n",
       "6   600     40  2.708050   91    10     13       0   30        0      0   \n",
       "\n",
       "   south  urban  sibs  brthord  meduc  feduc  \n",
       "0      0      1     1      2.0    8.0    8.0  \n",
       "2      0      1     1      2.0   14.0   14.0  \n",
       "3      0      1     4      3.0   12.0   12.0  \n",
       "4      0      1    10      6.0    6.0   11.0  \n",
       "6      0      1     1      2.0    8.0    8.0  "
      ]
     },
     "execution_count": 10,
     "metadata": {},
     "output_type": "execute_result"
    }
   ],
   "source": [
    "wage = pd.read_csv(\"./data/wage.csv\").dropna()\n",
    "wage.head()"
   ]
  },
  {
   "cell_type": "code",
   "execution_count": 11,
   "id": "44aa6189",
   "metadata": {
    "ExecuteTime": {
     "end_time": "2023-09-04T18:47:53.647889Z",
     "start_time": "2023-09-04T18:47:53.623994Z"
    }
   },
   "outputs": [
    {
     "data": {
      "text/html": [
       "<table class=\"simpletable\">\n",
       "<tr>\n",
       "      <td></td>         <th>coef</th>     <th>std err</th>      <th>t</th>      <th>P>|t|</th>  <th>[0.025</th>    <th>0.975]</th>  \n",
       "</tr>\n",
       "<tr>\n",
       "  <th>Intercept</th> <td>    2.3071</td> <td>    0.104</td> <td>   22.089</td> <td> 0.000</td> <td>    2.102</td> <td>    2.512</td>\n",
       "</tr>\n",
       "<tr>\n",
       "  <th>educ</th>      <td>    0.0536</td> <td>    0.008</td> <td>    7.114</td> <td> 0.000</td> <td>    0.039</td> <td>    0.068</td>\n",
       "</tr>\n",
       "</table>"
      ],
      "text/plain": [
       "<class 'statsmodels.iolib.table.SimpleTable'>"
      ]
     },
     "execution_count": 11,
     "metadata": {},
     "output_type": "execute_result"
    }
   ],
   "source": [
    "model_1 = smf.ols('np.log(hwage) ~ educ', data=wage.assign(hwage=wage[\"wage\"]/wage[\"hours\"])).fit()\n",
    "model_1.summary().tables[1]"
   ]
  },
  {
   "cell_type": "markdown",
   "id": "69eb1849",
   "metadata": {},
   "source": [
    "$\\beta_1$의 추정치는 0.05363이au 95% 신뢰 구간은 (0.039, 0.068)이다.\n",
    "\n",
    "이 모형에 따르면 교육 기간이 1년 추가될 때마다 임금이 약 5.3%증가한다고 예측할 수 있다.\n",
    "\n",
    "해당 비율 증가는 교육이 임금에 기하급수적인 영향을 미친다는 우리의 믿음(?)과 일치하다.\n",
    "\n",
    "즉, 대학교까지 졸업(14 ~ 16년의 교육)이 고등학교 졸업(11 ~ 12년의 교육)을 했을 때보다 더 높은 임금을 받는다는 것을 의미한다."
   ]
  },
  {
   "cell_type": "code",
   "execution_count": 13,
   "id": "c0974bca",
   "metadata": {
    "ExecuteTime": {
     "end_time": "2023-09-04T18:55:09.134139Z",
     "start_time": "2023-09-04T18:55:09.123906Z"
    }
   },
   "outputs": [
    {
     "data": {
      "text/plain": [
       "Intercept    2.307112\n",
       "educ         0.053605\n",
       "dtype: float64"
      ]
     },
     "execution_count": 13,
     "metadata": {},
     "output_type": "execute_result"
    }
   ],
   "source": [
    "model_1.params"
   ]
  },
  {
   "cell_type": "code",
   "execution_count": 14,
   "id": "a722fab4",
   "metadata": {
    "ExecuteTime": {
     "end_time": "2023-09-04T18:55:15.615873Z",
     "start_time": "2023-09-04T18:55:15.056665Z"
    }
   },
   "outputs": [
    {
     "data": {
      "image/png": "[encoded data removed]",
      "text/plain": [
       "<Figure size 432x288 with 1 Axes>"
      ]
     },
     "metadata": {},
     "output_type": "display_data"
    }
   ],
   "source": [
    "from matplotlib import pyplot as plt\n",
    "from matplotlib import style\n",
    "style.use(\"fivethirtyeight\")\n",
    "\n",
    "x = np.array(range(5, 20))\n",
    "plt.plot(x, np.exp(model_1.params[\"Intercept\"] + model_1.params[\"educ\"] * x))\n",
    "plt.xlabel(\"Years of Education\")\n",
    "plt.ylabel(\"Hourly Wage\")\n",
    "plt.title(\"Impact of Education on Hourly Wage\")\n",
    "plt.show()"
   ]
  },
  {
   "cell_type": "markdown",
   "id": "5a8387e0",
   "metadata": {},
   "source": [
    "물론, 이 단순한 모형을 추정(estimate)할 수 있다고 해서, 값이 정확하다고 할 순 없다.\n",
    "\n",
    "이 모델은 편향되어 있다고 믿을만한, 아주 중요한 문제가 있다. 이 데이터는 무작위 실험에서 나온 데이터가 아니다.\n",
    "\n",
    "교육을 많이 받은 사람과 적게 받은 사람을 단순 비교하면 안 될지도 모른다. \n",
    "\n",
    "몇 년간 교육을 더 받은 사람들은 아마도 더 부유한 부모를 뒀을 것이고, 교육 기간을 늘렸을 때 나타난 임금 인상은 가족의 부와 교육 기간이 연관되어 있다는 증거라고 주장할 수도 있다. \n",
    "\n",
    "수학적으로 말하자면 우리는 교육을 더 많이 받은 사람들은 그 교육을 받지 않았어도 어차피 더 높은 소득을 가질 것이라고, \n",
    "\n",
    "즉 $E[Y_0|T=0] < E[Y_0|T=1]$라고 주장할 수도 있다. \n",
    "\n",
    "교육에 대해 정말 부정적인 사람은 일할 시간을 뺏고 경력이 줄어들기 때문에 교육 기간이 임금을 *감소시킨다고* 말할 수도 있다.\n",
    "\n",
    "다행히도, 우리 데이터에는 다른 변수들도 있다. \n",
    "\n",
    "부모의 교육 기간 `meduc`와 `feduc`, 그 사람의 `IQ` 점수, 경력 년수 `exper`, 그리고 회사에 재직한 기간 `tenure` 등이 있다. \n",
    "\n",
    "심지어 결혼 여부와 흑인 여부에 대한 더미 변수도 있다."
   ]
  },
  {
   "cell_type": "code",
   "execution_count": 15,
   "id": "c350afdf",
   "metadata": {
    "ExecuteTime": {
     "end_time": "2023-09-04T18:59:24.321100Z",
     "start_time": "2023-09-04T18:59:24.296101Z"
    }
   },
   "outputs": [
    {
     "data": {
      "text/html": [
       "<div>\n",
       "<style scoped>\n",
       "    .dataframe tbody tr th:only-of-type {\n",
       "        vertical-align: middle;\n",
       "    }\n",
       "\n",
       "    .dataframe tbody tr th {\n",
       "        vertical-align: top;\n",
       "    }\n",
       "\n",
       "    .dataframe thead th {\n",
       "        text-align: right;\n",
       "    }\n",
       "</style>\n",
       "<table border=\"1\" class=\"dataframe\">\n",
       "  <thead>\n",
       "    <tr style=\"text-align: right;\">\n",
       "      <th></th>\n",
       "      <th>wage</th>\n",
       "      <th>hours</th>\n",
       "      <th>lhwage</th>\n",
       "      <th>IQ</th>\n",
       "      <th>educ</th>\n",
       "      <th>exper</th>\n",
       "      <th>tenure</th>\n",
       "      <th>age</th>\n",
       "      <th>married</th>\n",
       "      <th>black</th>\n",
       "      <th>south</th>\n",
       "      <th>urban</th>\n",
       "      <th>sibs</th>\n",
       "      <th>brthord</th>\n",
       "      <th>meduc</th>\n",
       "      <th>feduc</th>\n",
       "    </tr>\n",
       "  </thead>\n",
       "  <tbody>\n",
       "    <tr>\n",
       "      <th>0</th>\n",
       "      <td>769</td>\n",
       "      <td>40</td>\n",
       "      <td>2.956212</td>\n",
       "      <td>93</td>\n",
       "      <td>12</td>\n",
       "      <td>11</td>\n",
       "      <td>2</td>\n",
       "      <td>31</td>\n",
       "      <td>1</td>\n",
       "      <td>0</td>\n",
       "      <td>0</td>\n",
       "      <td>1</td>\n",
       "      <td>1</td>\n",
       "      <td>2.0</td>\n",
       "      <td>8.0</td>\n",
       "      <td>8.0</td>\n",
       "    </tr>\n",
       "    <tr>\n",
       "      <th>2</th>\n",
       "      <td>825</td>\n",
       "      <td>40</td>\n",
       "      <td>3.026504</td>\n",
       "      <td>108</td>\n",
       "      <td>14</td>\n",
       "      <td>11</td>\n",
       "      <td>9</td>\n",
       "      <td>33</td>\n",
       "      <td>1</td>\n",
       "      <td>0</td>\n",
       "      <td>0</td>\n",
       "      <td>1</td>\n",
       "      <td>1</td>\n",
       "      <td>2.0</td>\n",
       "      <td>14.0</td>\n",
       "      <td>14.0</td>\n",
       "    </tr>\n",
       "    <tr>\n",
       "      <th>3</th>\n",
       "      <td>650</td>\n",
       "      <td>40</td>\n",
       "      <td>2.788093</td>\n",
       "      <td>96</td>\n",
       "      <td>12</td>\n",
       "      <td>13</td>\n",
       "      <td>7</td>\n",
       "      <td>32</td>\n",
       "      <td>1</td>\n",
       "      <td>0</td>\n",
       "      <td>0</td>\n",
       "      <td>1</td>\n",
       "      <td>4</td>\n",
       "      <td>3.0</td>\n",
       "      <td>12.0</td>\n",
       "      <td>12.0</td>\n",
       "    </tr>\n",
       "    <tr>\n",
       "      <th>4</th>\n",
       "      <td>562</td>\n",
       "      <td>40</td>\n",
       "      <td>2.642622</td>\n",
       "      <td>74</td>\n",
       "      <td>11</td>\n",
       "      <td>14</td>\n",
       "      <td>5</td>\n",
       "      <td>34</td>\n",
       "      <td>1</td>\n",
       "      <td>0</td>\n",
       "      <td>0</td>\n",
       "      <td>1</td>\n",
       "      <td>10</td>\n",
       "      <td>6.0</td>\n",
       "      <td>6.0</td>\n",
       "      <td>11.0</td>\n",
       "    </tr>\n",
       "    <tr>\n",
       "      <th>6</th>\n",
       "      <td>600</td>\n",
       "      <td>40</td>\n",
       "      <td>2.708050</td>\n",
       "      <td>91</td>\n",
       "      <td>10</td>\n",
       "      <td>13</td>\n",
       "      <td>0</td>\n",
       "      <td>30</td>\n",
       "      <td>0</td>\n",
       "      <td>0</td>\n",
       "      <td>0</td>\n",
       "      <td>1</td>\n",
       "      <td>1</td>\n",
       "      <td>2.0</td>\n",
       "      <td>8.0</td>\n",
       "      <td>8.0</td>\n",
       "    </tr>\n",
       "  </tbody>\n",
       "</table>\n",
       "</div>"
      ],
      "text/plain": [
       "   wage  hours    lhwage   IQ  educ  exper  tenure  age  married  black  \\\n",
       "0   769     40  2.956212   93    12     11       2   31        1      0   \n",
       "2   825     40  3.026504  108    14     11       9   33        1      0   \n",
       "3   650     40  2.788093   96    12     13       7   32        1      0   \n",
       "4   562     40  2.642622   74    11     14       5   34        1      0   \n",
       "6   600     40  2.708050   91    10     13       0   30        0      0   \n",
       "\n",
       "   south  urban  sibs  brthord  meduc  feduc  \n",
       "0      0      1     1      2.0    8.0    8.0  \n",
       "2      0      1     1      2.0   14.0   14.0  \n",
       "3      0      1     4      3.0   12.0   12.0  \n",
       "4      0      1    10      6.0    6.0   11.0  \n",
       "6      0      1     1      2.0    8.0    8.0  "
      ]
     },
     "execution_count": 15,
     "metadata": {},
     "output_type": "execute_result"
    }
   ],
   "source": [
    "wage.head()"
   ]
  },
  {
   "cell_type": "markdown",
   "id": "7d2a220f",
   "metadata": {},
   "source": [
    "해당 추가 변수들을 모두 포함한 모형을 아래와 같이 추정할 수 있다.\n",
    "\n",
    "$\n",
    "log(hwage)_i = \\beta_0 + \\kappa \\ educ_i + \\pmb{\\beta}X_i + u_i\n",
    "$\n",
    "\n",
    "해당 식이 왜 편향을 없애주는지 궁금하다면, 다변량 선형 회귀의 이변량 분석을 되짚어보자.\n",
    "\n",
    "$\n",
    "\\kappa = \\dfrac{Cov(Y_i, \\tilde{T_i})}{Var(\\tilde{T_i})} \n",
    "$\n",
    "\n",
    "이 공식은 부모의 교육, IQ, 경력 등으로부터 교육기간 `educ`을 예측할 수 있다는 것을 말해준다. \n",
    "\n",
    "이 작업을 수행하고 나면 이전에 포함된 모든 변수와 상관이 없는 버전의 `educ`, $\\tilde{educ}$이 남는다. \n",
    "\n",
    "만약 \"교육을 더 오래 받은 사람들은 IQ가 더 높기 때문에 교육을 많이 받은 것이다. 교육이 임금 인상으로 이어진 것이 아니라 IQ 때문에 임금이 높아진 것이다\"고 주장하는 사람이 있다면 이 방식을 이용하면 이런 주장을 깨트릴 수 있다. \n",
    "\n",
    "우리의 모형에 IQ를 포함한다면, $\\kappa$는 IQ를 고정시키면서 교육기간을 추가했을 때의 반환값이 된다. \n",
    "\n",
    "이것이 무엇을 의미하는지 생각해보자. \n",
    "\n",
    "RCT를 해서 처치 집단과 비처치 집단을 동등하게 만들 수는 없지만, 회귀 모형에 다른 요소들을 포함하면 같은 효과를 낼 수 있다.(랜덤한 데이터가 아닐지라도) \n",
    "\n"
   ]
  },
  {
   "cell_type": "code",
   "execution_count": 16,
   "id": "96b8639d",
   "metadata": {
    "ExecuteTime": {
     "end_time": "2023-09-04T19:02:14.648783Z",
     "start_time": "2023-09-04T19:02:14.615253Z"
    }
   },
   "outputs": [
    {
     "data": {
      "text/plain": [
       "0.04114719101006078"
      ]
     },
     "execution_count": 16,
     "metadata": {},
     "output_type": "execute_result"
    }
   ],
   "source": [
    "controls = ['IQ', 'exper', 'tenure', 'age', 'married', 'black',\n",
    "            'south', 'urban', 'sibs', 'brthord', 'meduc', 'feduc']\n",
    "\n",
    "X = wage[controls].assign(intercep=1)\n",
    "t = wage[\"educ\"]\n",
    "y = wage[\"lhwage\"]\n",
    "\n",
    "beta_aux = regress(t, X)\n",
    "t_tilde = t - X.dot(beta_aux)\n",
    "\n",
    "kappa = t_tilde.cov(y) / t_tilde.var()\n",
    "kappa"
   ]
  },
  {
   "cell_type": "markdown",
   "id": "b8156265",
   "metadata": {},
   "source": [
    "위에서 추정한 이 계수는 동일한 IQ, 경력, 재직 기간, 나이 등을 가진 사람들의 경우 교육 기간이 1년 늘어날 때마다 시간당 임금이 4.11% 상승한다는 뜻이다. \n",
    "\n",
    "처음에 `educ`만 포함해 만든 모형은 편향되었다. \n",
    "\n",
    "또, 이러한 편향으로 인해 교육의 영향을 과대평가됐다는 것도 알 수 있다. \n",
    "\n",
    "일단 다른 요소들을 통제하고 나면, 우리가 추정한 교육의 영향력은 줄어든다.\n"
   ]
  },
  {
   "cell_type": "code",
   "execution_count": 17,
   "id": "664a4521",
   "metadata": {
    "ExecuteTime": {
     "end_time": "2023-09-04T19:03:41.711162Z",
     "start_time": "2023-09-04T19:03:41.674922Z"
    }
   },
   "outputs": [
    {
     "data": {
      "text/html": [
       "<table class=\"simpletable\">\n",
       "<tr>\n",
       "      <td></td>         <th>coef</th>     <th>std err</th>      <th>t</th>      <th>P>|t|</th>  <th>[0.025</th>    <th>0.975]</th>  \n",
       "</tr>\n",
       "<tr>\n",
       "  <th>Intercept</th> <td>    1.1156</td> <td>    0.232</td> <td>    4.802</td> <td> 0.000</td> <td>    0.659</td> <td>    1.572</td>\n",
       "</tr>\n",
       "<tr>\n",
       "  <th>educ</th>      <td>    0.0411</td> <td>    0.010</td> <td>    4.075</td> <td> 0.000</td> <td>    0.021</td> <td>    0.061</td>\n",
       "</tr>\n",
       "<tr>\n",
       "  <th>IQ</th>        <td>    0.0038</td> <td>    0.001</td> <td>    2.794</td> <td> 0.005</td> <td>    0.001</td> <td>    0.006</td>\n",
       "</tr>\n",
       "<tr>\n",
       "  <th>exper</th>     <td>    0.0153</td> <td>    0.005</td> <td>    3.032</td> <td> 0.003</td> <td>    0.005</td> <td>    0.025</td>\n",
       "</tr>\n",
       "<tr>\n",
       "  <th>tenure</th>    <td>    0.0094</td> <td>    0.003</td> <td>    2.836</td> <td> 0.005</td> <td>    0.003</td> <td>    0.016</td>\n",
       "</tr>\n",
       "<tr>\n",
       "  <th>age</th>       <td>    0.0086</td> <td>    0.006</td> <td>    1.364</td> <td> 0.173</td> <td>   -0.004</td> <td>    0.021</td>\n",
       "</tr>\n",
       "<tr>\n",
       "  <th>married</th>   <td>    0.1795</td> <td>    0.053</td> <td>    3.415</td> <td> 0.001</td> <td>    0.076</td> <td>    0.283</td>\n",
       "</tr>\n",
       "<tr>\n",
       "  <th>black</th>     <td>   -0.0801</td> <td>    0.063</td> <td>   -1.263</td> <td> 0.207</td> <td>   -0.205</td> <td>    0.044</td>\n",
       "</tr>\n",
       "<tr>\n",
       "  <th>south</th>     <td>   -0.0397</td> <td>    0.035</td> <td>   -1.129</td> <td> 0.259</td> <td>   -0.109</td> <td>    0.029</td>\n",
       "</tr>\n",
       "<tr>\n",
       "  <th>urban</th>     <td>    0.1926</td> <td>    0.036</td> <td>    5.418</td> <td> 0.000</td> <td>    0.123</td> <td>    0.262</td>\n",
       "</tr>\n",
       "<tr>\n",
       "  <th>sibs</th>      <td>    0.0065</td> <td>    0.009</td> <td>    0.722</td> <td> 0.470</td> <td>   -0.011</td> <td>    0.024</td>\n",
       "</tr>\n",
       "<tr>\n",
       "  <th>brthord</th>   <td>   -0.0080</td> <td>    0.013</td> <td>   -0.604</td> <td> 0.546</td> <td>   -0.034</td> <td>    0.018</td>\n",
       "</tr>\n",
       "<tr>\n",
       "  <th>meduc</th>     <td>    0.0089</td> <td>    0.007</td> <td>    1.265</td> <td> 0.206</td> <td>   -0.005</td> <td>    0.023</td>\n",
       "</tr>\n",
       "<tr>\n",
       "  <th>feduc</th>     <td>    0.0069</td> <td>    0.006</td> <td>    1.113</td> <td> 0.266</td> <td>   -0.005</td> <td>    0.019</td>\n",
       "</tr>\n",
       "</table>"
      ],
      "text/plain": [
       "<class 'statsmodels.iolib.table.SimpleTable'>"
      ]
     },
     "execution_count": 17,
     "metadata": {},
     "output_type": "execute_result"
    }
   ],
   "source": [
    "model_2 = smf.ols('lhwage ~ educ +' + '+'.join(controls), data=wage).fit()\n",
    "model_2.summary().tables[1]"
   ]
  },
  {
   "cell_type": "markdown",
   "id": "2cdc7292",
   "metadata": {},
   "source": [
    "## Omitted Variable or Confounding Bias\n",
    "\n",
    "위에서 추정한 이 파라미터가 인과 관계일까?\n",
    "\n",
    "아직 확실하게 이야기 할 수는 없다.\n",
    "\n",
    "첫 번째 세웠던 단순한 회귀모형의 파라미터는 인과 관계가 아닐 것이다.\n",
    "- 이 모형은 교육과 임금, 둘 다의 상관관계가 있는 중요한 변수들을 생략하기 때문\n",
    "- 해당 변수들을 적절하게 통제하지 않는다면, 교육의 영향을 추정했을 때 회귀 모형에 포함되지 않은 다른 변수들의 영향도 같이 집계될 것이다.\n",
    "\n",
    "편향이 어떻게 영향을 주는지 이해하기 위해, 교육과 임금의 상관관계가 실제로 아래와 같은 모형을 따른다고 가정해보자.\n",
    "\n",
    "$Wage_i = \\alpha + \\kappa Educ_i + {A_i}^{'}\\beta + u_i$\n",
    "\n",
    "교육이 임금에 끼치는 영향은 $\\kappa$ 의 크기와 추가적인 능력 인자를 나타내는 벡터 A에 의해 측정된다.\n",
    "\n",
    "우리의 모델에서 능력을 제거하면 $\\kappa$에 대한 추정치는 다음과 같다.\n",
    "\n",
    "$\n",
    "\\dfrac{Cov(Wage_i, Educ_i)}{Var(Educ_i)} = \\kappa + \\beta'\\delta_{Ability}\n",
    "$\n"
   ]
  },
  {
   "cell_type": "markdown",
   "id": "6b1d981f",
   "metadata": {},
   "source": [
    "여기서 $\\delta_A$ 는 $Educ$에 대한 회귀 모델에서의 $A$의 계수 벡터이다.\n",
    "\n",
    "여기서 중요한 것은 우리가 원하는 $\\kappa$ 와 정확하게 일치하지는 않는다는 것이다.\n",
    "\n",
    "대신,  $\\beta'\\delta_{A}$라는 추가 항이 붙는데, 이 항은 생략된 $A$가 $Wage$에 미치는 영향으로 생략 변수가 $Educ$에 끼치는 영향에 $\\beta$를 곱한 것이다.\n",
    "\n",
    "이러한 사실은 경제학자들에게 중요한 사실이다.\n",
    "\n",
    "조슈아 앵그리스트는 아래와 같은 문구를 만들었다.\n",
    "\n",
    "```\n",
    "\"Short equals long \n",
    "plus the effect of omitted \n",
    "times the regression of omitted on included\"\n",
    "```\n",
    "\n",
    "여기서, 짧은 회귀 분석(short)은 변수를 생략한 회귀 분석이고, 긴 회귀 분석(long)은 그 변수들을 포함하는 회귀 분석이다. \n",
    "\n",
    "이 부분은 편향의 본질에 대한 인사이트를 준다.\n",
    "- 1. 생략 변수가 종속 변수 $Y$에 영향을 미치지 않는다면 편향 항(bias term)은 0이 된다.(교육이 임금에 미치는 영향을 이해하고자 할때, 임금과 무관한 변수들(라일락의 키가 얼마나 되는지 등)을 통제할 필요는 없다)\n",
    "- 2. 생략된 변수가 처치 변수에 영향을 미치지 않는 경우에도 편향 항은 0이 된다.(설계한 모델에 교육에 영향을 미치는 모든 변수가 포함되어 있다면, 교육과 임금에 모두 영향을 주는 변수 때문에 추정치가 바뀌는 일은 없다)\n",
    "\n",
    "![img](data/img/linear-regression/confused_cat.png)\n",
    "\n",
    "이를 좀 더 깔끔하게 표현하자면, 모형에서 모든 교란 변수를 고려한 경우 ***OVB(Omitted Variable Bias)*** 가 없다고 말한다.\n",
    "\n",
    "교란 변수는 ***처치와 결과*** 를 모두 유발하는 변수이다.\n",
    "\n",
    "임금 사례에서는 IQ는 교란 변수이다. 높은 IQ를 가지고 있는 사람들은 교육을 더 오래 이어가는 경향이 있다.\n",
    "\n",
    "해당 관점에서 본다면, IQ가 교육 기간에 영향을 준다고 말할 수 있다. 또한 IQ가 높은 사람들은 선천적으로 더 생산적인 경향이 있다.\n",
    "\n",
    "그 결과, 더 높은 임금을 받을 수 있을 것이다. 이러한 상황을 고려해보았을 때, IQ는 임금에도 영향을 준다고 볼 수 있다.\n",
    "\n",
    "인과 그래프를 통해 확인해보자.\n",
    "\n",
    "교란 요인은 처치와 결과에 모두 영향을 미치는 변수이므로 T와 Y로 가는 화살표로 표시, 교란 변수를 W로 표시.\n",
    "\n",
    "또한, 양의 인과 관계를 빨간색, 음의 인과 관계를 파란색으로 표시해보자."
   ]
  },
  {
   "cell_type": "code",
   "execution_count": 18,
   "id": "a9a3a45e",
   "metadata": {
    "ExecuteTime": {
     "end_time": "2023-09-04T20:20:08.972274Z",
     "start_time": "2023-09-04T20:20:08.468960Z"
    }
   },
   "outputs": [
    {
     "data": {
      "image/svg+xml": [
       "<?xml version=\"1.0\" encoding=\"UTF-8\" standalone=\"no\"?>\n",
       "<!DOCTYPE svg PUBLIC \"-//W3C//DTD SVG 1.1//EN\"\n",
       " \"http://www.w3.org/Graphics/SVG/1.1/DTD/svg11.dtd\">\n",
       "<!-- Generated by graphviz version 8.0.4 (20230421.1958)\n",
       " -->\n",
       "<!-- Pages: 1 -->\n",
       "<svg width=\"352pt\" height=\"188pt\"\n",
       " viewBox=\"0.00 0.00 352.19 188.00\" xmlns=\"http://www.w3.org/2000/svg\" xmlns:xlink=\"http://www.w3.org/1999/xlink\">\n",
       "<g id=\"graph0\" class=\"graph\" transform=\"scale(1 1) rotate(0) translate(4 184)\">\n",
       "<polygon fill=\"white\" stroke=\"none\" points=\"-4,4 -4,-184 348.19,-184 348.19,4 -4,4\"/>\n",
       "<!-- W -->\n",
       "<g id=\"node1\" class=\"node\">\n",
       "<title>W</title>\n",
       "<ellipse fill=\"none\" stroke=\"black\" cx=\"69\" cy=\"-162\" rx=\"27\" ry=\"18\"/>\n",
       "<text text-anchor=\"middle\" x=\"69\" y=\"-156.95\" font-family=\"Times,serif\" font-size=\"14.00\">W</text>\n",
       "</g>\n",
       "<!-- T -->\n",
       "<g id=\"node2\" class=\"node\">\n",
       "<title>T</title>\n",
       "<ellipse fill=\"none\" stroke=\"black\" cx=\"27\" cy=\"-90\" rx=\"27\" ry=\"18\"/>\n",
       "<text text-anchor=\"middle\" x=\"27\" y=\"-84.95\" font-family=\"Times,serif\" font-size=\"14.00\">T</text>\n",
       "</g>\n",
       "<!-- W&#45;&gt;T -->\n",
       "<g id=\"edge1\" class=\"edge\">\n",
       "<title>W&#45;&gt;T</title>\n",
       "<path fill=\"none\" stroke=\"black\" d=\"M59.26,-144.76C54.22,-136.37 47.96,-125.93 42.3,-116.5\"/>\n",
       "<polygon fill=\"black\" stroke=\"black\" points=\"44.83,-114.92 36.69,-108.15 38.83,-118.52 44.83,-114.92\"/>\n",
       "</g>\n",
       "<!-- Y -->\n",
       "<g id=\"node3\" class=\"node\">\n",
       "<title>Y</title>\n",
       "<ellipse fill=\"none\" stroke=\"black\" cx=\"62\" cy=\"-18\" rx=\"27\" ry=\"18\"/>\n",
       "<text text-anchor=\"middle\" x=\"62\" y=\"-12.95\" font-family=\"Times,serif\" font-size=\"14.00\">Y</text>\n",
       "</g>\n",
       "<!-- W&#45;&gt;Y -->\n",
       "<g id=\"edge2\" class=\"edge\">\n",
       "<title>W&#45;&gt;Y</title>\n",
       "<path fill=\"none\" stroke=\"black\" d=\"M68.14,-143.59C66.95,-119.5 64.8,-75.75 63.38,-47.03\"/>\n",
       "<polygon fill=\"black\" stroke=\"black\" points=\"66.83,-46.93 62.84,-37.11 59.84,-47.27 66.83,-46.93\"/>\n",
       "</g>\n",
       "<!-- T&#45;&gt;Y -->\n",
       "<g id=\"edge3\" class=\"edge\">\n",
       "<title>T&#45;&gt;Y</title>\n",
       "<path fill=\"none\" stroke=\"black\" d=\"M35.29,-72.41C39.35,-64.3 44.32,-54.35 48.88,-45.25\"/>\n",
       "<polygon fill=\"black\" stroke=\"black\" points=\"52.42,-46.98 53.77,-36.47 46.16,-43.85 52.42,-46.98\"/>\n",
       "</g>\n",
       "<!-- IQ -->\n",
       "<g id=\"node4\" class=\"node\">\n",
       "<title>IQ</title>\n",
       "<ellipse fill=\"none\" stroke=\"black\" cx=\"161\" cy=\"-162\" rx=\"27\" ry=\"18\"/>\n",
       "<text text-anchor=\"middle\" x=\"161\" y=\"-156.95\" font-family=\"Times,serif\" font-size=\"14.00\">IQ</text>\n",
       "</g>\n",
       "<!-- Educ -->\n",
       "<g id=\"node5\" class=\"node\">\n",
       "<title>Educ</title>\n",
       "<ellipse fill=\"none\" stroke=\"black\" cx=\"149\" cy=\"-90\" rx=\"29.86\" ry=\"18\"/>\n",
       "<text text-anchor=\"middle\" x=\"149\" y=\"-84.95\" font-family=\"Times,serif\" font-size=\"14.00\">Educ</text>\n",
       "</g>\n",
       "<!-- IQ&#45;&gt;Educ -->\n",
       "<g id=\"edge4\" class=\"edge\">\n",
       "<title>IQ&#45;&gt;Educ</title>\n",
       "<path fill=\"none\" stroke=\"red\" d=\"M158.03,-143.7C156.74,-136.15 155.19,-127.12 153.75,-118.68\"/>\n",
       "<polygon fill=\"red\" stroke=\"red\" points=\"157.07,-118.37 151.93,-109.1 150.17,-119.55 157.07,-118.37\"/>\n",
       "</g>\n",
       "<!-- Wage -->\n",
       "<g id=\"node6\" class=\"node\">\n",
       "<title>Wage</title>\n",
       "<ellipse fill=\"none\" stroke=\"black\" cx=\"161\" cy=\"-18\" rx=\"32.41\" ry=\"18\"/>\n",
       "<text text-anchor=\"middle\" x=\"161\" y=\"-12.95\" font-family=\"Times,serif\" font-size=\"14.00\">Wage</text>\n",
       "</g>\n",
       "<!-- IQ&#45;&gt;Wage -->\n",
       "<g id=\"edge5\" class=\"edge\">\n",
       "<title>IQ&#45;&gt;Wage</title>\n",
       "<path fill=\"none\" stroke=\"red\" d=\"M171.63,-145.07C177.74,-134.93 184.82,-121.25 188,-108 191.73,-92.44 191.73,-87.56 188,-72 185.77,-62.72 181.63,-53.23 177.26,-44.9\"/>\n",
       "<polygon fill=\"red\" stroke=\"red\" points=\"179.86,-43.39 171.91,-36.39 173.76,-46.82 179.86,-43.39\"/>\n",
       "</g>\n",
       "<!-- Educ&#45;&gt;Wage -->\n",
       "<g id=\"edge6\" class=\"edge\">\n",
       "<title>Educ&#45;&gt;Wage</title>\n",
       "<path fill=\"none\" stroke=\"red\" d=\"M151.97,-71.7C153.26,-64.15 154.81,-55.12 156.25,-46.68\"/>\n",
       "<polygon fill=\"red\" stroke=\"red\" points=\"159.83,-47.55 158.07,-37.1 152.93,-46.37 159.83,-47.55\"/>\n",
       "</g>\n",
       "<!-- Crime -->\n",
       "<g id=\"node7\" class=\"node\">\n",
       "<title>Crime</title>\n",
       "<ellipse fill=\"none\" stroke=\"black\" cx=\"300\" cy=\"-162\" rx=\"34.46\" ry=\"18\"/>\n",
       "<text text-anchor=\"middle\" x=\"300\" y=\"-156.95\" font-family=\"Times,serif\" font-size=\"14.00\">Crime</text>\n",
       "</g>\n",
       "<!-- Police -->\n",
       "<g id=\"node8\" class=\"node\">\n",
       "<title>Police</title>\n",
       "<ellipse fill=\"none\" stroke=\"black\" cx=\"269\" cy=\"-90\" rx=\"33.95\" ry=\"18\"/>\n",
       "<text text-anchor=\"middle\" x=\"269\" y=\"-84.95\" font-family=\"Times,serif\" font-size=\"14.00\">Police</text>\n",
       "</g>\n",
       "<!-- Crime&#45;&gt;Police -->\n",
       "<g id=\"edge7\" class=\"edge\">\n",
       "<title>Crime&#45;&gt;Police</title>\n",
       "<path fill=\"none\" stroke=\"red\" d=\"M292.5,-144.05C288.99,-136.14 284.74,-126.54 280.82,-117.69\"/>\n",
       "<polygon fill=\"red\" stroke=\"red\" points=\"283.68,-116.52 276.44,-108.79 277.28,-119.35 283.68,-116.52\"/>\n",
       "</g>\n",
       "<!-- Violence -->\n",
       "<g id=\"node9\" class=\"node\">\n",
       "<title>Violence</title>\n",
       "<ellipse fill=\"none\" stroke=\"black\" cx=\"300\" cy=\"-18\" rx=\"44.19\" ry=\"18\"/>\n",
       "<text text-anchor=\"middle\" x=\"300\" y=\"-12.95\" font-family=\"Times,serif\" font-size=\"14.00\">Violence</text>\n",
       "</g>\n",
       "<!-- Crime&#45;&gt;Violence -->\n",
       "<g id=\"edge8\" class=\"edge\">\n",
       "<title>Crime&#45;&gt;Violence</title>\n",
       "<path fill=\"none\" stroke=\"red\" d=\"M304.87,-143.98C307.56,-133.67 310.64,-120.19 312,-108 313.78,-92.1 313.78,-87.9 312,-72 311.06,-63.62 309.32,-54.63 307.44,-46.48\"/>\n",
       "<polygon fill=\"red\" stroke=\"red\" points=\"310.66,-45.9 304.87,-37.02 303.86,-47.57 310.66,-45.9\"/>\n",
       "</g>\n",
       "<!-- Police&#45;&gt;Violence -->\n",
       "<g id=\"edge9\" class=\"edge\">\n",
       "<title>Police&#45;&gt;Violence</title>\n",
       "<path fill=\"none\" stroke=\"blue\" d=\"M276.5,-72.05C280.01,-64.14 284.26,-54.54 288.18,-45.69\"/>\n",
       "<polygon fill=\"blue\" stroke=\"blue\" points=\"291.72,-47.35 292.56,-36.79 285.32,-44.52 291.72,-47.35\"/>\n",
       "</g>\n",
       "</g>\n",
       "</svg>\n"
      ],
      "text/plain": [
       "<graphviz.graphs.Digraph at 0x15a31af40>"
      ]
     },
     "execution_count": 18,
     "metadata": {},
     "output_type": "execute_result"
    }
   ],
   "source": [
    "g = gr.Digraph()\n",
    "\n",
    "g.edge(\"W\", \"T\"), g.edge(\"W\", \"Y\"), g.edge(\"T\", \"Y\")\n",
    "\n",
    "g.edge(\"IQ\", \"Educ\", color=\"red\"), g.edge(\"IQ\", \"Wage\", color=\"red\"), g.edge(\"Educ\", \"Wage\", color=\"red\")\n",
    "\n",
    "g.edge(\"Crime\", \"Police\", color=\"red\"), g.edge(\"Crime\", \"Violence\", color=\"red\"), \n",
    "g.edge(\"Police\", \"Violence\", color=\"blue\")\n",
    "\n",
    "g"
   ]
  },
  {
   "cell_type": "markdown",
   "id": "51000d00",
   "metadata": {},
   "source": [
    "인과 그래프는 세상을 어떻게 이해하는지 표현해준다.\n",
    "\n",
    "또한, 교란 편향이 어떻게 작동하는지 이해하는데에도 유용하다.\n",
    "\n",
    "위의 그래프를 살펴보면, 교육이 임금을 유발하는 그래프를 얻을 수 있다.\n",
    "\n",
    "더 많은 교육은 더 높은 임금을 받는데 영향을 준다. 하지만 IQ는 임금과 교육 두 변수의 원인이 된다.\n",
    "\n",
    "앞서 설계한 모형이 IQ를 통제하지 않는다면, IQ가 임금에 미치는 영향의 일부가 교육과의 상관관계를 통해 흐를 것이다.\n",
    "\n",
    "그러면 교육의 영향을 과대평가 하게 될 것이다.  이것은 양의 편향(positive bias)의 한 예이다."
   ]
  },
  {
   "cell_type": "markdown",
   "id": "dcde82fd",
   "metadata": {},
   "source": [
    "\n",
    "반대로 음의 편향(negative bias)의 예시를 봐보자.\n",
    "\n",
    "경찰이 도시 폭력에 미치는 영향에 대한 인과 그래프를 생각해보자.\n",
    "\n",
    "경찰이 더 많은 도시에 더 많은 폭력사건이 일어나는 경우가 있다. 이러한 경우, 경찰이 폭력을 일으키는 뜻일까? \n",
    "\n",
    "경찰력이 증가하면 폭력은 감소할 확률이 높다. 하지만 '범죄'라는 세번 째 변수는 더 많은 폭력과 더 많은 경찰력을 유발한다.\n",
    "\n",
    "만약 이를 고려하지 않는다면, 폭력에 대한 범죄의 영향은 경찰력을 통해 흘러갈 것이다.\n",
    "\n",
    "그럼 경찰력이 폭력을 증가시키는 것처럼 보인다.  이러한 것이 음의 편향의 예이다.\n",
    "\n",
    "인과 그래프를 통해 회귀나 RCT가 교란 편향을 보정하는 방식도 확인할 수 있다.\n",
    "\n",
    "RCT는 처리 변수에 대한 교란 변수의 연결을 끊어서 그 효과를 보정한다.\n",
    "\n",
    "정의상, T를 랜덤으로 만들면 교란 편향은 사라지기 때문이다."
   ]
  },
  {
   "cell_type": "code",
   "execution_count": 19,
   "id": "70f7c82e",
   "metadata": {
    "ExecuteTime": {
     "end_time": "2023-09-04T20:37:30.921517Z",
     "start_time": "2023-09-04T20:37:30.823741Z"
    }
   },
   "outputs": [
    {
     "data": {
      "image/svg+xml": [
       "<?xml version=\"1.0\" encoding=\"UTF-8\" standalone=\"no\"?>\n",
       "<!DOCTYPE svg PUBLIC \"-//W3C//DTD SVG 1.1//EN\"\n",
       " \"http://www.w3.org/Graphics/SVG/1.1/DTD/svg11.dtd\">\n",
       "<!-- Generated by graphviz version 8.0.4 (20230421.1958)\n",
       " -->\n",
       "<!-- Pages: 1 -->\n",
       "<svg width=\"286pt\" height=\"116pt\"\n",
       " viewBox=\"0.00 0.00 285.86 116.00\" xmlns=\"http://www.w3.org/2000/svg\" xmlns:xlink=\"http://www.w3.org/1999/xlink\">\n",
       "<g id=\"graph0\" class=\"graph\" transform=\"scale(1 1) rotate(0) translate(4 112)\">\n",
       "<polygon fill=\"white\" stroke=\"none\" points=\"-4,4 -4,-112 281.86,-112 281.86,4 -4,4\"/>\n",
       "<!-- W -->\n",
       "<g id=\"node1\" class=\"node\">\n",
       "<title>W</title>\n",
       "<ellipse fill=\"none\" stroke=\"black\" cx=\"27\" cy=\"-90\" rx=\"27\" ry=\"18\"/>\n",
       "<text text-anchor=\"middle\" x=\"27\" y=\"-84.95\" font-family=\"Times,serif\" font-size=\"14.00\">W</text>\n",
       "</g>\n",
       "<!-- Y -->\n",
       "<g id=\"node2\" class=\"node\">\n",
       "<title>Y</title>\n",
       "<ellipse fill=\"none\" stroke=\"black\" cx=\"80\" cy=\"-18\" rx=\"27\" ry=\"18\"/>\n",
       "<text text-anchor=\"middle\" x=\"80\" y=\"-12.95\" font-family=\"Times,serif\" font-size=\"14.00\">Y</text>\n",
       "</g>\n",
       "<!-- W&#45;&gt;Y -->\n",
       "<g id=\"edge1\" class=\"edge\">\n",
       "<title>W&#45;&gt;Y</title>\n",
       "<path fill=\"none\" stroke=\"black\" d=\"M38.76,-73.46C45.49,-64.58 54.07,-53.25 61.66,-43.22\"/>\n",
       "<polygon fill=\"black\" stroke=\"black\" points=\"65.02,-45.58 68.27,-35.49 59.44,-41.35 65.02,-45.58\"/>\n",
       "</g>\n",
       "<!-- T -->\n",
       "<g id=\"node3\" class=\"node\">\n",
       "<title>T</title>\n",
       "<ellipse fill=\"none\" stroke=\"black\" cx=\"99\" cy=\"-90\" rx=\"27\" ry=\"18\"/>\n",
       "<text text-anchor=\"middle\" x=\"99\" y=\"-84.95\" font-family=\"Times,serif\" font-size=\"14.00\">T</text>\n",
       "</g>\n",
       "<!-- T&#45;&gt;Y -->\n",
       "<g id=\"edge2\" class=\"edge\">\n",
       "<title>T&#45;&gt;Y</title>\n",
       "<path fill=\"none\" stroke=\"black\" d=\"M94.4,-72.05C92.3,-64.32 89.76,-54.96 87.4,-46.27\"/>\n",
       "<polygon fill=\"black\" stroke=\"black\" points=\"90.55,-45.52 84.56,-36.79 83.8,-47.36 90.55,-45.52\"/>\n",
       "</g>\n",
       "<!-- IQ -->\n",
       "<g id=\"node4\" class=\"node\">\n",
       "<title>IQ</title>\n",
       "<ellipse fill=\"none\" stroke=\"black\" cx=\"173\" cy=\"-90\" rx=\"27\" ry=\"18\"/>\n",
       "<text text-anchor=\"middle\" x=\"173\" y=\"-84.95\" font-family=\"Times,serif\" font-size=\"14.00\">IQ</text>\n",
       "</g>\n",
       "<!-- Wage -->\n",
       "<g id=\"node5\" class=\"node\">\n",
       "<title>Wage</title>\n",
       "<ellipse fill=\"none\" stroke=\"black\" cx=\"191\" cy=\"-18\" rx=\"32.41\" ry=\"18\"/>\n",
       "<text text-anchor=\"middle\" x=\"191\" y=\"-12.95\" font-family=\"Times,serif\" font-size=\"14.00\">Wage</text>\n",
       "</g>\n",
       "<!-- IQ&#45;&gt;Wage -->\n",
       "<g id=\"edge3\" class=\"edge\">\n",
       "<title>IQ&#45;&gt;Wage</title>\n",
       "<path fill=\"none\" stroke=\"red\" d=\"M177.36,-72.05C179.32,-64.43 181.68,-55.23 183.89,-46.65\"/>\n",
       "<polygon fill=\"red\" stroke=\"red\" points=\"187.46,-47.83 186.56,-37.28 180.68,-46.09 187.46,-47.83\"/>\n",
       "</g>\n",
       "<!-- Educ -->\n",
       "<g id=\"node6\" class=\"node\">\n",
       "<title>Educ</title>\n",
       "<ellipse fill=\"none\" stroke=\"black\" cx=\"248\" cy=\"-90\" rx=\"29.86\" ry=\"18\"/>\n",
       "<text text-anchor=\"middle\" x=\"248\" y=\"-84.95\" font-family=\"Times,serif\" font-size=\"14.00\">Educ</text>\n",
       "</g>\n",
       "<!-- Educ&#45;&gt;Wage -->\n",
       "<g id=\"edge4\" class=\"edge\">\n",
       "<title>Educ&#45;&gt;Wage</title>\n",
       "<path fill=\"none\" stroke=\"red\" d=\"M235.35,-73.46C228.15,-64.62 218.96,-53.34 210.82,-43.34\"/>\n",
       "<polygon fill=\"red\" stroke=\"red\" points=\"213.04,-41.52 204.01,-35.98 207.61,-45.94 213.04,-41.52\"/>\n",
       "</g>\n",
       "</g>\n",
       "</svg>\n"
      ],
      "text/plain": [
       "<graphviz.graphs.Digraph at 0x158e50f10>"
      ]
     },
     "execution_count": 19,
     "metadata": {},
     "output_type": "execute_result"
    }
   ],
   "source": [
    "g = gr.Digraph()\n",
    "\n",
    "g.edge(\"W\", \"Y\"), g.edge(\"T\", \"Y\")\n",
    "\n",
    "g.edge(\"IQ\", \"Wage\", color=\"red\"), g.edge(\"Educ\", \"Wage\", color=\"red\")\n",
    "\n",
    "g"
   ]
  },
  {
   "cell_type": "markdown",
   "id": "8e07257e",
   "metadata": {},
   "source": [
    "반면, 회귀 분석은 교란 변수 W를 고정하고 T의 효과를 비교하여 교란 변수의 효과를 보정한다.\n",
    "\n",
    "회귀분석에서는 W가 여전히 T와 Y를 유발하고 있다. 다만, 그 값이 고정되어 있기 때문에 T와 Y의 변화에 영향을 줄 수 없다."
   ]
  },
  {
   "cell_type": "code",
   "execution_count": 20,
   "id": "b153f95e",
   "metadata": {
    "ExecuteTime": {
     "end_time": "2023-09-04T20:42:06.731852Z",
     "start_time": "2023-09-04T20:42:06.619739Z"
    }
   },
   "outputs": [
    {
     "data": {
      "image/svg+xml": [
       "<?xml version=\"1.0\" encoding=\"UTF-8\" standalone=\"no\"?>\n",
       "<!DOCTYPE svg PUBLIC \"-//W3C//DTD SVG 1.1//EN\"\n",
       " \"http://www.w3.org/Graphics/SVG/1.1/DTD/svg11.dtd\">\n",
       "<!-- Generated by graphviz version 8.0.4 (20230421.1958)\n",
       " -->\n",
       "<!-- Pages: 1 -->\n",
       "<svg width=\"305pt\" height=\"116pt\"\n",
       " viewBox=\"0.00 0.00 304.83 116.00\" xmlns=\"http://www.w3.org/2000/svg\" xmlns:xlink=\"http://www.w3.org/1999/xlink\">\n",
       "<g id=\"graph0\" class=\"graph\" transform=\"scale(1 1) rotate(0) translate(4 112)\">\n",
       "<polygon fill=\"white\" stroke=\"none\" points=\"-4,4 -4,-112 300.83,-112 300.83,4 -4,4\"/>\n",
       "<!-- W=w -->\n",
       "<g id=\"node1\" class=\"node\">\n",
       "<title>W=w</title>\n",
       "<ellipse fill=\"none\" stroke=\"black\" cx=\"32.41\" cy=\"-90\" rx=\"32.41\" ry=\"18\"/>\n",
       "<text text-anchor=\"middle\" x=\"32.41\" y=\"-84.95\" font-family=\"Times,serif\" font-size=\"14.00\">W=w</text>\n",
       "</g>\n",
       "<!-- T -->\n",
       "<g id=\"node2\" class=\"node\">\n",
       "<title>T</title>\n",
       "<ellipse fill=\"none\" stroke=\"black\" cx=\"109.41\" cy=\"-90\" rx=\"27\" ry=\"18\"/>\n",
       "<text text-anchor=\"middle\" x=\"109.41\" y=\"-84.95\" font-family=\"Times,serif\" font-size=\"14.00\">T</text>\n",
       "</g>\n",
       "<!-- Y -->\n",
       "<g id=\"node3\" class=\"node\">\n",
       "<title>Y</title>\n",
       "<ellipse fill=\"none\" stroke=\"black\" cx=\"109.41\" cy=\"-18\" rx=\"27\" ry=\"18\"/>\n",
       "<text text-anchor=\"middle\" x=\"109.41\" y=\"-12.95\" font-family=\"Times,serif\" font-size=\"14.00\">Y</text>\n",
       "</g>\n",
       "<!-- T&#45;&gt;Y -->\n",
       "<g id=\"edge1\" class=\"edge\">\n",
       "<title>T&#45;&gt;Y</title>\n",
       "<path fill=\"none\" stroke=\"black\" d=\"M109.41,-71.7C109.41,-64.24 109.41,-55.32 109.41,-46.97\"/>\n",
       "<polygon fill=\"black\" stroke=\"black\" points=\"112.91,-47.1 109.41,-37.1 105.91,-47.1 112.91,-47.1\"/>\n",
       "</g>\n",
       "<!-- IQ=x -->\n",
       "<g id=\"node4\" class=\"node\">\n",
       "<title>IQ=x</title>\n",
       "<ellipse fill=\"none\" stroke=\"black\" cx=\"185.41\" cy=\"-90\" rx=\"30.88\" ry=\"18\"/>\n",
       "<text text-anchor=\"middle\" x=\"185.41\" y=\"-84.95\" font-family=\"Times,serif\" font-size=\"14.00\">IQ=x</text>\n",
       "</g>\n",
       "<!-- Educ -->\n",
       "<g id=\"node5\" class=\"node\">\n",
       "<title>Educ</title>\n",
       "<ellipse fill=\"none\" stroke=\"black\" cx=\"264.41\" cy=\"-90\" rx=\"29.86\" ry=\"18\"/>\n",
       "<text text-anchor=\"middle\" x=\"264.41\" y=\"-84.95\" font-family=\"Times,serif\" font-size=\"14.00\">Educ</text>\n",
       "</g>\n",
       "<!-- Wage -->\n",
       "<g id=\"node6\" class=\"node\">\n",
       "<title>Wage</title>\n",
       "<ellipse fill=\"none\" stroke=\"black\" cx=\"264.41\" cy=\"-18\" rx=\"32.41\" ry=\"18\"/>\n",
       "<text text-anchor=\"middle\" x=\"264.41\" y=\"-12.95\" font-family=\"Times,serif\" font-size=\"14.00\">Wage</text>\n",
       "</g>\n",
       "<!-- Educ&#45;&gt;Wage -->\n",
       "<g id=\"edge2\" class=\"edge\">\n",
       "<title>Educ&#45;&gt;Wage</title>\n",
       "<path fill=\"none\" stroke=\"red\" d=\"M264.41,-71.7C264.41,-64.24 264.41,-55.32 264.41,-46.97\"/>\n",
       "<polygon fill=\"red\" stroke=\"red\" points=\"267.91,-47.1 264.41,-37.1 260.91,-47.1 267.91,-47.1\"/>\n",
       "</g>\n",
       "</g>\n",
       "</svg>\n"
      ],
      "text/plain": [
       "<graphviz.graphs.Digraph at 0x15a31a3a0>"
      ]
     },
     "execution_count": 20,
     "metadata": {},
     "output_type": "execute_result"
    }
   ],
   "source": [
    "g = gr.Digraph()\n",
    "\n",
    "g.node(\"W=w\"), g.edge(\"T\", \"Y\")\n",
    "g.node(\"IQ=x\"), g.edge(\"Educ\", \"Wage\", color=\"red\")\n",
    "\n",
    "g"
   ]
  },
  {
   "cell_type": "markdown",
   "id": "7edf2c1d",
   "metadata": {},
   "source": [
    "우리는 교육 기간(educ)가 임금에 미치는 영향을 추정했다.\n",
    "\n",
    "이 파라미터가 인과 관계일까? \n",
    "- 모든 교란 요인이 모델에 포함되었다고 말할 수 있느냐, 아니냐에 따라 달라진다.\n",
    "\n",
    "위 사례에서는 가족의 재산, 개인적인 야망과 같은 요소들을 고려하지 않았다. 야망은 더 오랜 교육기간과 더 높은 임금 모두를 유발할 수 있으니 교란 변수로 간주할 수 있을 것이다. \n",
    "\n",
    "이것은 ***랜덤하지 않은, 혹은 관측 데이터를 사용한 인과 추론은 항상 어림짐작*** 으로 간주해야한다는 것을 보여준다.\n",
    "\n",
    "우리는 모든 교란 변수를 고려하였는지 결코 확신할 수 없다."
   ]
  },
  {
   "cell_type": "code",
   "execution_count": null,
   "id": "7fadab10",
   "metadata": {},
   "outputs": [],
   "source": []
  }
 ],
 "metadata": {
  "kernelspec": {
   "display_name": "Python 3 (ipykernel)",
   "language": "python",
   "name": "python3"
  },
  "language_info": {
   "codemirror_mode": {
    "name": "ipython",
    "version": 3
   },
   "file_extension": ".py",
   "mimetype": "text/x-python",
   "name": "python",
   "nbconvert_exporter": "python",
   "pygments_lexer": "ipython3",
   "version": "3.9.12"
  },
  "toc": {
   "base_numbering": 1,
   "nav_menu": {},
   "number_sections": true,
   "sideBar": true,
   "skip_h1_title": false,
   "title_cell": "Table of Contents",
   "title_sidebar": "Contents",
   "toc_cell": false,
   "toc_position": {},
   "toc_section_display": true,
   "toc_window_display": false
  }
 },
 "nbformat": 4,
 "nbformat_minor": 5
}
