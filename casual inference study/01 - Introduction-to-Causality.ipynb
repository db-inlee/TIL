{
 "cells": [
  {
   "cell_type": "markdown",
   "id": "35ce53b1",
   "metadata": {},
   "source": [
    "# Introduction To Casuality"
   ]
  },
  {
   "cell_type": "markdown",
   "id": "d122a47c",
   "metadata": {},
   "source": [
    "## 연관성(Association)이 인과관계(Causation)가 될 때\n",
    "\n",
    "직관적으로 봤을때 연관성은 인과관계와 다르다\n",
    "\n",
    "- 예시)\n",
    "    1. 학생들에게 태블릿 PC를 제공하는 학교 A 와 제공하지 않는 학교 B가 있다.\n",
    "    2. A학교가 B학교보다 좋은 성적을 가진다면, A학교가 더 부유할 것이다.\n",
    "    3. 부유한 환경은 태블릿을 제공하지 않더라도 평균보다 더 잘 할 수 있을 것.\n",
    "    4. 따라서 태블릿의 제공하는 것이 학업 성취도를 높일 것이라 결론지을 수는 없다.\n",
    "    5. 단지 제공되는 태블릿이 높은 학업 성과와 관련이 있다고 말할 수 있다.(연관)"
   ]
  },
  {
   "cell_type": "code",
   "execution_count": 1,
   "id": "102376ad",
   "metadata": {
    "ExecuteTime": {
     "end_time": "2023-08-21T16:48:31.795487Z",
     "start_time": "2023-08-21T16:48:30.940782Z"
    }
   },
   "outputs": [],
   "source": [
    "import pandas as pd\n",
    "import numpy as np\n",
    "from scipy.special import expit\n",
    "import matplotlib.pyplot as plt\n",
    "import seaborn as sns\n",
    "\n",
    "np.random.seed(123)"
   ]
  },
  {
   "cell_type": "code",
   "execution_count": 6,
   "id": "c753377c",
   "metadata": {
    "ExecuteTime": {
     "end_time": "2023-08-21T16:55:30.796105Z",
     "start_time": "2023-08-21T16:55:30.787175Z"
    }
   },
   "outputs": [],
   "source": [
    "n = 100\n",
    "# tution : 평균이 1000, 표준편차 300을 가지는 정규분포에서 n개 추출\n",
    "tuition = np.random.normal(1000,300,n).round() \n",
    "# tablet : 이항분포로 성공, 실패 결과 생성\n",
    "tablet = np.random.binomial(1, expit((tuition-tuition.mean()) / tuition.std())).astype(bool)\n",
    "\n",
    "score = np.random.normal(200 - 50 * tablet + 0.7 * tuition, 200)\n",
    "score = (score - score.min()) / score.max()\n",
    "score *= 1000\n",
    "\n",
    "data = pd.DataFrame(dict(score=score, Tuition=tuition, Tablet=tablet))"
   ]
  },
  {
   "cell_type": "code",
   "execution_count": 7,
   "id": "f254fe1a",
   "metadata": {
    "ExecuteTime": {
     "end_time": "2023-08-21T16:55:47.390484Z",
     "start_time": "2023-08-21T16:55:47.319143Z"
    }
   },
   "outputs": [
    {
     "data": {
      "image/png": "[encoded data removed]",
      "text/plain": [
       "<Figure size 432x576 with 1 Axes>"
      ]
     },
     "metadata": {
      "needs_background": "light"
     },
     "output_type": "display_data"
    }
   ],
   "source": [
    "plt.figure(figsize=(6,8))\n",
    "sns.boxplot(y=\"score\", x=\"Tablet\", data = data).set_title('Score by Tuition Cost')\n",
    "plt.show()"
   ]
  },
  {
   "cell_type": "markdown",
   "id": "cf7e5b33",
   "metadata": {},
   "source": [
    "$T_i$는 unit i (실험대상 i)에 대한 Treatment (처치) 여부를 나타냅니다.\n",
    "\n",
    "$\n",
    "T_i=\\begin{cases}\n",
    "1 \\ \\text{: 실험대상 i가 Treatment를 받은 경우}\\\\\n",
    "0 \\ \\text{: 실험대상 i가 Treatment를 받지 않은 경우}\\\\\n",
    "\\end{cases}\n",
    "$\n",
    "\n",
    "위의 경우에서 treatment는 학생들에게 태블릿을 제공한 것에 해당한다.($T$ 대신 $D$로 표시하는 경우도 있다)\n",
    "\n",
    "unit i에 대한 결과변수(Outcome Variable)을 $Y_i$로 정의한다.\n",
    "\n",
    "결과(Outcome)은 우리가 관심있는 변수이다. \n",
    "\n",
    "우리는 인과추론에서 Treatment가 Outcome에 영향을 미치는지 궁금해할 것이다.\n",
    "\n",
    "하지만 인과추론의 근본적인 문제는 Treatment가 있든 없든 같은 실험 대상에 대해 동시에 관찰할 수 없다는 점이다.\n",
    "\n",
    "이 문제를 해결하기 위해 잠재적 결과(Potential Outcomes)라는 개념이 등장한다.\n",
    "\n",
    "Potential Outcomes는 실제로 일어나지 않았으나, 발생할 수 있는 결과를 의미한다.\n",
    "\n",
    "대신 Treatment를 받은 경우, 무슨일이 일어났을지를 나타낸다. \n",
    "\n",
    "이렇게 일어난 잠재적 결과를 우리는 사실(factual)이라고 부르고, 일어나지 않은 결과를 반사실(counterfactual)이라고 칭한다.\n",
    "\n",
    "$Y_{0i}$ : 실험대상 i가 Treatment를 받지 않은 잠재적 결과를 의미 \n",
    "\n",
    "$Y_{1i}$ : **같은 실험대상 i**가 Treatment를 받은 잠재적 결과를 의미\n",
    "\n",
    "잠재적 결과를 함수 $Y_i(t)$로 표기하는 경우도 있다. \n",
    "$Y_{0i}$가 $Y_i(0)$로 표기될 수 있고 $Y_{1i}$는 $Y_i(1)$으로 표기될 수 있다."
   ]
  },
  {
   "cell_type": "markdown",
   "id": "ed2a4ff3",
   "metadata": {},
   "source": [
    "- 위의 예제에서 $Y_{1i}$는 태블릿이 있는 교실에 있는 경우 학생 i에 대한 학업 성취도를 나타낸다. \n",
    "    만약 학생 i가 태블릿을 받았다면, $Y_{1i}$를 관찰할 수 있다. 만약 태블릿을 받지 못한 경우는 $Y_{0i}$를 관찰 할 수 있고,\n",
    "    태블릿을 받지 못한 경우, $Y_{1i}$가 여전히 정의되어 있지만 우리가 관측할 수 없다. 이 경우가 반사실적 잠재적 결과(counterfactual potential outcome)이다.\n",
    "    \n",
    "potential outcomes을 통해, 개별 처치 효과(ITE, Individual Treatment, Effect)를 정의할 수 있다.\n",
    "\n",
    "$ITE = $Y_{1i} - Y_{0i}$\n",
    "\n",
    "물론, 인과추론의 근본적인 문제로 인해 잠재적 결과 중 하나만 관찰할 수 있다. 그렇기 때문에 ITE를 알 수 없다. \n",
    "\n",
    "그래서 당분간은 ITE를 추정하는 것 대신, 추정하기 더 쉬운 **평균 처치 효과 (ATE, Average Treatment Effect)**에 대해 알아보자\n",
    "\n",
    "$ATE = E[Y_1 - Y_0]$\n",
    "\n",
    "`E[...]` 는 기댓값. \n",
    "\n",
    "조금 더 추정하기 쉬운 값은 **처치받은 그룹에 대한 평균 처치 효과(ATET/ATT, average treatment effect on the treated)** 이다\n",
    "\n",
    "$ATT = E[Y_1 - Y_0 | T=1]$\n",
    "\n",
    "위의 사례에서 본 것 처럼, 두 가지 잠재적 결과를 모두 볼 수 없다는 것을 확인했다. \n",
    "\n",
    "하지만, counterfactual도 볼 수 있다고 가정해보자. \n",
    "\n",
    "잠재적 대안의 결과를 알 수 있다고 가정하고, 4개의 학교 학생들에게 태블릿 제공 여부와 연간 학업 시험 점수를 알 수 있다고 해보자.\n",
    "\n",
    "여기서 태블릿은 Treatment, 학생에게 태블릿을 제공하는 경우는 $T=1$이고, $Y$는 학업 성취에 대한 시험 점수가 된다"
   ]
  },
  {
   "cell_type": "code",
   "execution_count": 9,
   "id": "e06108e0",
   "metadata": {
    "ExecuteTime": {
     "end_time": "2023-08-22T01:35:52.697794Z",
     "start_time": "2023-08-22T01:35:52.675419Z"
    }
   },
   "outputs": [
    {
     "data": {
      "text/html": [
       "<div>\n",
       "<style scoped>\n",
       "    .dataframe tbody tr th:only-of-type {\n",
       "        vertical-align: middle;\n",
       "    }\n",
       "\n",
       "    .dataframe tbody tr th {\n",
       "        vertical-align: top;\n",
       "    }\n",
       "\n",
       "    .dataframe thead th {\n",
       "        text-align: right;\n",
       "    }\n",
       "</style>\n",
       "<table border=\"1\" class=\"dataframe\">\n",
       "  <thead>\n",
       "    <tr style=\"text-align: right;\">\n",
       "      <th></th>\n",
       "      <th>i</th>\n",
       "      <th>y0</th>\n",
       "      <th>y1</th>\n",
       "      <th>t</th>\n",
       "      <th>y</th>\n",
       "      <th>te</th>\n",
       "    </tr>\n",
       "  </thead>\n",
       "  <tbody>\n",
       "    <tr>\n",
       "      <th>0</th>\n",
       "      <td>1</td>\n",
       "      <td>500</td>\n",
       "      <td>450</td>\n",
       "      <td>0</td>\n",
       "      <td>500</td>\n",
       "      <td>-50</td>\n",
       "    </tr>\n",
       "    <tr>\n",
       "      <th>1</th>\n",
       "      <td>2</td>\n",
       "      <td>600</td>\n",
       "      <td>600</td>\n",
       "      <td>0</td>\n",
       "      <td>600</td>\n",
       "      <td>0</td>\n",
       "    </tr>\n",
       "    <tr>\n",
       "      <th>2</th>\n",
       "      <td>3</td>\n",
       "      <td>800</td>\n",
       "      <td>600</td>\n",
       "      <td>1</td>\n",
       "      <td>600</td>\n",
       "      <td>-200</td>\n",
       "    </tr>\n",
       "    <tr>\n",
       "      <th>3</th>\n",
       "      <td>4</td>\n",
       "      <td>700</td>\n",
       "      <td>750</td>\n",
       "      <td>1</td>\n",
       "      <td>750</td>\n",
       "      <td>50</td>\n",
       "    </tr>\n",
       "  </tbody>\n",
       "</table>\n",
       "</div>"
      ],
      "text/plain": [
       "   i   y0   y1  t    y   te\n",
       "0  1  500  450  0  500  -50\n",
       "1  2  600  600  0  600    0\n",
       "2  3  800  600  1  600 -200\n",
       "3  4  700  750  1  750   50"
      ]
     },
     "execution_count": 9,
     "metadata": {},
     "output_type": "execute_result"
    }
   ],
   "source": [
    "pd.DataFrame(dict(\n",
    "    i= [1,2,3,4],\n",
    "    y0=[500,600,800,700],\n",
    "    y1=[450,600,600,750],\n",
    "    t= [0,0,1,1],\n",
    "    y= [500,600,600,750],\n",
    "    te=[-50,0,-200,50],\n",
    "))"
   ]
  },
  {
   "cell_type": "markdown",
   "id": "26094460",
   "metadata": {},
   "source": [
    "$ATE$(평균처지효과)는 마지막 컬럼에 대한 평균 -> 개별 처치효과(ITE)에 대한 평균\n",
    "\n",
    "$ATE$ = (-50 + 0 - 200 + 50) / 4 = -50\n",
    "\n",
    "$ATE$의 값은 -50이므로, 태블릿이 학생들의 학업 성취도를 평균적으로 50점 감소시켰음을 의미한다.\n",
    "\n",
    "여기서, $ATT$(처치받은 그룹에 대한 평균처치효과)는 $T$=1일 때 마지막 컬럼의 평균이다.\n",
    "\n",
    "$ATT$ = (-200 + 50) / 2 = -75\n",
    "\n",
    "태블릿을 받은 학교는 태블릿이 학생들의 학업 성취도를 평균적으로 75점 감소시켰음을 의미한다.\n",
    "\n",
    "물론 우리는 해당 결과를 알 수 없다(counterfactuals) -> 실제로는 동시에 y0과 y1을 알 수 없기 때문에\n",
    "\n",
    "실제로 보게 될 데이터는 아래와 같다"
   ]
  },
  {
   "cell_type": "code",
   "execution_count": 10,
   "id": "5eb86f79",
   "metadata": {
    "ExecuteTime": {
     "end_time": "2023-08-22T01:48:38.828088Z",
     "start_time": "2023-08-22T01:48:38.807643Z"
    }
   },
   "outputs": [
    {
     "data": {
      "text/html": [
       "<div>\n",
       "<style scoped>\n",
       "    .dataframe tbody tr th:only-of-type {\n",
       "        vertical-align: middle;\n",
       "    }\n",
       "\n",
       "    .dataframe tbody tr th {\n",
       "        vertical-align: top;\n",
       "    }\n",
       "\n",
       "    .dataframe thead th {\n",
       "        text-align: right;\n",
       "    }\n",
       "</style>\n",
       "<table border=\"1\" class=\"dataframe\">\n",
       "  <thead>\n",
       "    <tr style=\"text-align: right;\">\n",
       "      <th></th>\n",
       "      <th>i</th>\n",
       "      <th>y0</th>\n",
       "      <th>y1</th>\n",
       "      <th>t</th>\n",
       "      <th>y</th>\n",
       "      <th>te</th>\n",
       "    </tr>\n",
       "  </thead>\n",
       "  <tbody>\n",
       "    <tr>\n",
       "      <th>0</th>\n",
       "      <td>1</td>\n",
       "      <td>500.0</td>\n",
       "      <td>NaN</td>\n",
       "      <td>0</td>\n",
       "      <td>500</td>\n",
       "      <td>NaN</td>\n",
       "    </tr>\n",
       "    <tr>\n",
       "      <th>1</th>\n",
       "      <td>2</td>\n",
       "      <td>600.0</td>\n",
       "      <td>NaN</td>\n",
       "      <td>0</td>\n",
       "      <td>600</td>\n",
       "      <td>NaN</td>\n",
       "    </tr>\n",
       "    <tr>\n",
       "      <th>2</th>\n",
       "      <td>3</td>\n",
       "      <td>NaN</td>\n",
       "      <td>600.0</td>\n",
       "      <td>1</td>\n",
       "      <td>600</td>\n",
       "      <td>NaN</td>\n",
       "    </tr>\n",
       "    <tr>\n",
       "      <th>3</th>\n",
       "      <td>4</td>\n",
       "      <td>NaN</td>\n",
       "      <td>750.0</td>\n",
       "      <td>1</td>\n",
       "      <td>750</td>\n",
       "      <td>NaN</td>\n",
       "    </tr>\n",
       "  </tbody>\n",
       "</table>\n",
       "</div>"
      ],
      "text/plain": [
       "   i     y0     y1  t    y  te\n",
       "0  1  500.0    NaN  0  500 NaN\n",
       "1  2  600.0    NaN  0  600 NaN\n",
       "2  3    NaN  600.0  1  600 NaN\n",
       "3  4    NaN  750.0  1  750 NaN"
      ]
     },
     "execution_count": 10,
     "metadata": {},
     "output_type": "execute_result"
    }
   ],
   "source": [
    "pd.DataFrame(dict(\n",
    "    i= [1,2,3,4],\n",
    "    y0=[500,600,np.nan,np.nan],\n",
    "    y1=[np.nan,np.nan,600,750],\n",
    "    t= [0,0,1,1],\n",
    "    y= [500,600,600,750],\n",
    "    te=[np.nan,np.nan,np.nan,np.nan],\n",
    "))"
   ]
  },
  {
   "cell_type": "markdown",
   "id": "8d01a210",
   "metadata": {},
   "source": [
    "## Bias(편향)\n",
    "\n",
    "Bias는 연관성을 인과관계와 다르게 만든다.\n",
    "\n",
    "연관성이 인과관계가 아닌 이유를 수식으로 표현하면 아래와 같다.\n",
    "\n",
    "연관성은 $E[Y|T=1] - E[Y|T=0]$로 측정된다. 이는 태블릿이 있는 학교의 평균 시험 점수에서 태블릿이 없는 학교의 평균 시험 점수를 뺀 값. \n",
    "\n",
    "반면 인과관계는 $E[Y_1 - Y_0]$로 측정한다.\n",
    "\n",
    "\n",
    "### 연관성을 측정하고 관찰된 결과가 어떻게 Potential outcomes로 관련되는지 알아보자\n",
    "\n",
    "처치를 받은 경우 관찰된 결과는 $Y_1$, 처치를 받지 않은 경우 관찰된 결과는 $Y_0$이다 \n",
    "\n",
    "$\n",
    "E[Y|T=1] - E[Y|T=0] = E[Y_1|T=1] - E[Y_0|T=0]\n",
    "$\n",
    "\n",
    "이제, $E[Y_0|T=1]$를 더하고 뺀다. \n",
    "\n",
    "$\n",
    "E[Y|T=1] - E[Y|T=0] = E[Y_1|T=1] - E[Y_0|T=0] + E[Y_0|T=1] - E[Y_0|T=1]\n",
    "$\n",
    "\n",
    "이 부분은 counterfactual outcome에 대한 부분으로 처치를 받지 않았다면 처치의 결과가 어떠했을 것인지를 의미.\n",
    "\n",
    "수식을 재정리하면 아래와 같다.\n",
    "\n",
    "$\n",
    "E[Y|T=1] - E[Y|T=0] = \\underbrace{E[Y_1 - Y_0|T=1]}_{ATT} + \\underbrace{\\{ E[Y_0|T=1] - E[Y_0|T=0] \\}}_{BIAS}\n",
    "$\n",
    "\n",
    "\n",
    "정리한 식을 살펴보면 연관성은 처치에 대한 처치효과(ATT)에 편향(Bias)를 더한것과 같다.\n",
    "\n",
    "Bias는 실험군과 대조군이 처치를 받지 않은 경우, 처치 전에 실험군과 대조군이 어떻게 다른지를 나타냄.\n",
    "\n",
    "위의 데이터 예시에서 보면 $E[Y_0|T=0] < E[Y_0|T=1]$ 으로 보았을 때, 태블릿 제공 여부와 무관하게 학생들에게 처치를 받은 학교가 그렇지 않은 학교보다 낫다고 생각할 수 있다.\n",
    "\n",
    "하지만 태블릿 제공여부 이외에도 다른 변수들이 존재할 것이다.(ex.수강료, 위치, 교사 등등)\n",
    "\n",
    "**태블릿 제공이 학업 성적 향상에 도움이 된다고 이야기하기 위해서는 태블릿이 있는 학교와 없는 학교가 평균적으로 서로 비슷해야 비교 가능하다.**"
   ]
  },
  {
   "cell_type": "code",
   "execution_count": 12,
   "id": "d3c30ccb",
   "metadata": {
    "ExecuteTime": {
     "end_time": "2023-08-22T02:26:26.124131Z",
     "start_time": "2023-08-22T02:26:25.966550Z"
    }
   },
   "outputs": [
    {
     "data": {
      "image/png": "[encoded data removed]",
      "text/plain": [
       "<Figure size 720x432 with 1 Axes>"
      ]
     },
     "metadata": {
      "needs_background": "light"
     },
     "output_type": "display_data"
    }
   ],
   "source": [
    "plt.figure(figsize=(10,6))\n",
    "sns.scatterplot(x=\"Tuition\", y=\"score\", hue=\"Tablet\", data=data, s=70).set_title('Score by Tuition Cost')\n",
    "plt.show()"
   ]
  },
  {
   "cell_type": "markdown",
   "id": "2a2ec7a7",
   "metadata": {},
   "source": [
    "연관성을 인과관계와 같게 만들어주기 위해서는 $E[Y_0|T=0] = E[Y_0|T=1]$을 만족해야한다.\n",
    "\n",
    "- 이 식은 실험군과 대조군이 비교 가능하다는 것을 의미\n",
    "- 실험군이 처치 받지 않았을 때 $Y_0$을 관찰할 수 있다면, 그 결과는 처치 받지 않은 것과 같다.\n",
    "- bias가 0이 되어 사라진다"
   ]
  },
  {
   "cell_type": "markdown",
   "id": "cb6cc9fb",
   "metadata": {},
   "source": [
    "$\n",
    "ATT = (E[Y|T=1] - E[Y|T=0] = E[Y_1 - Y_0|T=1])\n",
    "$\n",
    "에서도 처치받은 그룹과 처치받지 않은 그룹이 Treatment에서만 다른 경우, \n",
    "\n",
    "$E[Y_0|T=0] = E[Y_0|T=1]$이고 처치를 받은 그룹에 대한 인과 효과는 처치를 받지 않은 그룹과 같다(두 그룹이 매우 유사하기에)\n",
    "\n",
    "\n",
    "\n",
    "\\\n",
    "\\\n",
    "$\n",
    "\\begin{align}\n",
    "E[Y_1 - Y_0|T=1] &= E[Y_1|T=1] - E[Y_0|T=1] \\\\\n",
    "&= E[Y_1|T=1] - E[Y_0|T=0] \\\\\n",
    "&= E[Y|T=1] - E[Y|T=0]\n",
    "\\end{align}\n",
    "$\n",
    "\\\n",
    "\\\n",
    "위와 같이 비교가능한 그룹일 경우, 두 집단의 평균차이가 인과효과가 된다.\n",
    "\\\n",
    "\\\n",
    "$\n",
    "E[Y|T=1] - E[Y|T=0] = ATT\n",
    "$\n",
    "\\\n",
    "\\\n",
    "위에서 처치된 그룹과 처치괴지 않은 그룹이 Treatment에서만 다른 경우 $E[Y_1|T=1] - E[Y_1|T=0]$로도 표현 가능.\n",
    "\n",
    "이제 실험군과 대조군이 모두 Treatment에서 유사하게 반응하는지 확인해야합니다.\n",
    "\n",
    "처치 전 교환가능(exchangable, 비교가능)하며, 처치 후에도 실험군과 대조군이 교환 가능.\n",
    "\n",
    "해당 경우는 다음과 같이 표현 ->  $E[Y_1 - Y_0|T=1]=E[Y_1 - Y_0|T=0]$ 및 $E[Y|T=1] - E[Y|T=0] = ATT = ATE$"
   ]
  },
  {
   "cell_type": "markdown",
   "id": "929acd1a",
   "metadata": {
    "ExecuteTime": {
     "end_time": "2023-08-22T02:49:26.510262Z",
     "start_time": "2023-08-22T02:49:26.502766Z"
    }
   },
   "source": [
    "아래 그림을 봐보자"
   ]
  },
  {
   "cell_type": "markdown",
   "id": "62364f75",
   "metadata": {},
   "source": [
    "![img](./data/img/intro/anatomy1.png)"
   ]
  },
  {
   "cell_type": "markdown",
   "id": "41e48839",
   "metadata": {},
   "source": [
    "위 그림에서 파란색점은 처치받지 않은 그룹, 빨간색 점은 처치 받은 그룹이다.\n",
    "\n",
    "두 그룹간의 결과 차이는 2가지 원인을 가진다.\n",
    "- 처치효과. 시험 점수의 증가는 학생들에게 태블릿을 제공함으로써 발생\n",
    "- 시험 점수의 일부 차이는 더 나은 교육을 위한 등록금 때문일 수 있다.이 경우, 처치를 받은 학생들의 수업료가 훨씬 비싸기 때문에 실험군과 대조군에서 차이가 발생함. 즉, 처치 받은 그룹과 받지 않은 그룹의 차이는 Treatment 자체가 아니게 된다."
   ]
  },
  {
   "cell_type": "markdown",
   "id": "5563e828",
   "metadata": {},
   "source": [
    "ITE는 동일한 실험 대상에 대한 결과와 다른 대안의 처치를 받았을 경우, 얻을 수 있는 이론적 결과간의 차이이다.\n",
    "\n",
    "실제 처치 효과는 아래 왼쪽 그림과 같이 잠재적 결과를 관찰할 수 있는 신과 같은 힘이 있어야만 얻을 수 있다. 이는 반사실 결과(counterfactual outcomes)이며 밝은 색으로 표시된다\n",
    "\n",
    "![img](./data/img/intro/anatomy2.png)\n"
   ]
  },
  {
   "cell_type": "markdown",
   "id": "62b250e2",
   "metadata": {},
   "source": [
    "오른쪽 그래프에서는 bias를 나타냈다. 실험에 참가한 모든 대상이 처치를 받지 않는다면, 편향이 생긴다. \n",
    "\n",
    "이 경우, $T_0$ 잠재적 결과만 남게된다. 그런 다음 처치된 그룹과 처치되지 않은 그룹이 어떻게 다른지 확인.\n",
    "\n",
    "만약 그렇다면, Treatment 이외의 다른 요인이 실험군과 대조군을 다르게 만드는 원인이 될 것 -> 이것이 bias이며, Treatment에 대한 실질적인 효과를 실제 치료 효과를 가리게 된다.\n",
    "\n",
    "bias가 없는 가상의 상황과 대조해보자.\n",
    "\n",
    "태블릿이 학교에 무작위로 할당되었다고 가정 -> 부유한 학교와 가난한 학교가 태블릿을 받을 기회는 동일하다. 즉, Treatment인 태블릿 제공 여부는 등록금 전반에 걸쳐서 고르게 분배될 것.\n",
    "\n",
    "![img](./data/img/intro/anatomy3.png)\n"
   ]
  },
  {
   "cell_type": "markdown",
   "id": "6838bc12",
   "metadata": {
    "ExecuteTime": {
     "end_time": "2023-08-22T03:15:45.099892Z",
     "start_time": "2023-08-22T03:15:45.094548Z"
    }
   },
   "source": [
    "위 경우에서는 처치를 받은 그룹과 받지 않은 그룹의 차이는 평균 인과 효과에 해당\n",
    "\n",
    "그 이유는 Treatment이외에 처치받은 그룹과 받지않은 그룹 사이 차이의 다른 원인이 없기 때문.\n",
    "\n",
    "이런 경우 bias가 없다"
   ]
  },
  {
   "cell_type": "markdown",
   "id": "11799c91",
   "metadata": {},
   "source": [
    "![img](./data/img/intro/anatomy4.png)"
   ]
  },
  {
   "cell_type": "markdown",
   "id": "3787a1a4",
   "metadata": {},
   "source": [
    "$Y_0$만 관찰하도록 모든 실험 대상이 처치 받지 않도록 설계하면, 실험군과 대조군 간의 차이가 존재하지 않을 것이다.\n",
    "\n",
    "이러한 부분이 인과추론에 있어서 정말 힘든 부분이다.\n",
    "\n",
    "Bias를 제거하고 실험군과 대조군을 비교 가능하게 하는 방법을 찾아서, 모든 차이가 평균적인 처리 효과(ATE)만으로 추정할 수 있게끔 해야한다.\n"
   ]
  },
  {
   "cell_type": "code",
   "execution_count": null,
   "id": "dd3fcd23",
   "metadata": {},
   "outputs": [],
   "source": []
  }
 ],
 "metadata": {
  "kernelspec": {
   "display_name": "Python 3 (ipykernel)",
   "language": "python",
   "name": "python3"
  },
  "language_info": {
   "codemirror_mode": {
    "name": "ipython",
    "version": 3
   },
   "file_extension": ".py",
   "mimetype": "text/x-python",
   "name": "python",
   "nbconvert_exporter": "python",
   "pygments_lexer": "ipython3",
   "version": "3.9.12"
  },
  "toc": {
   "base_numbering": 1,
   "nav_menu": {},
   "number_sections": true,
   "sideBar": true,
   "skip_h1_title": false,
   "title_cell": "Table of Contents",
   "title_sidebar": "Contents",
   "toc_cell": false,
   "toc_position": {},
   "toc_section_display": true,
   "toc_window_display": false
  }
 },
 "nbformat": 4,
 "nbformat_minor": 5
}
